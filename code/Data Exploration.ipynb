{
 "cells": [
  {
   "cell_type": "markdown",
   "metadata": {},
   "source": [
    "# Exploring Dataset and Feature Engineering"
   ]
  },
  {
   "cell_type": "code",
   "execution_count": 1,
   "metadata": {},
   "outputs": [],
   "source": [
    "# Import Libraries\n",
    "import pandas as pd\n",
    "import numpy as np\n",
    "import seaborn as sns\n",
    "import scipy.stats as stats\n",
    "import matplotlib.pyplot as plt\n",
    "from datetime import datetime\n",
    "# a nice way of filtering out deprecated warnings\n",
    "import warnings\n",
    "warnings.filterwarnings(\"ignore\")\n"
   ]
  },
  {
   "cell_type": "markdown",
   "metadata": {},
   "source": [
    "## Load Zone Information"
   ]
  },
  {
   "cell_type": "code",
   "execution_count": 2,
   "metadata": {},
   "outputs": [],
   "source": [
    "dfzone = pd.read_csv(\"../raw_data/large/taxi+_zone_lookup.csv\")"
   ]
  },
  {
   "cell_type": "markdown",
   "metadata": {},
   "source": [
    "## Load NYC Taxi Data"
   ]
  },
  {
   "cell_type": "code",
   "execution_count": 3,
   "metadata": {},
   "outputs": [],
   "source": [
    "df2019 = pd.read_feather('../raw_data/feather/df2019.feather')\n",
    "df20192 = pd.read_feather('../raw_data/feather/df20192.feather')\n",
    "df20193 = pd.read_feather('../raw_data/feather/df20193.feather')"
   ]
  },
  {
   "cell_type": "markdown",
   "metadata": {},
   "source": [
    "The following code joins the data for each year"
   ]
  },
  {
   "cell_type": "code",
   "execution_count": 4,
   "metadata": {},
   "outputs": [],
   "source": [
    "df_taxi = df2019.append(df20192, ignore_index = True)\n",
    "df_taxi = df_taxi.append(df20193, ignore_index = True)"
   ]
  },
  {
   "cell_type": "code",
   "execution_count": 5,
   "metadata": {},
   "outputs": [],
   "source": [
    "# reduce memory usage\n",
    "del df2019\n",
    "del df20192\n",
    "del df20193"
   ]
  },
  {
   "cell_type": "code",
   "execution_count": 6,
   "metadata": {
    "scrolled": true
   },
   "outputs": [
    {
     "data": {
      "text/html": [
       "<div>\n",
       "<style scoped>\n",
       "    .dataframe tbody tr th:only-of-type {\n",
       "        vertical-align: middle;\n",
       "    }\n",
       "\n",
       "    .dataframe tbody tr th {\n",
       "        vertical-align: top;\n",
       "    }\n",
       "\n",
       "    .dataframe thead th {\n",
       "        text-align: right;\n",
       "    }\n",
       "</style>\n",
       "<table border=\"1\" class=\"dataframe\">\n",
       "  <thead>\n",
       "    <tr style=\"text-align: right;\">\n",
       "      <th></th>\n",
       "      <th>index</th>\n",
       "      <th>VendorID</th>\n",
       "      <th>tpep_pickup_datetime</th>\n",
       "      <th>tpep_dropoff_datetime</th>\n",
       "      <th>passenger_count</th>\n",
       "      <th>trip_distance</th>\n",
       "      <th>RatecodeID</th>\n",
       "      <th>store_and_fwd_flag</th>\n",
       "      <th>PULocationID</th>\n",
       "      <th>DOLocationID</th>\n",
       "      <th>payment_type</th>\n",
       "      <th>fare_amount</th>\n",
       "      <th>extra</th>\n",
       "      <th>mta_tax</th>\n",
       "      <th>tip_amount</th>\n",
       "      <th>tolls_amount</th>\n",
       "      <th>improvement_surcharge</th>\n",
       "      <th>total_amount</th>\n",
       "      <th>congestion_surcharge</th>\n",
       "    </tr>\n",
       "  </thead>\n",
       "  <tbody>\n",
       "    <tr>\n",
       "      <th>0</th>\n",
       "      <td>0</td>\n",
       "      <td>1</td>\n",
       "      <td>2019-03-01 00:24:41</td>\n",
       "      <td>2019-03-01 00:25:31</td>\n",
       "      <td>1</td>\n",
       "      <td>0.0</td>\n",
       "      <td>1</td>\n",
       "      <td>N</td>\n",
       "      <td>145</td>\n",
       "      <td>145</td>\n",
       "      <td>2</td>\n",
       "      <td>2.5</td>\n",
       "      <td>0.5</td>\n",
       "      <td>0.5</td>\n",
       "      <td>0.0</td>\n",
       "      <td>0.00</td>\n",
       "      <td>0.3</td>\n",
       "      <td>3.80</td>\n",
       "      <td>0.0</td>\n",
       "    </tr>\n",
       "    <tr>\n",
       "      <th>1</th>\n",
       "      <td>1</td>\n",
       "      <td>1</td>\n",
       "      <td>2019-03-01 00:25:27</td>\n",
       "      <td>2019-03-01 00:36:37</td>\n",
       "      <td>2</td>\n",
       "      <td>3.7</td>\n",
       "      <td>1</td>\n",
       "      <td>N</td>\n",
       "      <td>95</td>\n",
       "      <td>130</td>\n",
       "      <td>1</td>\n",
       "      <td>13.0</td>\n",
       "      <td>0.5</td>\n",
       "      <td>0.5</td>\n",
       "      <td>0.7</td>\n",
       "      <td>0.00</td>\n",
       "      <td>0.3</td>\n",
       "      <td>15.00</td>\n",
       "      <td>0.0</td>\n",
       "    </tr>\n",
       "    <tr>\n",
       "      <th>2</th>\n",
       "      <td>2</td>\n",
       "      <td>1</td>\n",
       "      <td>2019-03-01 00:05:21</td>\n",
       "      <td>2019-03-01 00:38:23</td>\n",
       "      <td>1</td>\n",
       "      <td>14.1</td>\n",
       "      <td>1</td>\n",
       "      <td>N</td>\n",
       "      <td>249</td>\n",
       "      <td>28</td>\n",
       "      <td>1</td>\n",
       "      <td>41.0</td>\n",
       "      <td>3.0</td>\n",
       "      <td>0.5</td>\n",
       "      <td>10.1</td>\n",
       "      <td>5.76</td>\n",
       "      <td>0.3</td>\n",
       "      <td>60.66</td>\n",
       "      <td>2.5</td>\n",
       "    </tr>\n",
       "    <tr>\n",
       "      <th>3</th>\n",
       "      <td>3</td>\n",
       "      <td>1</td>\n",
       "      <td>2019-03-01 00:48:55</td>\n",
       "      <td>2019-03-01 01:06:03</td>\n",
       "      <td>1</td>\n",
       "      <td>9.6</td>\n",
       "      <td>1</td>\n",
       "      <td>N</td>\n",
       "      <td>138</td>\n",
       "      <td>98</td>\n",
       "      <td>2</td>\n",
       "      <td>27.0</td>\n",
       "      <td>0.5</td>\n",
       "      <td>0.5</td>\n",
       "      <td>0.0</td>\n",
       "      <td>0.00</td>\n",
       "      <td>0.3</td>\n",
       "      <td>28.30</td>\n",
       "      <td>0.0</td>\n",
       "    </tr>\n",
       "    <tr>\n",
       "      <th>4</th>\n",
       "      <td>4</td>\n",
       "      <td>1</td>\n",
       "      <td>2019-03-01 00:11:42</td>\n",
       "      <td>2019-03-01 00:16:40</td>\n",
       "      <td>1</td>\n",
       "      <td>0.8</td>\n",
       "      <td>1</td>\n",
       "      <td>N</td>\n",
       "      <td>48</td>\n",
       "      <td>48</td>\n",
       "      <td>1</td>\n",
       "      <td>5.5</td>\n",
       "      <td>3.0</td>\n",
       "      <td>0.5</td>\n",
       "      <td>3.0</td>\n",
       "      <td>0.00</td>\n",
       "      <td>0.3</td>\n",
       "      <td>12.30</td>\n",
       "      <td>2.5</td>\n",
       "    </tr>\n",
       "  </tbody>\n",
       "</table>\n",
       "</div>"
      ],
      "text/plain": [
       "   index  VendorID tpep_pickup_datetime tpep_dropoff_datetime  \\\n",
       "0      0         1  2019-03-01 00:24:41   2019-03-01 00:25:31   \n",
       "1      1         1  2019-03-01 00:25:27   2019-03-01 00:36:37   \n",
       "2      2         1  2019-03-01 00:05:21   2019-03-01 00:38:23   \n",
       "3      3         1  2019-03-01 00:48:55   2019-03-01 01:06:03   \n",
       "4      4         1  2019-03-01 00:11:42   2019-03-01 00:16:40   \n",
       "\n",
       "   passenger_count  trip_distance  RatecodeID store_and_fwd_flag  \\\n",
       "0                1            0.0           1                  N   \n",
       "1                2            3.7           1                  N   \n",
       "2                1           14.1           1                  N   \n",
       "3                1            9.6           1                  N   \n",
       "4                1            0.8           1                  N   \n",
       "\n",
       "   PULocationID  DOLocationID  payment_type  fare_amount  extra  mta_tax  \\\n",
       "0           145           145             2          2.5    0.5      0.5   \n",
       "1            95           130             1         13.0    0.5      0.5   \n",
       "2           249            28             1         41.0    3.0      0.5   \n",
       "3           138            98             2         27.0    0.5      0.5   \n",
       "4            48            48             1          5.5    3.0      0.5   \n",
       "\n",
       "   tip_amount  tolls_amount  improvement_surcharge  total_amount  \\\n",
       "0         0.0          0.00                    0.3          3.80   \n",
       "1         0.7          0.00                    0.3         15.00   \n",
       "2        10.1          5.76                    0.3         60.66   \n",
       "3         0.0          0.00                    0.3         28.30   \n",
       "4         3.0          0.00                    0.3         12.30   \n",
       "\n",
       "   congestion_surcharge  \n",
       "0                   0.0  \n",
       "1                   0.0  \n",
       "2                   2.5  \n",
       "3                   0.0  \n",
       "4                   2.5  "
      ]
     },
     "execution_count": 6,
     "metadata": {},
     "output_type": "execute_result"
    }
   ],
   "source": [
    "df_taxi.head()"
   ]
  },
  {
   "cell_type": "code",
   "execution_count": 7,
   "metadata": {},
   "outputs": [
    {
     "data": {
      "text/plain": [
       "22830945"
      ]
     },
     "execution_count": 7,
     "metadata": {},
     "output_type": "execute_result"
    }
   ],
   "source": [
    "old_size= len(df_taxi)\n",
    "old_size"
   ]
  },
  {
   "cell_type": "markdown",
   "metadata": {},
   "source": [
    "### Convert datatypes to appropriate datatypes"
   ]
  },
  {
   "cell_type": "code",
   "execution_count": 8,
   "metadata": {
    "scrolled": true
   },
   "outputs": [
    {
     "name": "stdout",
     "output_type": "stream",
     "text": [
      "<class 'pandas.core.frame.DataFrame'>\n",
      "RangeIndex: 22830945 entries, 0 to 22830944\n",
      "Data columns (total 19 columns):\n",
      " #   Column                 Dtype  \n",
      "---  ------                 -----  \n",
      " 0   index                  int64  \n",
      " 1   VendorID               int64  \n",
      " 2   tpep_pickup_datetime   object \n",
      " 3   tpep_dropoff_datetime  object \n",
      " 4   passenger_count        int64  \n",
      " 5   trip_distance          float64\n",
      " 6   RatecodeID             int64  \n",
      " 7   store_and_fwd_flag     object \n",
      " 8   PULocationID           int64  \n",
      " 9   DOLocationID           int64  \n",
      " 10  payment_type           int64  \n",
      " 11  fare_amount            float64\n",
      " 12  extra                  float64\n",
      " 13  mta_tax                float64\n",
      " 14  tip_amount             float64\n",
      " 15  tolls_amount           float64\n",
      " 16  improvement_surcharge  float64\n",
      " 17  total_amount           float64\n",
      " 18  congestion_surcharge   float64\n",
      "dtypes: float64(9), int64(7), object(3)\n",
      "memory usage: 3.2+ GB\n"
     ]
    }
   ],
   "source": [
    "df_taxi.info()"
   ]
  },
  {
   "cell_type": "markdown",
   "metadata": {},
   "source": [
    "First, reduce memory usage by changing to appropriate data type"
   ]
  },
  {
   "cell_type": "code",
   "execution_count": 9,
   "metadata": {},
   "outputs": [],
   "source": [
    "\n",
    "#convert to int8\n",
    "for i in ['VendorID', 'RatecodeID', 'passenger_count','payment_type','PULocationID', \n",
    "          'DOLocationID']:\n",
    "    df_taxi[i]= df_taxi[i].astype('int16')\n",
    "\n",
    "#convert to float32\n",
    "for i in [ 'trip_distance','fare_amount', \n",
    "          'extra', 'mta_tax', 'tip_amount', 'tolls_amount', \n",
    "          'improvement_surcharge', 'total_amount',\n",
    "          'congestion_surcharge']:\n",
    "    df_taxi[i]= df_taxi[i].astype('float32')\n",
    "    \n"
   ]
  },
  {
   "cell_type": "markdown",
   "metadata": {},
   "source": [
    "As seen in the .info(), the datetime columns have a data type of an object, convert it to a datatime date type in order to access more features."
   ]
  },
  {
   "cell_type": "code",
   "execution_count": 10,
   "metadata": {},
   "outputs": [
    {
     "name": "stdout",
     "output_type": "stream",
     "text": [
      "converted pickup to  <class 'pandas._libs.tslibs.timestamps.Timestamp'>\n",
      "converted dropoff to  <class 'pandas._libs.tslibs.timestamps.Timestamp'>\n"
     ]
    }
   ],
   "source": [
    "df_taxi['tpep_pickup_datetime']= pd.to_datetime(df_taxi['tpep_pickup_datetime'])\n",
    "print(\"converted pickup to \", type(df_taxi['tpep_pickup_datetime'][0]))\n",
    "df_taxi['tpep_dropoff_datetime']= pd.to_datetime(df_taxi['tpep_dropoff_datetime'])\n",
    "print(\"converted dropoff to \", type(df_taxi['tpep_dropoff_datetime'][0]))"
   ]
  },
  {
   "cell_type": "markdown",
   "metadata": {},
   "source": [
    "### Delete the irrelevant columns"
   ]
  },
  {
   "cell_type": "code",
   "execution_count": 11,
   "metadata": {},
   "outputs": [],
   "source": [
    "df_taxi= df_taxi.drop(columns=['index', 'store_and_fwd_flag'])"
   ]
  },
  {
   "cell_type": "code",
   "execution_count": 12,
   "metadata": {
    "scrolled": false
   },
   "outputs": [
    {
     "name": "stdout",
     "output_type": "stream",
     "text": [
      "<class 'pandas.core.frame.DataFrame'>\n",
      "RangeIndex: 22830945 entries, 0 to 22830944\n",
      "Data columns (total 17 columns):\n",
      " #   Column                 Dtype         \n",
      "---  ------                 -----         \n",
      " 0   VendorID               int16         \n",
      " 1   tpep_pickup_datetime   datetime64[ns]\n",
      " 2   tpep_dropoff_datetime  datetime64[ns]\n",
      " 3   passenger_count        int16         \n",
      " 4   trip_distance          float32       \n",
      " 5   RatecodeID             int16         \n",
      " 6   PULocationID           int16         \n",
      " 7   DOLocationID           int16         \n",
      " 8   payment_type           int16         \n",
      " 9   fare_amount            float32       \n",
      " 10  extra                  float32       \n",
      " 11  mta_tax                float32       \n",
      " 12  tip_amount             float32       \n",
      " 13  tolls_amount           float32       \n",
      " 14  improvement_surcharge  float32       \n",
      " 15  total_amount           float32       \n",
      " 16  congestion_surcharge   float32       \n",
      "dtypes: datetime64[ns](2), float32(9), int16(6)\n",
      "memory usage: 1.4 GB\n"
     ]
    }
   ],
   "source": [
    "df_taxi.info()"
   ]
  },
  {
   "cell_type": "markdown",
   "metadata": {},
   "source": [
    "Basic Intuitions based on columns:\n",
    "    \n",
    "    1. Date and Location feature will be relevant for the model that predicts taxi demand"
   ]
  },
  {
   "cell_type": "markdown",
   "metadata": {},
   "source": [
    "### SUMMARY: Sorted Taxi Data Types for further cleaning\n",
    "\n",
    "- Geographical data: PULocationID , DOLocationID\n",
    "- Datatime data: tpep_pickup_datetime, tpep_dropoff_datetime\n",
    "- Categorical Data: VendorID, RatecodeID, payment_type \n",
    "- Numerical Data: passenger_count, trip_distance, fare_amount, extra, mta_tax, tip_amount, tolls_amount, improvement_surchage, total_amount, congestion_surcharge"
   ]
  },
  {
   "cell_type": "markdown",
   "metadata": {},
   "source": [
    "## Load FHVHV Data"
   ]
  },
  {
   "cell_type": "code",
   "execution_count": 13,
   "metadata": {},
   "outputs": [],
   "source": [
    "# Load Feather\n",
    "dffhv2019 = pd.read_feather(\"../raw_data/feather/fhvhv_tripdata_2019-03.feather\")\n",
    "dffhv20192 = pd.read_feather(\"../raw_data/feather/fhvhv_tripdata_2019-04.feather\")\n",
    "dffhv20193 = pd.read_feather(\"../raw_data/feather/fhvhv_tripdata_2019-05.feather\")\n",
    "\n",
    "#The following code joins the data for each year\n",
    "\n",
    "df_fhv = dffhv2019.append(dffhv20192, ignore_index = True)\n",
    "df_fhv = df_fhv.append(dffhv20193, ignore_index = True)"
   ]
  },
  {
   "cell_type": "code",
   "execution_count": 14,
   "metadata": {},
   "outputs": [],
   "source": [
    "# reduce memory usage\n",
    "del dffhv2019\n",
    "del dffhv20192\n",
    "del dffhv20193"
   ]
  },
  {
   "cell_type": "code",
   "execution_count": 15,
   "metadata": {
    "scrolled": true
   },
   "outputs": [
    {
     "name": "stdout",
     "output_type": "stream",
     "text": [
      "(67928519, 8)\n"
     ]
    },
    {
     "data": {
      "text/html": [
       "<div>\n",
       "<style scoped>\n",
       "    .dataframe tbody tr th:only-of-type {\n",
       "        vertical-align: middle;\n",
       "    }\n",
       "\n",
       "    .dataframe tbody tr th {\n",
       "        vertical-align: top;\n",
       "    }\n",
       "\n",
       "    .dataframe thead th {\n",
       "        text-align: right;\n",
       "    }\n",
       "</style>\n",
       "<table border=\"1\" class=\"dataframe\">\n",
       "  <thead>\n",
       "    <tr style=\"text-align: right;\">\n",
       "      <th></th>\n",
       "      <th>index</th>\n",
       "      <th>hvfhs_license_num</th>\n",
       "      <th>dispatching_base_num</th>\n",
       "      <th>pickup_datetime</th>\n",
       "      <th>dropoff_datetime</th>\n",
       "      <th>PULocationID</th>\n",
       "      <th>DOLocationID</th>\n",
       "      <th>SR_Flag</th>\n",
       "    </tr>\n",
       "  </thead>\n",
       "  <tbody>\n",
       "    <tr>\n",
       "      <th>0</th>\n",
       "      <td>0</td>\n",
       "      <td>HV0004</td>\n",
       "      <td>B02800</td>\n",
       "      <td>2019-03-01 00:13:55</td>\n",
       "      <td>2019-03-01 00:28:51</td>\n",
       "      <td>36</td>\n",
       "      <td>80</td>\n",
       "      <td>1.0</td>\n",
       "    </tr>\n",
       "    <tr>\n",
       "      <th>1</th>\n",
       "      <td>1</td>\n",
       "      <td>HV0004</td>\n",
       "      <td>B02800</td>\n",
       "      <td>2019-03-01 00:23:58</td>\n",
       "      <td>2019-03-01 00:43:03</td>\n",
       "      <td>37</td>\n",
       "      <td>232</td>\n",
       "      <td>1.0</td>\n",
       "    </tr>\n",
       "    <tr>\n",
       "      <th>2</th>\n",
       "      <td>2</td>\n",
       "      <td>HV0005</td>\n",
       "      <td>B02510</td>\n",
       "      <td>2019-03-01 00:03:37</td>\n",
       "      <td>2019-03-01 00:15:09</td>\n",
       "      <td>25</td>\n",
       "      <td>62</td>\n",
       "      <td>NaN</td>\n",
       "    </tr>\n",
       "    <tr>\n",
       "      <th>3</th>\n",
       "      <td>3</td>\n",
       "      <td>HV0003</td>\n",
       "      <td>B02884</td>\n",
       "      <td>2019-03-01 00:29:46</td>\n",
       "      <td>2019-03-01 00:50:43</td>\n",
       "      <td>65</td>\n",
       "      <td>262</td>\n",
       "      <td>NaN</td>\n",
       "    </tr>\n",
       "    <tr>\n",
       "      <th>4</th>\n",
       "      <td>4</td>\n",
       "      <td>HV0003</td>\n",
       "      <td>B02884</td>\n",
       "      <td>2019-03-01 00:58:56</td>\n",
       "      <td>2019-03-01 01:20:47</td>\n",
       "      <td>140</td>\n",
       "      <td>196</td>\n",
       "      <td>NaN</td>\n",
       "    </tr>\n",
       "  </tbody>\n",
       "</table>\n",
       "</div>"
      ],
      "text/plain": [
       "   index hvfhs_license_num dispatching_base_num      pickup_datetime  \\\n",
       "0      0            HV0004               B02800  2019-03-01 00:13:55   \n",
       "1      1            HV0004               B02800  2019-03-01 00:23:58   \n",
       "2      2            HV0005               B02510  2019-03-01 00:03:37   \n",
       "3      3            HV0003               B02884  2019-03-01 00:29:46   \n",
       "4      4            HV0003               B02884  2019-03-01 00:58:56   \n",
       "\n",
       "      dropoff_datetime  PULocationID  DOLocationID  SR_Flag  \n",
       "0  2019-03-01 00:28:51            36            80      1.0  \n",
       "1  2019-03-01 00:43:03            37           232      1.0  \n",
       "2  2019-03-01 00:15:09            25            62      NaN  \n",
       "3  2019-03-01 00:50:43            65           262      NaN  \n",
       "4  2019-03-01 01:20:47           140           196      NaN  "
      ]
     },
     "execution_count": 15,
     "metadata": {},
     "output_type": "execute_result"
    }
   ],
   "source": [
    "print(df_fhv.shape)\n",
    "df_fhv.head()"
   ]
  },
  {
   "cell_type": "code",
   "execution_count": 16,
   "metadata": {},
   "outputs": [],
   "source": [
    "old_size_fhv= len(df_fhv)"
   ]
  },
  {
   "cell_type": "code",
   "execution_count": 17,
   "metadata": {},
   "outputs": [
    {
     "data": {
      "text/html": [
       "<div>\n",
       "<style scoped>\n",
       "    .dataframe tbody tr th:only-of-type {\n",
       "        vertical-align: middle;\n",
       "    }\n",
       "\n",
       "    .dataframe tbody tr th {\n",
       "        vertical-align: top;\n",
       "    }\n",
       "\n",
       "    .dataframe thead th {\n",
       "        text-align: right;\n",
       "    }\n",
       "</style>\n",
       "<table border=\"1\" class=\"dataframe\">\n",
       "  <thead>\n",
       "    <tr style=\"text-align: right;\">\n",
       "      <th></th>\n",
       "      <th>index</th>\n",
       "      <th>PULocationID</th>\n",
       "      <th>DOLocationID</th>\n",
       "      <th>SR_Flag</th>\n",
       "    </tr>\n",
       "  </thead>\n",
       "  <tbody>\n",
       "    <tr>\n",
       "      <th>count</th>\n",
       "      <td>67928519.0</td>\n",
       "      <td>67928519.0</td>\n",
       "      <td>67928519.0</td>\n",
       "      <td>12988111.0</td>\n",
       "    </tr>\n",
       "    <tr>\n",
       "      <th>mean</th>\n",
       "      <td>11339200.0</td>\n",
       "      <td>139.0</td>\n",
       "      <td>141.0</td>\n",
       "      <td>1.0</td>\n",
       "    </tr>\n",
       "    <tr>\n",
       "      <th>std</th>\n",
       "      <td>6567516.0</td>\n",
       "      <td>75.0</td>\n",
       "      <td>78.0</td>\n",
       "      <td>0.0</td>\n",
       "    </tr>\n",
       "    <tr>\n",
       "      <th>min</th>\n",
       "      <td>0.0</td>\n",
       "      <td>1.0</td>\n",
       "      <td>1.0</td>\n",
       "      <td>1.0</td>\n",
       "    </tr>\n",
       "    <tr>\n",
       "      <th>25%</th>\n",
       "      <td>5660710.0</td>\n",
       "      <td>74.0</td>\n",
       "      <td>75.0</td>\n",
       "      <td>1.0</td>\n",
       "    </tr>\n",
       "    <tr>\n",
       "      <th>50%</th>\n",
       "      <td>11321419.0</td>\n",
       "      <td>140.0</td>\n",
       "      <td>141.0</td>\n",
       "      <td>1.0</td>\n",
       "    </tr>\n",
       "    <tr>\n",
       "      <th>75%</th>\n",
       "      <td>16982129.0</td>\n",
       "      <td>211.0</td>\n",
       "      <td>216.0</td>\n",
       "      <td>1.0</td>\n",
       "    </tr>\n",
       "    <tr>\n",
       "      <th>max</th>\n",
       "      <td>23864597.0</td>\n",
       "      <td>265.0</td>\n",
       "      <td>265.0</td>\n",
       "      <td>1.0</td>\n",
       "    </tr>\n",
       "  </tbody>\n",
       "</table>\n",
       "</div>"
      ],
      "text/plain": [
       "            index  PULocationID  DOLocationID     SR_Flag\n",
       "count  67928519.0    67928519.0    67928519.0  12988111.0\n",
       "mean   11339200.0         139.0         141.0         1.0\n",
       "std     6567516.0          75.0          78.0         0.0\n",
       "min           0.0           1.0           1.0         1.0\n",
       "25%     5660710.0          74.0          75.0         1.0\n",
       "50%    11321419.0         140.0         141.0         1.0\n",
       "75%    16982129.0         211.0         216.0         1.0\n",
       "max    23864597.0         265.0         265.0         1.0"
      ]
     },
     "execution_count": 17,
     "metadata": {},
     "output_type": "execute_result"
    }
   ],
   "source": [
    "df_fhv.describe().round()"
   ]
  },
  {
   "cell_type": "markdown",
   "metadata": {},
   "source": [
    "### Check for Invalid Location ID"
   ]
  },
  {
   "cell_type": "code",
   "execution_count": 18,
   "metadata": {},
   "outputs": [
    {
     "data": {
      "text/html": [
       "<div>\n",
       "<style scoped>\n",
       "    .dataframe tbody tr th:only-of-type {\n",
       "        vertical-align: middle;\n",
       "    }\n",
       "\n",
       "    .dataframe tbody tr th {\n",
       "        vertical-align: top;\n",
       "    }\n",
       "\n",
       "    .dataframe thead th {\n",
       "        text-align: right;\n",
       "    }\n",
       "</style>\n",
       "<table border=\"1\" class=\"dataframe\">\n",
       "  <thead>\n",
       "    <tr style=\"text-align: right;\">\n",
       "      <th></th>\n",
       "      <th>index</th>\n",
       "      <th>hvfhs_license_num</th>\n",
       "      <th>dispatching_base_num</th>\n",
       "      <th>pickup_datetime</th>\n",
       "      <th>dropoff_datetime</th>\n",
       "      <th>PULocationID</th>\n",
       "      <th>DOLocationID</th>\n",
       "      <th>SR_Flag</th>\n",
       "    </tr>\n",
       "  </thead>\n",
       "  <tbody>\n",
       "  </tbody>\n",
       "</table>\n",
       "</div>"
      ],
      "text/plain": [
       "Empty DataFrame\n",
       "Columns: [index, hvfhs_license_num, dispatching_base_num, pickup_datetime, dropoff_datetime, PULocationID, DOLocationID, SR_Flag]\n",
       "Index: []"
      ]
     },
     "execution_count": 18,
     "metadata": {},
     "output_type": "execute_result"
    }
   ],
   "source": [
    "df_fhv.loc[df_fhv['PULocationID']<0]"
   ]
  },
  {
   "cell_type": "markdown",
   "metadata": {},
   "source": [
    "### Check Null Values"
   ]
  },
  {
   "cell_type": "code",
   "execution_count": 19,
   "metadata": {},
   "outputs": [
    {
     "name": "stdout",
     "output_type": "stream",
     "text": [
      "0           1.0\n",
      "1           1.0\n",
      "2           NaN\n",
      "3           NaN\n",
      "4           NaN\n",
      "           ... \n",
      "67928514    NaN\n",
      "67928515    NaN\n",
      "67928516    NaN\n",
      "67928517    NaN\n",
      "67928518    NaN\n",
      "Name: SR_Flag, Length: 67928519, dtype: float64\n"
     ]
    }
   ],
   "source": [
    "print(df_fhv[\"SR_Flag\"])"
   ]
  },
  {
   "cell_type": "markdown",
   "metadata": {},
   "source": [
    "### Delete the irrelevant columns"
   ]
  },
  {
   "cell_type": "code",
   "execution_count": 20,
   "metadata": {
    "scrolled": true
   },
   "outputs": [
    {
     "name": "stdout",
     "output_type": "stream",
     "text": [
      "index                          0\n",
      "hvfhs_license_num              0\n",
      "dispatching_base_num        1043\n",
      "pickup_datetime                0\n",
      "dropoff_datetime               0\n",
      "PULocationID                   0\n",
      "DOLocationID                   0\n",
      "SR_Flag                 54940408\n",
      "dtype: int64\n"
     ]
    }
   ],
   "source": [
    "#check if there is missing entries\n",
    "print(df_fhv.isnull().sum())"
   ]
  },
  {
   "cell_type": "code",
   "execution_count": 21,
   "metadata": {},
   "outputs": [],
   "source": [
    "del df_fhv[\"index\"]"
   ]
  },
  {
   "cell_type": "code",
   "execution_count": 22,
   "metadata": {},
   "outputs": [],
   "source": [
    "del df_fhv[\"dispatching_base_num\"]"
   ]
  },
  {
   "cell_type": "code",
   "execution_count": 23,
   "metadata": {},
   "outputs": [],
   "source": [
    "del df_fhv[\"hvfhs_license_num\"]"
   ]
  },
  {
   "cell_type": "code",
   "execution_count": 24,
   "metadata": {},
   "outputs": [],
   "source": [
    "del df_fhv[\"SR_Flag\"]"
   ]
  },
  {
   "cell_type": "markdown",
   "metadata": {},
   "source": [
    "Since locationID is very relevant, the entries with missing locationID values should be removed. However, there is no need to remove any rows since there is no missing locationID data"
   ]
  },
  {
   "cell_type": "markdown",
   "metadata": {},
   "source": [
    "### Convert datatypes to appropriate datatypes"
   ]
  },
  {
   "cell_type": "code",
   "execution_count": 25,
   "metadata": {
    "scrolled": true
   },
   "outputs": [
    {
     "name": "stdout",
     "output_type": "stream",
     "text": [
      "<class 'pandas.core.frame.DataFrame'>\n",
      "RangeIndex: 67928519 entries, 0 to 67928518\n",
      "Data columns (total 4 columns):\n",
      " #   Column            Dtype \n",
      "---  ------            ----- \n",
      " 0   pickup_datetime   object\n",
      " 1   dropoff_datetime  object\n",
      " 2   PULocationID      int64 \n",
      " 3   DOLocationID      int64 \n",
      "dtypes: int64(2), object(2)\n",
      "memory usage: 2.0+ GB\n"
     ]
    }
   ],
   "source": [
    "df_fhv.info()"
   ]
  },
  {
   "cell_type": "markdown",
   "metadata": {},
   "source": [
    "First, reduce memory usage for running "
   ]
  },
  {
   "cell_type": "code",
   "execution_count": 26,
   "metadata": {
    "scrolled": false
   },
   "outputs": [],
   "source": [
    "#convert to Location IDs to int8\n",
    "for i in [\"PULocationID\", \"DOLocationID\"]:\n",
    "    df_fhv[i]= df_fhv[i].astype('int16')"
   ]
  },
  {
   "cell_type": "markdown",
   "metadata": {},
   "source": [
    "As seen in the .info(), the datetime columns have a data type of an object, convert it to a datatime date type in order to access more features."
   ]
  },
  {
   "cell_type": "code",
   "execution_count": 27,
   "metadata": {
    "scrolled": true
   },
   "outputs": [
    {
     "name": "stdout",
     "output_type": "stream",
     "text": [
      "converted pickup to  <class 'pandas._libs.tslibs.timestamps.Timestamp'>\n",
      "converted dropoff to <class 'pandas._libs.tslibs.timestamps.Timestamp'>\n"
     ]
    }
   ],
   "source": [
    "df_fhv['pickup_datetime']= pd.to_datetime(df_fhv['pickup_datetime'])\n",
    "print(\"converted pickup to \", type(df_fhv['pickup_datetime'][0]))\n",
    "df_fhv['dropoff_datetime']=  pd.to_datetime(df_fhv['dropoff_datetime'], errors = 'coerce')\n",
    "print(\"converted dropoff to\", type(df_fhv['dropoff_datetime'][0]))"
   ]
  },
  {
   "cell_type": "code",
   "execution_count": 28,
   "metadata": {
    "scrolled": true
   },
   "outputs": [
    {
     "name": "stdout",
     "output_type": "stream",
     "text": [
      "<class 'pandas.core.frame.DataFrame'>\n",
      "RangeIndex: 67928519 entries, 0 to 67928518\n",
      "Data columns (total 4 columns):\n",
      " #   Column            Dtype         \n",
      "---  ------            -----         \n",
      " 0   pickup_datetime   datetime64[ns]\n",
      " 1   dropoff_datetime  datetime64[ns]\n",
      " 2   PULocationID      int16         \n",
      " 3   DOLocationID      int16         \n",
      "dtypes: datetime64[ns](2), int16(2)\n",
      "memory usage: 1.3 GB\n"
     ]
    }
   ],
   "source": [
    "df_fhv.info()"
   ]
  },
  {
   "cell_type": "markdown",
   "metadata": {},
   "source": [
    "### SUMMARY: Sorted FHV Data Types for further cleaning\n",
    "- Geographical data: PULocationID , DOLocationID\n",
    "- Datatime data: pickup_datetime, dropoff_datetime"
   ]
  },
  {
   "cell_type": "markdown",
   "metadata": {},
   "source": [
    "## Cleaning Categorical Data"
   ]
  },
  {
   "cell_type": "code",
   "execution_count": 29,
   "metadata": {},
   "outputs": [],
   "source": [
    "categorical_data= ['VendorID', 'RatecodeID', 'payment_type']"
   ]
  },
  {
   "cell_type": "code",
   "execution_count": 30,
   "metadata": {},
   "outputs": [
    {
     "name": "stdout",
     "output_type": "stream",
     "text": [
      "VendorID: Int64Index([2, 1, 4], dtype='int64')\n",
      "RatecodeID: Int64Index([1, 2, 5, 3, 4, 99, 6], dtype='int64')\n",
      "payment_type: Int64Index([1, 2, 3, 4, 5], dtype='int64')\n"
     ]
    }
   ],
   "source": [
    "#Check if the values align with the values given with the \n",
    "# data details\n",
    "for i in categorical_data:\n",
    "    print(i+ ':',df_taxi[i].value_counts().index)"
   ]
  },
  {
   "cell_type": "markdown",
   "metadata": {},
   "source": [
    "Since VendorID is an irrelevant feature, we wouldn't need to remove the invalid ID of 4 since the rest of the features of the entries may be valid.\n",
    "For RatecodeID, there is an invalid RatecodeID of 99. Since we want only want standard rides to predict for typical demand, this should be removed along with the other payment types that are not standard.\n",
    "Before we remove these values, we should inspect the distribution of categorial data"
   ]
  },
  {
   "cell_type": "code",
   "execution_count": 31,
   "metadata": {},
   "outputs": [
    {
     "data": {
      "image/png": "[encoded data removed]",
      "text/plain": [
       "<Figure size 432x288 with 1 Axes>"
      ]
     },
     "metadata": {
      "needs_background": "light"
     },
     "output_type": "display_data"
    },
    {
     "data": {
      "image/png": "[encoded data removed]",
      "text/plain": [
       "<Figure size 432x288 with 1 Axes>"
      ]
     },
     "metadata": {
      "needs_background": "light"
     },
     "output_type": "display_data"
    },
    {
     "data": {
      "image/png": "[encoded data removed]",
      "text/plain": [
       "<Figure size 432x288 with 1 Axes>"
      ]
     },
     "metadata": {
      "needs_background": "light"
     },
     "output_type": "display_data"
    }
   ],
   "source": [
    "for i in categorical_data:\n",
    "    sns.barplot(df_taxi[i].value_counts().index, df_taxi[i].value_counts())\n",
    "    plt.title(i)\n",
    "    plt.show()"
   ]
  },
  {
   "cell_type": "markdown",
   "metadata": {},
   "source": [
    "The plot tells us that majority of the data lies in the standard rate with payment mostly being through cash or card"
   ]
  },
  {
   "cell_type": "code",
   "execution_count": 32,
   "metadata": {},
   "outputs": [],
   "source": [
    "df_taxi= df_taxi.loc[df_taxi[\"RatecodeID\"]==1]\n",
    "df_taxi=  df_taxi.loc[df_taxi[\"payment_type\"]==1] #remove payment 2 since we are looking at tips as a feature"
   ]
  },
  {
   "cell_type": "code",
   "execution_count": 33,
   "metadata": {},
   "outputs": [],
   "source": [
    "#drop the data since they are irrelevant. See report for more information\n",
    "df_taxi= df_taxi.drop(columns= ['VendorID', 'RatecodeID', 'payment_type'])"
   ]
  },
  {
   "cell_type": "markdown",
   "metadata": {},
   "source": [
    "## Cleaning DateTime Data for Taxi and FHV datasets"
   ]
  },
  {
   "cell_type": "markdown",
   "metadata": {},
   "source": [
    "### Remove invalid trips"
   ]
  },
  {
   "cell_type": "markdown",
   "metadata": {},
   "source": [
    "Check for and remove invalid trips where there was a pickup after the dropoff. There cannot be a trip where there is 0 seconds trip since there is a minimum of 2.50 fee."
   ]
  },
  {
   "cell_type": "markdown",
   "metadata": {},
   "source": [
    "Taxi Dataset:"
   ]
  },
  {
   "cell_type": "code",
   "execution_count": 34,
   "metadata": {
    "scrolled": true
   },
   "outputs": [
    {
     "data": {
      "text/plain": [
       "tpep_pickup_datetime     572\n",
       "tpep_dropoff_datetime    572\n",
       "passenger_count          572\n",
       "trip_distance            572\n",
       "PULocationID             572\n",
       "DOLocationID             572\n",
       "fare_amount              572\n",
       "extra                    572\n",
       "mta_tax                  572\n",
       "tip_amount               572\n",
       "tolls_amount             572\n",
       "improvement_surcharge    572\n",
       "total_amount             572\n",
       "congestion_surcharge     572\n",
       "dtype: int64"
      ]
     },
     "execution_count": 34,
     "metadata": {},
     "output_type": "execute_result"
    }
   ],
   "source": [
    "df_taxi.loc[df_taxi['tpep_pickup_datetime']>= df_taxi['tpep_dropoff_datetime']].count()"
   ]
  },
  {
   "cell_type": "code",
   "execution_count": 35,
   "metadata": {},
   "outputs": [],
   "source": [
    "df_taxi= df_taxi.loc[df_taxi['tpep_pickup_datetime']< df_taxi['tpep_dropoff_datetime']]"
   ]
  },
  {
   "cell_type": "markdown",
   "metadata": {},
   "source": [
    "FHV Dataset:"
   ]
  },
  {
   "cell_type": "code",
   "execution_count": 36,
   "metadata": {
    "scrolled": true
   },
   "outputs": [
    {
     "data": {
      "text/plain": [
       "pickup_datetime     80\n",
       "dropoff_datetime    80\n",
       "PULocationID        80\n",
       "DOLocationID        80\n",
       "dtype: int64"
      ]
     },
     "execution_count": 36,
     "metadata": {},
     "output_type": "execute_result"
    }
   ],
   "source": [
    "df_fhv.loc[df_fhv['pickup_datetime']>= df_fhv['dropoff_datetime']].count()"
   ]
  },
  {
   "cell_type": "code",
   "execution_count": 37,
   "metadata": {},
   "outputs": [],
   "source": [
    "df_fhv= df_fhv.loc[df_fhv['pickup_datetime']< df_fhv['dropoff_datetime']]"
   ]
  },
  {
   "cell_type": "markdown",
   "metadata": {},
   "source": [
    "## Adding DataTime related Features"
   ]
  },
  {
   "cell_type": "markdown",
   "metadata": {},
   "source": [
    "### Creating  total_trip_duration feature for Taxi and FHV\n",
    "This is a feature that consists of the total trip duration in minutes\n"
   ]
  },
  {
   "cell_type": "code",
   "execution_count": 38,
   "metadata": {},
   "outputs": [],
   "source": [
    "#Convert to seconds\n",
    "df_taxi['total_trip_duration'] = (df_taxi['tpep_dropoff_datetime'] - df_taxi['tpep_pickup_datetime']).astype('timedelta64[s]')\n",
    "#convert to minutes\n",
    "df_taxi['total_trip_duration'] = df_taxi['total_trip_duration']/60\n"
   ]
  },
  {
   "cell_type": "code",
   "execution_count": 39,
   "metadata": {},
   "outputs": [],
   "source": [
    "#Convert to seconds\n",
    "df_fhv['total_trip_duration'] = (df_fhv['dropoff_datetime'] - df_fhv['pickup_datetime']).astype('timedelta64[s]')\n",
    "#convert to minutes\n",
    "df_fhv['total_trip_duration'] = df_fhv['total_trip_duration']/60\n"
   ]
  },
  {
   "cell_type": "markdown",
   "metadata": {},
   "source": [
    "### Remove datetime outside of range for Taxi and FHV Data"
   ]
  },
  {
   "cell_type": "code",
   "execution_count": 40,
   "metadata": {
    "scrolled": true
   },
   "outputs": [],
   "source": [
    "date1= pd.Timestamp(datetime(2019, 3, 1))\n",
    "date2= pd.Timestamp(datetime(2019, 5, 31))\n",
    "# taxi\n",
    "df_taxi= df_taxi.iloc[(df_taxi['tpep_pickup_datetime']).values> date1]\n",
    "df_taxi= df_taxi.iloc[(df_taxi['tpep_pickup_datetime']).values< date2]\n",
    "df_taxi= df_taxi.iloc[(df_taxi[\"tpep_dropoff_datetime\"]).values> date1]\n",
    "df_taxi= df_taxi.iloc[(df_taxi[\"tpep_dropoff_datetime\"]).values< date2]\n",
    "#fhv\n",
    "df_fhv= df_fhv.iloc[(df_fhv['pickup_datetime']).values> date1]\n",
    "df_fhv= df_fhv.iloc[(df_fhv['pickup_datetime']).values< date2]\n",
    "df_fhv= df_fhv.iloc[(df_fhv[\"dropoff_datetime\"]).values> date1]\n",
    "df_fhv= df_fhv.iloc[(df_fhv[\"dropoff_datetime\"]).values< date2]"
   ]
  },
  {
   "cell_type": "markdown",
   "metadata": {},
   "source": [
    "### Create avespeed_ mileshr feature for Taxi Data\n",
    " This feature demonstrates speed of miles per hour (which is consistent with standard US speed measure). Lower average speed may be associated with traffic."
   ]
  },
  {
   "cell_type": "code",
   "execution_count": 41,
   "metadata": {},
   "outputs": [],
   "source": [
    "df_taxi['avespeed_mileshr']= df_taxi['trip_distance'] / (df_taxi['total_trip_duration']/60)"
   ]
  },
  {
   "cell_type": "markdown",
   "metadata": {},
   "source": [
    "### Create time session feature for Taxi and FHV dataset\n",
    "Bin hours into time sessions\n",
    "According to https://learnersdictionary.com/qa/parts-of-the-day-early-morning-late-morning-etc"
   ]
  },
  {
   "cell_type": "code",
   "execution_count": 42,
   "metadata": {},
   "outputs": [],
   "source": [
    "# Morning=1, Afternoon=2, Evening=3, Night=4\n",
    "df_taxi['time session']=pd.cut(df_taxi['tpep_pickup_datetime'].dt.hour, [0,5,12,17,21,24],labels=[4,1,2,3,4],include_lowest=True, ordered=False)\n",
    "df_fhv['time session']=pd.cut(df_fhv['pickup_datetime'].dt.hour, [0,5,12,17,21,24],labels=[4,1,2,3,4],include_lowest=True, ordered=False)"
   ]
  },
  {
   "cell_type": "code",
   "execution_count": 43,
   "metadata": {
    "scrolled": true
   },
   "outputs": [
    {
     "data": {
      "text/plain": [
       "0           4\n",
       "1           4\n",
       "2           4\n",
       "3           4\n",
       "4           4\n",
       "           ..\n",
       "67171187    4\n",
       "67171188    4\n",
       "67171189    4\n",
       "67171192    4\n",
       "67171193    4\n",
       "Name: time session, Length: 67160702, dtype: category\n",
       "Categories (4, int64): [1, 2, 3, 4]"
      ]
     },
     "execution_count": 43,
     "metadata": {},
     "output_type": "execute_result"
    }
   ],
   "source": [
    "df_fhv['time session']"
   ]
  },
  {
   "cell_type": "markdown",
   "metadata": {},
   "source": [
    "### Create date column"
   ]
  },
  {
   "cell_type": "code",
   "execution_count": 44,
   "metadata": {},
   "outputs": [],
   "source": [
    "df_taxi['date']= df_taxi['tpep_pickup_datetime'].dt.date"
   ]
  },
  {
   "cell_type": "code",
   "execution_count": 45,
   "metadata": {},
   "outputs": [],
   "source": [
    "df_fhv['date']= df_fhv['pickup_datetime'].dt.date"
   ]
  },
  {
   "cell_type": "markdown",
   "metadata": {},
   "source": [
    "### Create hour column"
   ]
  },
  {
   "cell_type": "code",
   "execution_count": 47,
   "metadata": {},
   "outputs": [],
   "source": [
    "df_taxi['hour']= df_taxi['tpep_pickup_datetime'].dt.hour"
   ]
  },
  {
   "cell_type": "code",
   "execution_count": 48,
   "metadata": {},
   "outputs": [],
   "source": [
    "df_fhv['hour']= df_fhv['pickup_datetime'].dt.hour"
   ]
  },
  {
   "cell_type": "markdown",
   "metadata": {},
   "source": [
    "### Create day column"
   ]
  },
  {
   "cell_type": "code",
   "execution_count": 49,
   "metadata": {},
   "outputs": [],
   "source": [
    "df_taxi['day']= df_taxi['tpep_pickup_datetime'].dt.day"
   ]
  },
  {
   "cell_type": "code",
   "execution_count": 50,
   "metadata": {},
   "outputs": [],
   "source": [
    "df_fhv['day']= df_fhv['pickup_datetime'].dt.day"
   ]
  },
  {
   "cell_type": "markdown",
   "metadata": {},
   "source": [
    "## Inspecting Numerical Data "
   ]
  },
  {
   "cell_type": "markdown",
   "metadata": {},
   "source": [
    "We won't be looking at the Uber Dataset in terms of data cleaning numerical data since there is no numerical data available."
   ]
  },
  {
   "cell_type": "code",
   "execution_count": 51,
   "metadata": {},
   "outputs": [
    {
     "data": {
      "text/html": [
       "<div>\n",
       "<style scoped>\n",
       "    .dataframe tbody tr th:only-of-type {\n",
       "        vertical-align: middle;\n",
       "    }\n",
       "\n",
       "    .dataframe tbody tr th {\n",
       "        vertical-align: top;\n",
       "    }\n",
       "\n",
       "    .dataframe thead th {\n",
       "        text-align: right;\n",
       "    }\n",
       "</style>\n",
       "<table border=\"1\" class=\"dataframe\">\n",
       "  <thead>\n",
       "    <tr style=\"text-align: right;\">\n",
       "      <th></th>\n",
       "      <th>passenger_count</th>\n",
       "      <th>trip_distance</th>\n",
       "      <th>fare_amount</th>\n",
       "      <th>extra</th>\n",
       "      <th>mta_tax</th>\n",
       "      <th>tip_amount</th>\n",
       "      <th>tolls_amount</th>\n",
       "      <th>improvement_surcharge</th>\n",
       "      <th>total_amount</th>\n",
       "      <th>congestion_surcharge</th>\n",
       "      <th>total_trip_duration</th>\n",
       "    </tr>\n",
       "  </thead>\n",
       "  <tbody>\n",
       "    <tr>\n",
       "      <th>count</th>\n",
       "      <td>15745172.0</td>\n",
       "      <td>15745172.0</td>\n",
       "      <td>15745172.0</td>\n",
       "      <td>15745172.0</td>\n",
       "      <td>15745172.0</td>\n",
       "      <td>15745172.0</td>\n",
       "      <td>15745172.0</td>\n",
       "      <td>15745172.0</td>\n",
       "      <td>15745172.0</td>\n",
       "      <td>15745172.0</td>\n",
       "      <td>15745172.0</td>\n",
       "    </tr>\n",
       "    <tr>\n",
       "      <th>mean</th>\n",
       "      <td>1.6</td>\n",
       "      <td>2.5</td>\n",
       "      <td>11.9</td>\n",
       "      <td>1.1</td>\n",
       "      <td>0.5</td>\n",
       "      <td>2.8</td>\n",
       "      <td>0.2</td>\n",
       "      <td>0.3</td>\n",
       "      <td>18.7</td>\n",
       "      <td>2.0</td>\n",
       "      <td>16.9</td>\n",
       "    </tr>\n",
       "    <tr>\n",
       "      <th>std</th>\n",
       "      <td>1.2</td>\n",
       "      <td>2.8</td>\n",
       "      <td>8.3</td>\n",
       "      <td>1.3</td>\n",
       "      <td>0.0</td>\n",
       "      <td>2.1</td>\n",
       "      <td>1.2</td>\n",
       "      <td>0.0</td>\n",
       "      <td>10.4</td>\n",
       "      <td>0.7</td>\n",
       "      <td>67.0</td>\n",
       "    </tr>\n",
       "    <tr>\n",
       "      <th>min</th>\n",
       "      <td>0.0</td>\n",
       "      <td>0.0</td>\n",
       "      <td>-65.0</td>\n",
       "      <td>-57.5</td>\n",
       "      <td>-0.5</td>\n",
       "      <td>-65.8</td>\n",
       "      <td>0.0</td>\n",
       "      <td>-0.3</td>\n",
       "      <td>-131.6</td>\n",
       "      <td>-2.5</td>\n",
       "      <td>0.0</td>\n",
       "    </tr>\n",
       "    <tr>\n",
       "      <th>25%</th>\n",
       "      <td>1.0</td>\n",
       "      <td>1.0</td>\n",
       "      <td>6.5</td>\n",
       "      <td>0.0</td>\n",
       "      <td>0.5</td>\n",
       "      <td>1.7</td>\n",
       "      <td>0.0</td>\n",
       "      <td>0.3</td>\n",
       "      <td>11.9</td>\n",
       "      <td>2.5</td>\n",
       "      <td>6.9</td>\n",
       "    </tr>\n",
       "    <tr>\n",
       "      <th>50%</th>\n",
       "      <td>1.0</td>\n",
       "      <td>1.6</td>\n",
       "      <td>9.5</td>\n",
       "      <td>0.5</td>\n",
       "      <td>0.5</td>\n",
       "      <td>2.3</td>\n",
       "      <td>0.0</td>\n",
       "      <td>0.3</td>\n",
       "      <td>15.4</td>\n",
       "      <td>2.5</td>\n",
       "      <td>11.2</td>\n",
       "    </tr>\n",
       "    <tr>\n",
       "      <th>75%</th>\n",
       "      <td>2.0</td>\n",
       "      <td>2.9</td>\n",
       "      <td>14.0</td>\n",
       "      <td>2.5</td>\n",
       "      <td>0.5</td>\n",
       "      <td>3.3</td>\n",
       "      <td>0.0</td>\n",
       "      <td>0.3</td>\n",
       "      <td>20.8</td>\n",
       "      <td>2.5</td>\n",
       "      <td>17.9</td>\n",
       "    </tr>\n",
       "    <tr>\n",
       "      <th>max</th>\n",
       "      <td>9.0</td>\n",
       "      <td>830.9</td>\n",
       "      <td>394.5</td>\n",
       "      <td>17.5</td>\n",
       "      <td>60.8</td>\n",
       "      <td>444.0</td>\n",
       "      <td>146.7</td>\n",
       "      <td>0.3</td>\n",
       "      <td>492.0</td>\n",
       "      <td>2.8</td>\n",
       "      <td>27454.8</td>\n",
       "    </tr>\n",
       "  </tbody>\n",
       "</table>\n",
       "</div>"
      ],
      "text/plain": [
       "       passenger_count  trip_distance  fare_amount       extra     mta_tax  \\\n",
       "count       15745172.0     15745172.0   15745172.0  15745172.0  15745172.0   \n",
       "mean               1.6            2.5         11.9         1.1         0.5   \n",
       "std                1.2            2.8          8.3         1.3         0.0   \n",
       "min                0.0            0.0        -65.0       -57.5        -0.5   \n",
       "25%                1.0            1.0          6.5         0.0         0.5   \n",
       "50%                1.0            1.6          9.5         0.5         0.5   \n",
       "75%                2.0            2.9         14.0         2.5         0.5   \n",
       "max                9.0          830.9        394.5        17.5        60.8   \n",
       "\n",
       "       tip_amount  tolls_amount  improvement_surcharge  total_amount  \\\n",
       "count  15745172.0    15745172.0             15745172.0    15745172.0   \n",
       "mean          2.8           0.2                    0.3          18.7   \n",
       "std           2.1           1.2                    0.0          10.4   \n",
       "min         -65.8           0.0                   -0.3        -131.6   \n",
       "25%           1.7           0.0                    0.3          11.9   \n",
       "50%           2.3           0.0                    0.3          15.4   \n",
       "75%           3.3           0.0                    0.3          20.8   \n",
       "max         444.0         146.7                    0.3         492.0   \n",
       "\n",
       "       congestion_surcharge  total_trip_duration  \n",
       "count            15745172.0           15745172.0  \n",
       "mean                    2.0                 16.9  \n",
       "std                     0.7                 67.0  \n",
       "min                    -2.5                  0.0  \n",
       "25%                     2.5                  6.9  \n",
       "50%                     2.5                 11.2  \n",
       "75%                     2.5                 17.9  \n",
       "max                     2.8              27454.8  "
      ]
     },
     "execution_count": 51,
     "metadata": {},
     "output_type": "execute_result"
    }
   ],
   "source": [
    "numerical_data= ['passenger_count', 'trip_distance', 'fare_amount',\n",
    "                 'extra', 'mta_tax', 'tip_amount', 'tolls_amount',\n",
    "                 'improvement_surcharge', 'total_amount', \n",
    "                 'congestion_surcharge', 'total_trip_duration']\n",
    "\n",
    "df_taxi[numerical_data].describe().round(1)\n"
   ]
  },
  {
   "cell_type": "markdown",
   "metadata": {},
   "source": [
    "Observations based on testing df description:\n",
    "\n",
    "- Negative fare amount, extra, tip_amount, toll_amounts, mta_tax and total amount exists. This could be due to refunds and can be considered to be deleted from data. Also, fare amount has to be at least 2.50 USD (https://www1.nyc.gov/site/tlc/passengers/taxi-fare.page)\n",
    "- Outlier->The maximum payments and distance seem to be excessive and large.\n",
    "- Outlier-> The minimum trip distances should be greater than 0\n",
    "- Median and mean is not always equal for certain attributes. This indicates that we are dealing with skewed dataset"
   ]
  },
  {
   "cell_type": "markdown",
   "metadata": {},
   "source": [
    "### Remove Invalid Relevant Payments "
   ]
  },
  {
   "cell_type": "markdown",
   "metadata": {},
   "source": [
    "This is a relevant process since we are considering to add tip_amount as a feature"
   ]
  },
  {
   "cell_type": "code",
   "execution_count": 52,
   "metadata": {},
   "outputs": [],
   "source": [
    "#This removes the negative payments, free rides, no passengers and 0 distance rides\n",
    "df_taxi= df_taxi.loc[(df_taxi['fare_amount']>=2.5) &\n",
    "                   (df_taxi['trip_distance']> 0) &\n",
    "                    (df_taxi['tip_amount']>=0) &\n",
    "                    (df_taxi['passenger_count']>0)&\n",
    "                    (df_taxi['congestion_surcharge']> 0) & \n",
    "                    (df_taxi['total_trip_duration']> 1) &\n",
    "                     (df_taxi['trip_distance']< 613) &\n",
    "                    (df_taxi['total_trip_duration']< 12*60), :]"
   ]
  },
  {
   "cell_type": "code",
   "execution_count": 53,
   "metadata": {},
   "outputs": [
    {
     "data": {
      "image/png": "[encoded data removed]",
      "text/plain": [
       "<Figure size 432x288 with 1 Axes>"
      ]
     },
     "metadata": {
      "needs_background": "light"
     },
     "output_type": "display_data"
    },
    {
     "data": {
      "image/png": "[encoded data removed]",
      "text/plain": [
       "<Figure size 432x288 with 1 Axes>"
      ]
     },
     "metadata": {
      "needs_background": "light"
     },
     "output_type": "display_data"
    },
    {
     "data": {
      "image/png": "[encoded data removed]",
      "text/plain": [
       "<Figure size 432x288 with 1 Axes>"
      ]
     },
     "metadata": {
      "needs_background": "light"
     },
     "output_type": "display_data"
    }
   ],
   "source": [
    "for i in ['fare_amount', 'trip_distance', 'congestion_surcharge']:\n",
    "    df_taxi.boxplot(column= i)\n",
    "    plt.title(i)\n",
    "    plt.show()"
   ]
  },
  {
   "cell_type": "code",
   "execution_count": 54,
   "metadata": {},
   "outputs": [],
   "source": [
    "#remove isolated outliers and cut tip amount at 200 to remove extremely high tip amounts\n",
    "df_taxi= df_taxi.loc[(df_taxi['fare_amount']< 1000) & \n",
    "                   (df_taxi['trip_distance']< 200), :]"
   ]
  },
  {
   "cell_type": "markdown",
   "metadata": {},
   "source": [
    "https://www.netstate.com/states/geography/ny_geography.htm\n"
   ]
  },
  {
   "cell_type": "code",
   "execution_count": 55,
   "metadata": {},
   "outputs": [],
   "source": [
    "df_fhv= df_fhv.loc[(df_fhv['total_trip_duration']> 1) &\n",
    "                    (df_fhv['total_trip_duration']< 12*60), :]"
   ]
  },
  {
   "cell_type": "markdown",
   "metadata": {},
   "source": [
    "### Create Passenger Count column for FHV Dataset\n",
    "We are assuming that the passenger count is under a similar distribution as the taxi dataset. This is further backed up by the report indicating that uber passenger count mean is 1.75-2 matching with the summary we have indicating that passenger count mean is 1.6. (https://pantonium.com/some-uber-statistics/) \n",
    "However, in order to determine whether we are to use the median (1) or mean (2), we should calculate the percentage of taxi dataset where there is 1 passenger"
   ]
  },
  {
   "cell_type": "markdown",
   "metadata": {},
   "source": [
    "Median and mean is not always equal for certain attributes. This indicates that we are dealing with skewed dataset. "
   ]
  },
  {
   "cell_type": "code",
   "execution_count": 56,
   "metadata": {
    "scrolled": true
   },
   "outputs": [
    {
     "data": {
      "text/plain": [
       "0.7211586989034738"
      ]
     },
     "execution_count": 56,
     "metadata": {},
     "output_type": "execute_result"
    }
   ],
   "source": [
    "len(df_taxi[df_taxi['passenger_count']==   1])/df_taxi.shape[0]"
   ]
  },
  {
   "cell_type": "markdown",
   "metadata": {},
   "source": [
    "Since around 70% of the data is of one pessenger and since 1 is a minimum, the data is indicated to be right skewed. Hence , we will use the median"
   ]
  },
  {
   "cell_type": "code",
   "execution_count": 57,
   "metadata": {},
   "outputs": [],
   "source": [
    "df_fhv['passenger_count']=1"
   ]
  },
  {
   "cell_type": "markdown",
   "metadata": {},
   "source": [
    "## Cleaning Location Zone Dataset"
   ]
  },
  {
   "cell_type": "code",
   "execution_count": 58,
   "metadata": {},
   "outputs": [
    {
     "name": "stdout",
     "output_type": "stream",
     "text": [
      "<class 'pandas.core.frame.DataFrame'>\n",
      "RangeIndex: 265 entries, 0 to 264\n",
      "Data columns (total 4 columns):\n",
      " #   Column        Non-Null Count  Dtype \n",
      "---  ------        --------------  ----- \n",
      " 0   LocationID    265 non-null    int64 \n",
      " 1   Borough       265 non-null    object\n",
      " 2   Zone          264 non-null    object\n",
      " 3   service_zone  263 non-null    object\n",
      "dtypes: int64(1), object(3)\n",
      "memory usage: 8.4+ KB\n"
     ]
    }
   ],
   "source": [
    "dfzone.info()"
   ]
  },
  {
   "cell_type": "code",
   "execution_count": 59,
   "metadata": {},
   "outputs": [
    {
     "data": {
      "text/html": [
       "<div>\n",
       "<style scoped>\n",
       "    .dataframe tbody tr th:only-of-type {\n",
       "        vertical-align: middle;\n",
       "    }\n",
       "\n",
       "    .dataframe tbody tr th {\n",
       "        vertical-align: top;\n",
       "    }\n",
       "\n",
       "    .dataframe thead th {\n",
       "        text-align: right;\n",
       "    }\n",
       "</style>\n",
       "<table border=\"1\" class=\"dataframe\">\n",
       "  <thead>\n",
       "    <tr style=\"text-align: right;\">\n",
       "      <th></th>\n",
       "      <th>LocationID</th>\n",
       "    </tr>\n",
       "  </thead>\n",
       "  <tbody>\n",
       "    <tr>\n",
       "      <th>count</th>\n",
       "      <td>265.000000</td>\n",
       "    </tr>\n",
       "    <tr>\n",
       "      <th>mean</th>\n",
       "      <td>133.000000</td>\n",
       "    </tr>\n",
       "    <tr>\n",
       "      <th>std</th>\n",
       "      <td>76.643112</td>\n",
       "    </tr>\n",
       "    <tr>\n",
       "      <th>min</th>\n",
       "      <td>1.000000</td>\n",
       "    </tr>\n",
       "    <tr>\n",
       "      <th>25%</th>\n",
       "      <td>67.000000</td>\n",
       "    </tr>\n",
       "    <tr>\n",
       "      <th>50%</th>\n",
       "      <td>133.000000</td>\n",
       "    </tr>\n",
       "    <tr>\n",
       "      <th>75%</th>\n",
       "      <td>199.000000</td>\n",
       "    </tr>\n",
       "    <tr>\n",
       "      <th>max</th>\n",
       "      <td>265.000000</td>\n",
       "    </tr>\n",
       "  </tbody>\n",
       "</table>\n",
       "</div>"
      ],
      "text/plain": [
       "       LocationID\n",
       "count  265.000000\n",
       "mean   133.000000\n",
       "std     76.643112\n",
       "min      1.000000\n",
       "25%     67.000000\n",
       "50%    133.000000\n",
       "75%    199.000000\n",
       "max    265.000000"
      ]
     },
     "execution_count": 59,
     "metadata": {},
     "output_type": "execute_result"
    }
   ],
   "source": [
    "dfzone.describe()"
   ]
  },
  {
   "cell_type": "markdown",
   "metadata": {},
   "source": [
    "### Remove Instances from FHV data that are not avaible in taxi data"
   ]
  },
  {
   "cell_type": "code",
   "execution_count": 60,
   "metadata": {
    "scrolled": true
   },
   "outputs": [
    {
     "name": "stdout",
     "output_type": "stream",
     "text": [
      "Taxi Loc ID list: [249, 48, 229, 137, 231, 170, 143, 162, 25, 107, 148, 142, 140, 87, 79, 41, 50, 186, 237, 238, 246, 239, 100, 90, 158, 45, 232, 141, 138, 211, 97, 163, 161, 164, 144, 113, 114, 230, 68, 234, 88, 255, 13, 236, 262, 263, 209, 261, 146, 233, 4, 24, 256, 151, 66, 264, 125, 75, 17, 195, 43, 166, 74, 224, 116, 244, 42, 181, 80, 226, 65, 132, 179, 36, 152, 106, 7, 33, 193, 12, 37, 40, 1, 136, 145, 52, 257, 129, 82, 260, 95, 18, 223, 54, 265, 112, 21, 202, 189, 185, 3, 20, 188, 49, 70, 228, 243, 207, 127, 168, 130, 190, 76, 133, 81, 11, 14, 34, 245, 28, 235, 61, 93, 160, 171, 217, 157, 126, 96, 8, 242, 175, 173, 135, 220, 128, 78, 83, 31, 159, 196, 118, 222, 225, 91, 131, 55, 56, 194, 153, 165, 89, 94, 69, 216, 247, 71, 62, 191, 120, 10, 203, 169, 254, 252, 182, 227, 198, 248, 174, 47, 105, 215, 258, 51, 178, 19, 250, 98, 212, 206, 199, 205, 200, 197, 219, 134, 167, 26, 210, 241, 38, 192, 92, 22, 119, 177, 180, 72, 35, 102, 16, 29, 85, 64, 59, 53, 23, 15, 111, 67, 150, 121, 122, 124, 147, 240, 213, 149, 73, 123, 57, 6, 5, 39, 139, 101, 208, 218, 155, 32, 117, 27, 251, 221, 77, 63, 259, 108, 60, 154, 86, 187, 2, 156, 109, 99, 9, 253, 46, 58, 214]\n",
      "FHV Loc ID list: [36, 37, 25, 65, 140, 161, 209, 186, 164, 229, 61, 255, 261, 79, 113, 49, 257, 142, 130, 256, 148, 81, 259, 168, 116, 244, 107, 50, 239, 243, 155, 150, 132, 102, 163, 114, 145, 230, 249, 100, 237, 16, 87, 228, 227, 162, 97, 7, 170, 90, 51, 127, 68, 13, 88, 188, 196, 234, 21, 22, 75, 43, 235, 258, 14, 141, 151, 263, 158, 125, 39, 76, 18, 136, 241, 147, 159, 216, 48, 238, 133, 71, 179, 191, 129, 47, 254, 211, 17, 144, 225, 45, 223, 95, 134, 200, 112, 80, 185, 195, 54, 138, 233, 89, 181, 117, 201, 74, 137, 106, 189, 91, 231, 66, 67, 224, 41, 42, 52, 55, 210, 232, 198, 3, 92, 246, 174, 131, 157, 165, 166, 226, 149, 29, 35, 77, 60, 152, 242, 139, 26, 208, 83, 62, 94, 250, 4, 260, 11, 236, 167, 126, 40, 193, 219, 56, 63, 180, 197, 212, 182, 24, 153, 82, 217, 146, 33, 85, 247, 213, 177, 143, 206, 122, 173, 20, 78, 115, 218, 221, 69, 119, 214, 207, 262, 72, 215, 183, 248, 10, 203, 135, 220, 108, 123, 156, 172, 93, 53, 222, 205, 32, 171, 64, 169, 9, 240, 251, 118, 70, 121, 73, 184, 192, 19, 160, 98, 178, 154, 175, 99, 128, 101, 124, 28, 12, 187, 38, 190, 23, 265, 86, 46, 6, 109, 176, 84, 15, 202, 245, 34, 44, 5, 96, 57, 31, 59, 252, 204, 1, 194, 58, 120, 30, 27, 111, 8, 253, 110, 2, 264, 105, 199]\n",
      "To be deleted: [201, 115, 183, 172, 184, 176, 84, 44, 204, 30, 110]\n",
      "removing 201 ...\n",
      "removing 115 ...\n",
      "removing 183 ...\n",
      "removing 172 ...\n",
      "removing 184 ...\n",
      "removing 176 ...\n",
      "removing 84 ...\n",
      "removing 44 ...\n",
      "removing 204 ...\n",
      "removing 30 ...\n",
      "removing 110 ...\n"
     ]
    }
   ],
   "source": [
    "loc_lst= list(df_taxi['PULocationID'].unique())\n",
    "loc_lst_fhv= list(df_fhv['PULocationID'].unique())\n",
    "print(\"Taxi Loc ID list:\", loc_lst)\n",
    "print(\"FHV Loc ID list:\", loc_lst_fhv)\n",
    "del_lst= []\n",
    "for i in loc_lst_fhv:\n",
    "    if i not in loc_lst:\n",
    "        del_lst.append(i)\n",
    "print(\"To be deleted:\", del_lst)\n",
    "for i in del_lst:\n",
    "    print(\"removing\",i,\"...\")\n",
    "    df_fhv= df_fhv.loc[df_fhv['PULocationID']!= i]"
   ]
  },
  {
   "cell_type": "markdown",
   "metadata": {},
   "source": [
    "### Remove the duplicates"
   ]
  },
  {
   "cell_type": "code",
   "execution_count": 61,
   "metadata": {},
   "outputs": [
    {
     "name": "stdout",
     "output_type": "stream",
     "text": [
      "There is duplicates. This statement is: True\n"
     ]
    },
    {
     "data": {
      "text/html": [
       "<div>\n",
       "<style scoped>\n",
       "    .dataframe tbody tr th:only-of-type {\n",
       "        vertical-align: middle;\n",
       "    }\n",
       "\n",
       "    .dataframe tbody tr th {\n",
       "        vertical-align: top;\n",
       "    }\n",
       "\n",
       "    .dataframe thead th {\n",
       "        text-align: right;\n",
       "    }\n",
       "</style>\n",
       "<table border=\"1\" class=\"dataframe\">\n",
       "  <thead>\n",
       "    <tr style=\"text-align: right;\">\n",
       "      <th></th>\n",
       "      <th>LocationID</th>\n",
       "      <th>Borough</th>\n",
       "      <th>Zone</th>\n",
       "      <th>service_zone</th>\n",
       "    </tr>\n",
       "  </thead>\n",
       "  <tbody>\n",
       "    <tr>\n",
       "      <th>55</th>\n",
       "      <td>56</td>\n",
       "      <td>Queens</td>\n",
       "      <td>Corona</td>\n",
       "      <td>Boro Zone</td>\n",
       "    </tr>\n",
       "    <tr>\n",
       "      <th>56</th>\n",
       "      <td>57</td>\n",
       "      <td>Queens</td>\n",
       "      <td>Corona</td>\n",
       "      <td>Boro Zone</td>\n",
       "    </tr>\n",
       "    <tr>\n",
       "      <th>102</th>\n",
       "      <td>103</td>\n",
       "      <td>Manhattan</td>\n",
       "      <td>Governor's Island/Ellis Island/Liberty Island</td>\n",
       "      <td>Yellow Zone</td>\n",
       "    </tr>\n",
       "    <tr>\n",
       "      <th>103</th>\n",
       "      <td>104</td>\n",
       "      <td>Manhattan</td>\n",
       "      <td>Governor's Island/Ellis Island/Liberty Island</td>\n",
       "      <td>Yellow Zone</td>\n",
       "    </tr>\n",
       "    <tr>\n",
       "      <th>104</th>\n",
       "      <td>105</td>\n",
       "      <td>Manhattan</td>\n",
       "      <td>Governor's Island/Ellis Island/Liberty Island</td>\n",
       "      <td>Yellow Zone</td>\n",
       "    </tr>\n",
       "  </tbody>\n",
       "</table>\n",
       "</div>"
      ],
      "text/plain": [
       "     LocationID    Borough                                           Zone  \\\n",
       "55           56     Queens                                         Corona   \n",
       "56           57     Queens                                         Corona   \n",
       "102         103  Manhattan  Governor's Island/Ellis Island/Liberty Island   \n",
       "103         104  Manhattan  Governor's Island/Ellis Island/Liberty Island   \n",
       "104         105  Manhattan  Governor's Island/Ellis Island/Liberty Island   \n",
       "\n",
       "    service_zone  \n",
       "55     Boro Zone  \n",
       "56     Boro Zone  \n",
       "102  Yellow Zone  \n",
       "103  Yellow Zone  \n",
       "104  Yellow Zone  "
      ]
     },
     "execution_count": 61,
     "metadata": {},
     "output_type": "execute_result"
    }
   ],
   "source": [
    "print(\"There is duplicates. This statement is:\", dfzone.duplicated(subset=['Borough', 'Zone', 'service_zone']).any())\n",
    "dfzone[dfzone[['Borough', 'Zone', 'service_zone']].duplicated(keep=False) == True]"
   ]
  },
  {
   "cell_type": "markdown",
   "metadata": {},
   "source": [
    "Look into the duplicates further before considering to remove the rows"
   ]
  },
  {
   "cell_type": "code",
   "execution_count": 62,
   "metadata": {},
   "outputs": [
    {
     "name": "stdout",
     "output_type": "stream",
     "text": [
      "For Taxi datasets:\n",
      "The number of trips with PUlocation ID of 56 is 29\n",
      "The number of trips with PUlocation ID of 57 is 4\n",
      "The number of trips with PUlocation ID of 103 is 0\n",
      "The number of trips with PUlocation ID of 104 is 0\n",
      "The number of trips with PUlocation ID of 105 is 22\n",
      "For FHV datasets:\n",
      "The number of trips with PUlocation ID of 56 is 173954\n",
      "The number of trips with PUlocation ID of 57 is 13040\n",
      "The number of trips with PUlocation ID of 103 is 0\n",
      "The number of trips with PUlocation ID of 104 is 0\n",
      "The number of trips with PUlocation ID of 105 is 15\n"
     ]
    }
   ],
   "source": [
    "print(\"For Taxi datasets:\")\n",
    "#Checking Location ID 56 and 57\n",
    "print(\"The number of trips with PUlocation ID of 56 is\", len(df_taxi.loc[df_taxi['PULocationID']== 56]))\n",
    "print(\"The number of trips with PUlocation ID of 57 is\", len(df_taxi.loc[df_taxi['PULocationID']== 57]))\n",
    "#Checking location ID 103,104,105\n",
    "print(\"The number of trips with PUlocation ID of 103 is\", len(df_taxi.loc[df_taxi['PULocationID']== 103]))\n",
    "print(\"The number of trips with PUlocation ID of 104 is\", len(df_taxi.loc[df_taxi['PULocationID']== 104]))\n",
    "print(\"The number of trips with PUlocation ID of 105 is\", len(df_taxi.loc[df_taxi['PULocationID']== 105]))\n",
    "\n",
    "print(\"For FHV datasets:\")\n",
    "#Checking Location ID 56 and 57\n",
    "print(\"The number of trips with PUlocation ID of 56 is\", len(df_fhv.loc[df_fhv['PULocationID']== 56]))\n",
    "print(\"The number of trips with PUlocation ID of 57 is\", len(df_fhv.loc[df_fhv['PULocationID']== 57]))\n",
    "#Checking location ID 103,104,105\n",
    "print(\"The number of trips with PUlocation ID of 103 is\", len(df_fhv.loc[df_fhv['PULocationID']== 103]))\n",
    "print(\"The number of trips with PUlocation ID of 104 is\", len(df_fhv.loc[df_fhv['PULocationID']== 104]))\n",
    "print(\"The number of trips with PUlocation ID of 105 is\", len(df_fhv.loc[df_fhv['PULocationID']== 105]))"
   ]
  },
  {
   "cell_type": "markdown",
   "metadata": {},
   "source": [
    "Since there is only relatively much smaller proportion of trips in area 57 compared to 56, it is safe to assume that there may have been a mistake and the same location was matched to a locationID twice. Hence, all trips from locationid 57 will be marked as 56. As for the the last 3 locationsIDs, there is no need to combine data since Locations IDs 103 and 104 are not present in the taxi and fhv dataset."
   ]
  },
  {
   "cell_type": "code",
   "execution_count": 63,
   "metadata": {},
   "outputs": [],
   "source": [
    "df_taxi.loc[df_taxi['PULocationID']== 57,'PULocationID' ] = 56\n",
    "df_taxi.loc[df_taxi['DOLocationID']== 57, 'DOLocationID'] = 56\n",
    "df_fhv.loc[df_fhv['PULocationID']== 57, 'PULocationID'] = 56\n",
    "df_fhv.loc[df_fhv['DOLocationID']== 57, 'DOLocationID'] = 56"
   ]
  },
  {
   "cell_type": "markdown",
   "metadata": {},
   "source": [
    "### Delete Invalid Zones\n",
    "\n",
    "Remove the last two invalid entries and any other similar entries"
   ]
  },
  {
   "cell_type": "code",
   "execution_count": 64,
   "metadata": {},
   "outputs": [
    {
     "data": {
      "text/html": [
       "<div>\n",
       "<style scoped>\n",
       "    .dataframe tbody tr th:only-of-type {\n",
       "        vertical-align: middle;\n",
       "    }\n",
       "\n",
       "    .dataframe tbody tr th {\n",
       "        vertical-align: top;\n",
       "    }\n",
       "\n",
       "    .dataframe thead th {\n",
       "        text-align: right;\n",
       "    }\n",
       "</style>\n",
       "<table border=\"1\" class=\"dataframe\">\n",
       "  <thead>\n",
       "    <tr style=\"text-align: right;\">\n",
       "      <th></th>\n",
       "      <th>LocationID</th>\n",
       "      <th>Borough</th>\n",
       "      <th>Zone</th>\n",
       "      <th>service_zone</th>\n",
       "    </tr>\n",
       "  </thead>\n",
       "  <tbody>\n",
       "    <tr>\n",
       "      <th>263</th>\n",
       "      <td>264</td>\n",
       "      <td>Unknown</td>\n",
       "      <td>NV</td>\n",
       "      <td>NaN</td>\n",
       "    </tr>\n",
       "    <tr>\n",
       "      <th>264</th>\n",
       "      <td>265</td>\n",
       "      <td>Unknown</td>\n",
       "      <td>NaN</td>\n",
       "      <td>NaN</td>\n",
       "    </tr>\n",
       "  </tbody>\n",
       "</table>\n",
       "</div>"
      ],
      "text/plain": [
       "     LocationID  Borough Zone service_zone\n",
       "263         264  Unknown   NV          NaN\n",
       "264         265  Unknown  NaN          NaN"
      ]
     },
     "execution_count": 64,
     "metadata": {},
     "output_type": "execute_result"
    }
   ],
   "source": [
    "dfzone.loc[dfzone[\"Borough\"]=='Unknown']"
   ]
  },
  {
   "cell_type": "code",
   "execution_count": 65,
   "metadata": {},
   "outputs": [],
   "source": [
    "df_taxi= df_taxi.loc[df_taxi['PULocationID']!= 264]\n",
    "df_fhv= df_fhv.loc[df_fhv['PULocationID']!= 264]\n",
    "df_taxi= df_taxi.loc[df_taxi['PULocationID']!= 265] \n",
    "df_fhv= df_fhv.loc[df_fhv['PULocationID']!= 265] "
   ]
  },
  {
   "cell_type": "markdown",
   "metadata": {},
   "source": [
    "## Loading Weather Data"
   ]
  },
  {
   "cell_type": "code",
   "execution_count": 67,
   "metadata": {},
   "outputs": [],
   "source": [
    "dfweather = pd.read_csv(\"../raw_data/large/weather_data_3-5_2019.csv\")\n",
    "dfweather.reset_index().to_feather('../raw_data/large/weather_data_3-5_2019.feather')\n",
    "dfweather = pd.read_feather('../raw_data/large/weather_data_3-5_2019.feather')"
   ]
  },
  {
   "cell_type": "code",
   "execution_count": 68,
   "metadata": {},
   "outputs": [
    {
     "data": {
      "text/html": [
       "<div>\n",
       "<style scoped>\n",
       "    .dataframe tbody tr th:only-of-type {\n",
       "        vertical-align: middle;\n",
       "    }\n",
       "\n",
       "    .dataframe tbody tr th {\n",
       "        vertical-align: top;\n",
       "    }\n",
       "\n",
       "    .dataframe thead th {\n",
       "        text-align: right;\n",
       "    }\n",
       "</style>\n",
       "<table border=\"1\" class=\"dataframe\">\n",
       "  <thead>\n",
       "    <tr style=\"text-align: right;\">\n",
       "      <th></th>\n",
       "      <th>index</th>\n",
       "      <th>station</th>\n",
       "      <th>valid</th>\n",
       "      <th>lon</th>\n",
       "      <th>lat</th>\n",
       "      <th>tmpf</th>\n",
       "      <th>tmpc</th>\n",
       "      <th>dwpf</th>\n",
       "      <th>dwpc</th>\n",
       "      <th>relh</th>\n",
       "      <th>feel</th>\n",
       "      <th>drct</th>\n",
       "      <th>sknt</th>\n",
       "      <th>sped</th>\n",
       "      <th>alti</th>\n",
       "      <th>mslp</th>\n",
       "      <th>p01m</th>\n",
       "    </tr>\n",
       "  </thead>\n",
       "  <tbody>\n",
       "    <tr>\n",
       "      <th>0</th>\n",
       "      <td>0</td>\n",
       "      <td>NYC</td>\n",
       "      <td>2019-03-01 00:51</td>\n",
       "      <td>-73.9693</td>\n",
       "      <td>40.779</td>\n",
       "      <td>30.0</td>\n",
       "      <td>-1.11</td>\n",
       "      <td>10.9</td>\n",
       "      <td>-11.72</td>\n",
       "      <td>44.37</td>\n",
       "      <td>NaN</td>\n",
       "      <td>NaN</td>\n",
       "      <td>NaN</td>\n",
       "      <td>NaN</td>\n",
       "      <td>30.28</td>\n",
       "      <td>1024.8</td>\n",
       "      <td>0.00</td>\n",
       "    </tr>\n",
       "    <tr>\n",
       "      <th>1</th>\n",
       "      <td>1</td>\n",
       "      <td>NYC</td>\n",
       "      <td>2019-03-01 01:51</td>\n",
       "      <td>-73.9693</td>\n",
       "      <td>40.779</td>\n",
       "      <td>30.0</td>\n",
       "      <td>-1.11</td>\n",
       "      <td>14.0</td>\n",
       "      <td>-10.00</td>\n",
       "      <td>50.88</td>\n",
       "      <td>NaN</td>\n",
       "      <td>NaN</td>\n",
       "      <td>NaN</td>\n",
       "      <td>NaN</td>\n",
       "      <td>30.30</td>\n",
       "      <td>1025.5</td>\n",
       "      <td>0.00</td>\n",
       "    </tr>\n",
       "    <tr>\n",
       "      <th>2</th>\n",
       "      <td>2</td>\n",
       "      <td>NYC</td>\n",
       "      <td>2019-03-01 02:51</td>\n",
       "      <td>-73.9693</td>\n",
       "      <td>40.779</td>\n",
       "      <td>30.0</td>\n",
       "      <td>-1.11</td>\n",
       "      <td>15.1</td>\n",
       "      <td>-9.39</td>\n",
       "      <td>53.38</td>\n",
       "      <td>NaN</td>\n",
       "      <td>NaN</td>\n",
       "      <td>NaN</td>\n",
       "      <td>NaN</td>\n",
       "      <td>30.33</td>\n",
       "      <td>1026.2</td>\n",
       "      <td>0.00</td>\n",
       "    </tr>\n",
       "    <tr>\n",
       "      <th>3</th>\n",
       "      <td>3</td>\n",
       "      <td>NYC</td>\n",
       "      <td>2019-03-01 03:51</td>\n",
       "      <td>-73.9693</td>\n",
       "      <td>40.779</td>\n",
       "      <td>30.0</td>\n",
       "      <td>-1.11</td>\n",
       "      <td>16.0</td>\n",
       "      <td>-8.89</td>\n",
       "      <td>55.52</td>\n",
       "      <td>NaN</td>\n",
       "      <td>NaN</td>\n",
       "      <td>NaN</td>\n",
       "      <td>NaN</td>\n",
       "      <td>30.30</td>\n",
       "      <td>1025.4</td>\n",
       "      <td>0.00</td>\n",
       "    </tr>\n",
       "    <tr>\n",
       "      <th>4</th>\n",
       "      <td>4</td>\n",
       "      <td>NYC</td>\n",
       "      <td>2019-03-01 04:48</td>\n",
       "      <td>-73.9693</td>\n",
       "      <td>40.779</td>\n",
       "      <td>28.4</td>\n",
       "      <td>-2.00</td>\n",
       "      <td>19.4</td>\n",
       "      <td>-7.00</td>\n",
       "      <td>68.61</td>\n",
       "      <td>NaN</td>\n",
       "      <td>NaN</td>\n",
       "      <td>NaN</td>\n",
       "      <td>NaN</td>\n",
       "      <td>30.34</td>\n",
       "      <td>NaN</td>\n",
       "      <td>T</td>\n",
       "    </tr>\n",
       "  </tbody>\n",
       "</table>\n",
       "</div>"
      ],
      "text/plain": [
       "   index station             valid      lon     lat  tmpf  tmpc  dwpf   dwpc  \\\n",
       "0      0     NYC  2019-03-01 00:51 -73.9693  40.779  30.0 -1.11  10.9 -11.72   \n",
       "1      1     NYC  2019-03-01 01:51 -73.9693  40.779  30.0 -1.11  14.0 -10.00   \n",
       "2      2     NYC  2019-03-01 02:51 -73.9693  40.779  30.0 -1.11  15.1  -9.39   \n",
       "3      3     NYC  2019-03-01 03:51 -73.9693  40.779  30.0 -1.11  16.0  -8.89   \n",
       "4      4     NYC  2019-03-01 04:48 -73.9693  40.779  28.4 -2.00  19.4  -7.00   \n",
       "\n",
       "    relh  feel  drct  sknt  sped   alti    mslp  p01m  \n",
       "0  44.37   NaN   NaN   NaN   NaN  30.28  1024.8  0.00  \n",
       "1  50.88   NaN   NaN   NaN   NaN  30.30  1025.5  0.00  \n",
       "2  53.38   NaN   NaN   NaN   NaN  30.33  1026.2  0.00  \n",
       "3  55.52   NaN   NaN   NaN   NaN  30.30  1025.4  0.00  \n",
       "4  68.61   NaN   NaN   NaN   NaN  30.34     NaN     T  "
      ]
     },
     "execution_count": 68,
     "metadata": {},
     "output_type": "execute_result"
    }
   ],
   "source": [
    "dfweather.head()"
   ]
  },
  {
   "cell_type": "code",
   "execution_count": 69,
   "metadata": {},
   "outputs": [
    {
     "name": "stdout",
     "output_type": "stream",
     "text": [
      "<class 'pandas.core.frame.DataFrame'>\n",
      "RangeIndex: 2867 entries, 0 to 2866\n",
      "Data columns (total 17 columns):\n",
      " #   Column   Non-Null Count  Dtype  \n",
      "---  ------   --------------  -----  \n",
      " 0   index    2867 non-null   int64  \n",
      " 1   station  2867 non-null   object \n",
      " 2   valid    2867 non-null   object \n",
      " 3   lon      2867 non-null   float64\n",
      " 4   lat      2867 non-null   float64\n",
      " 5   tmpf     2774 non-null   float64\n",
      " 6   tmpc     2774 non-null   float64\n",
      " 7   dwpf     2774 non-null   float64\n",
      " 8   dwpc     2774 non-null   float64\n",
      " 9   relh     2774 non-null   float64\n",
      " 10  feel     2212 non-null   float64\n",
      " 11  drct     1513 non-null   float64\n",
      " 12  sknt     2281 non-null   float64\n",
      " 13  sped     2281 non-null   float64\n",
      " 14  alti     2860 non-null   float64\n",
      " 15  mslp     2096 non-null   float64\n",
      " 16  p01m     2867 non-null   object \n",
      "dtypes: float64(13), int64(1), object(3)\n",
      "memory usage: 380.9+ KB\n"
     ]
    }
   ],
   "source": [
    "dfweather.info()"
   ]
  },
  {
   "cell_type": "markdown",
   "metadata": {},
   "source": [
    "The following code drops the unnecessary date, ename the columns to be more readable and change the data to the appropriate datatype:"
   ]
  },
  {
   "cell_type": "code",
   "execution_count": 70,
   "metadata": {},
   "outputs": [],
   "source": [
    "dfweather= dfweather.rename(columns={\"valid\":\"datetime\",\"lon\": \"longitude\", \"lat\": \"latitude\", \"tmpf\": \"tempF\", \"relh\": \"relhumidity\", \"p01m\" : \"precipitation\" }, errors=\"raise\")"
   ]
  },
  {
   "cell_type": "code",
   "execution_count": 71,
   "metadata": {},
   "outputs": [],
   "source": [
    "dfweather= dfweather.drop(columns=['index','station','tmpc', 'dwpf','dwpc', 'feel', 'drct', 'sknt', 'sped', 'alti', 'mslp'])"
   ]
  },
  {
   "cell_type": "code",
   "execution_count": 72,
   "metadata": {},
   "outputs": [],
   "source": [
    "# Change dates to  datetime type\n",
    "dfweather['datetime']= dfweather['datetime'].apply(lambda ogdate: datetime.strptime(str(ogdate), '%Y-%m-%d %H:%M'))"
   ]
  },
  {
   "cell_type": "markdown",
   "metadata": {},
   "source": [
    "Check for null values:"
   ]
  },
  {
   "cell_type": "code",
   "execution_count": 73,
   "metadata": {
    "scrolled": true
   },
   "outputs": [
    {
     "name": "stdout",
     "output_type": "stream",
     "text": [
      "datetime          0\n",
      "longitude         0\n",
      "latitude          0\n",
      "tempF            93\n",
      "relhumidity      93\n",
      "precipitation     0\n",
      "dtype: int64\n"
     ]
    }
   ],
   "source": [
    "#check if there is missing entries\n",
    "print(dfweather.isnull().sum())"
   ]
  },
  {
   "cell_type": "code",
   "execution_count": 74,
   "metadata": {},
   "outputs": [],
   "source": [
    "dfweather= dfweather.loc[dfweather['relhumidity'].notna()]\n",
    "dfweater= dfweather.loc[dfweather['precipitation'].notna()]"
   ]
  },
  {
   "cell_type": "code",
   "execution_count": 75,
   "metadata": {
    "scrolled": true
   },
   "outputs": [
    {
     "data": {
      "text/html": [
       "<div>\n",
       "<style scoped>\n",
       "    .dataframe tbody tr th:only-of-type {\n",
       "        vertical-align: middle;\n",
       "    }\n",
       "\n",
       "    .dataframe tbody tr th {\n",
       "        vertical-align: top;\n",
       "    }\n",
       "\n",
       "    .dataframe thead th {\n",
       "        text-align: right;\n",
       "    }\n",
       "</style>\n",
       "<table border=\"1\" class=\"dataframe\">\n",
       "  <thead>\n",
       "    <tr style=\"text-align: right;\">\n",
       "      <th></th>\n",
       "      <th>longitude</th>\n",
       "      <th>latitude</th>\n",
       "      <th>tempF</th>\n",
       "      <th>relhumidity</th>\n",
       "    </tr>\n",
       "  </thead>\n",
       "  <tbody>\n",
       "    <tr>\n",
       "      <th>count</th>\n",
       "      <td>2774.0</td>\n",
       "      <td>2774.0</td>\n",
       "      <td>2774.0</td>\n",
       "      <td>2774.0</td>\n",
       "    </tr>\n",
       "    <tr>\n",
       "      <th>mean</th>\n",
       "      <td>-74.0</td>\n",
       "      <td>40.8</td>\n",
       "      <td>51.9</td>\n",
       "      <td>66.5</td>\n",
       "    </tr>\n",
       "    <tr>\n",
       "      <th>std</th>\n",
       "      <td>0.0</td>\n",
       "      <td>0.0</td>\n",
       "      <td>11.9</td>\n",
       "      <td>23.5</td>\n",
       "    </tr>\n",
       "    <tr>\n",
       "      <th>min</th>\n",
       "      <td>-74.0</td>\n",
       "      <td>40.8</td>\n",
       "      <td>18.0</td>\n",
       "      <td>13.0</td>\n",
       "    </tr>\n",
       "    <tr>\n",
       "      <th>25%</th>\n",
       "      <td>-74.0</td>\n",
       "      <td>40.8</td>\n",
       "      <td>44.1</td>\n",
       "      <td>46.8</td>\n",
       "    </tr>\n",
       "    <tr>\n",
       "      <th>50%</th>\n",
       "      <td>-74.0</td>\n",
       "      <td>40.8</td>\n",
       "      <td>52.0</td>\n",
       "      <td>69.4</td>\n",
       "    </tr>\n",
       "    <tr>\n",
       "      <th>75%</th>\n",
       "      <td>-74.0</td>\n",
       "      <td>40.8</td>\n",
       "      <td>60.1</td>\n",
       "      <td>89.5</td>\n",
       "    </tr>\n",
       "    <tr>\n",
       "      <th>max</th>\n",
       "      <td>-74.0</td>\n",
       "      <td>40.8</td>\n",
       "      <td>86.0</td>\n",
       "      <td>100.0</td>\n",
       "    </tr>\n",
       "  </tbody>\n",
       "</table>\n",
       "</div>"
      ],
      "text/plain": [
       "       longitude  latitude   tempF  relhumidity\n",
       "count     2774.0    2774.0  2774.0       2774.0\n",
       "mean       -74.0      40.8    51.9         66.5\n",
       "std          0.0       0.0    11.9         23.5\n",
       "min        -74.0      40.8    18.0         13.0\n",
       "25%        -74.0      40.8    44.1         46.8\n",
       "50%        -74.0      40.8    52.0         69.4\n",
       "75%        -74.0      40.8    60.1         89.5\n",
       "max        -74.0      40.8    86.0        100.0"
      ]
     },
     "execution_count": 75,
     "metadata": {},
     "output_type": "execute_result"
    }
   ],
   "source": [
    "dfweather.describe().round(1)"
   ]
  },
  {
   "cell_type": "markdown",
   "metadata": {},
   "source": [
    "The longitude and latitude seems to be unnecessary information since all of are the same (-74longitude and 41 latitude). Hence it can be deleted"
   ]
  },
  {
   "cell_type": "code",
   "execution_count": 76,
   "metadata": {},
   "outputs": [],
   "source": [
    "dfweather= dfweather.drop(columns =['longitude', 'latitude'])"
   ]
  },
  {
   "cell_type": "code",
   "execution_count": 77,
   "metadata": {
    "scrolled": true
   },
   "outputs": [
    {
     "data": {
      "text/html": [
       "<div>\n",
       "<style scoped>\n",
       "    .dataframe tbody tr th:only-of-type {\n",
       "        vertical-align: middle;\n",
       "    }\n",
       "\n",
       "    .dataframe tbody tr th {\n",
       "        vertical-align: top;\n",
       "    }\n",
       "\n",
       "    .dataframe thead th {\n",
       "        text-align: right;\n",
       "    }\n",
       "</style>\n",
       "<table border=\"1\" class=\"dataframe\">\n",
       "  <thead>\n",
       "    <tr style=\"text-align: right;\">\n",
       "      <th></th>\n",
       "      <th>datetime</th>\n",
       "      <th>tempF</th>\n",
       "      <th>relhumidity</th>\n",
       "      <th>precipitation</th>\n",
       "    </tr>\n",
       "  </thead>\n",
       "  <tbody>\n",
       "    <tr>\n",
       "      <th>4</th>\n",
       "      <td>2019-03-01 04:48:00</td>\n",
       "      <td>28.4</td>\n",
       "      <td>68.61</td>\n",
       "      <td>0.005</td>\n",
       "    </tr>\n",
       "    <tr>\n",
       "      <th>5</th>\n",
       "      <td>2019-03-01 04:51:00</td>\n",
       "      <td>28.9</td>\n",
       "      <td>68.67</td>\n",
       "      <td>0.005</td>\n",
       "    </tr>\n",
       "    <tr>\n",
       "      <th>6</th>\n",
       "      <td>2019-03-01 04:56:00</td>\n",
       "      <td>28.0</td>\n",
       "      <td>77.57</td>\n",
       "      <td>0.005</td>\n",
       "    </tr>\n",
       "    <tr>\n",
       "      <th>7</th>\n",
       "      <td>2019-03-01 05:05:00</td>\n",
       "      <td>27.0</td>\n",
       "      <td>84.66</td>\n",
       "      <td>0.510</td>\n",
       "    </tr>\n",
       "    <tr>\n",
       "      <th>8</th>\n",
       "      <td>2019-03-01 05:13:00</td>\n",
       "      <td>27.0</td>\n",
       "      <td>84.66</td>\n",
       "      <td>1.020</td>\n",
       "    </tr>\n",
       "    <tr>\n",
       "      <th>...</th>\n",
       "      <td>...</td>\n",
       "      <td>...</td>\n",
       "      <td>...</td>\n",
       "      <td>...</td>\n",
       "    </tr>\n",
       "    <tr>\n",
       "      <th>2859</th>\n",
       "      <td>2019-05-30 22:16:00</td>\n",
       "      <td>63.0</td>\n",
       "      <td>96.88</td>\n",
       "      <td>0.005</td>\n",
       "    </tr>\n",
       "    <tr>\n",
       "      <th>2860</th>\n",
       "      <td>2019-05-30 22:24:00</td>\n",
       "      <td>63.0</td>\n",
       "      <td>96.88</td>\n",
       "      <td>0.005</td>\n",
       "    </tr>\n",
       "    <tr>\n",
       "      <th>2861</th>\n",
       "      <td>2019-05-30 22:31:00</td>\n",
       "      <td>63.0</td>\n",
       "      <td>96.88</td>\n",
       "      <td>0.005</td>\n",
       "    </tr>\n",
       "    <tr>\n",
       "      <th>2862</th>\n",
       "      <td>2019-05-30 22:40:00</td>\n",
       "      <td>63.0</td>\n",
       "      <td>96.88</td>\n",
       "      <td>0.005</td>\n",
       "    </tr>\n",
       "    <tr>\n",
       "      <th>2863</th>\n",
       "      <td>2019-05-30 22:51:00</td>\n",
       "      <td>63.0</td>\n",
       "      <td>96.88</td>\n",
       "      <td>0.005</td>\n",
       "    </tr>\n",
       "  </tbody>\n",
       "</table>\n",
       "<p>697 rows × 4 columns</p>\n",
       "</div>"
      ],
      "text/plain": [
       "                datetime  tempF  relhumidity  precipitation\n",
       "4    2019-03-01 04:48:00   28.4        68.61          0.005\n",
       "5    2019-03-01 04:51:00   28.9        68.67          0.005\n",
       "6    2019-03-01 04:56:00   28.0        77.57          0.005\n",
       "7    2019-03-01 05:05:00   27.0        84.66          0.510\n",
       "8    2019-03-01 05:13:00   27.0        84.66          1.020\n",
       "...                  ...    ...          ...            ...\n",
       "2859 2019-05-30 22:16:00   63.0        96.88          0.005\n",
       "2860 2019-05-30 22:24:00   63.0        96.88          0.005\n",
       "2861 2019-05-30 22:31:00   63.0        96.88          0.005\n",
       "2862 2019-05-30 22:40:00   63.0        96.88          0.005\n",
       "2863 2019-05-30 22:51:00   63.0        96.88          0.005\n",
       "\n",
       "[697 rows x 4 columns]"
      ]
     },
     "execution_count": 77,
     "metadata": {},
     "output_type": "execute_result"
    }
   ],
   "source": [
    "# t\n",
    "dfweather.loc[dfweather['precipitation']==\"T\", 'precipitation']= 0.005 #changed to 0.005 because meteoroligst counts min 0.01\n",
    "dfweather[\"precipitation\"] = dfweather[\"precipitation\"].apply(pd.to_numeric)\n",
    "dfweather.loc[dfweather[\"precipitation\"]>0.00]"
   ]
  },
  {
   "cell_type": "code",
   "execution_count": 78,
   "metadata": {},
   "outputs": [],
   "source": [
    "dfweather['time session']=pd.cut(dfweather['datetime'].dt.hour, [0,5,12,17,21,24],labels=[4,1,2,3,4],include_lowest=True, ordered=False)\n",
    "dfweather['date']= dfweather['datetime'].dt.date\n",
    "del dfweather['datetime']"
   ]
  },
  {
   "cell_type": "markdown",
   "metadata": {},
   "source": [
    "## Saving Datasets"
   ]
  },
  {
   "cell_type": "code",
   "execution_count": 79,
   "metadata": {
    "scrolled": true
   },
   "outputs": [
    {
     "data": {
      "text/plain": [
       "Index(['tpep_pickup_datetime', 'tpep_dropoff_datetime', 'passenger_count',\n",
       "       'trip_distance', 'PULocationID', 'DOLocationID', 'fare_amount', 'extra',\n",
       "       'mta_tax', 'tip_amount', 'tolls_amount', 'improvement_surcharge',\n",
       "       'total_amount', 'congestion_surcharge', 'total_trip_duration',\n",
       "       'avespeed_mileshr', 'time session', 'date', 'hour', 'day'],\n",
       "      dtype='object')"
      ]
     },
     "execution_count": 79,
     "metadata": {},
     "output_type": "execute_result"
    }
   ],
   "source": [
    "df_taxi.columns"
   ]
  },
  {
   "cell_type": "code",
   "execution_count": 80,
   "metadata": {},
   "outputs": [],
   "source": [
    "df_taxi= df_taxi.rename(columns={\"tpep_pickup_datetime\":\"pickup_datetime\", \"tpep_dropoff_datetime\": \"dropoff_datetime\"}, errors=\"raise\")"
   ]
  },
  {
   "cell_type": "code",
   "execution_count": 81,
   "metadata": {},
   "outputs": [
    {
     "name": "stdout",
     "output_type": "stream",
     "text": [
      "Taxi dataset has 0 missing values.\n",
      "FHV dataset has 0 missing values.\n"
     ]
    }
   ],
   "source": [
    "print(\"Taxi dataset has\", df_taxi.isnull().sum().sum(),\"missing values.\")\n",
    "print(\"FHV dataset has\", df_fhv.isnull().sum().sum(),\"missing values.\")"
   ]
  },
  {
   "cell_type": "code",
   "execution_count": 82,
   "metadata": {},
   "outputs": [
    {
     "name": "stdout",
     "output_type": "stream",
     "text": [
      "Taxi Dataset had originally 22830945 . Now, there is only 14453125 elements in the dataset.\n",
      "FHV Dataset had originally 67928519 . Now, there is only 66881481 elements in the dataset.\n",
      "Total trip data of  81334606\n"
     ]
    }
   ],
   "source": [
    "print(\"Taxi Dataset had originally\", old_size, \". Now, there is only\", len(df_taxi), \"elements in the dataset.\")\n",
    "print(\"FHV Dataset had originally\", old_size_fhv, \". Now, there is only\", len(df_fhv), \"elements in the dataset.\")\n",
    "print(\"Total trip data of \", len(df_taxi)+len(df_fhv))"
   ]
  },
  {
   "cell_type": "code",
   "execution_count": 83,
   "metadata": {},
   "outputs": [
    {
     "name": "stdout",
     "output_type": "stream",
     "text": [
      "taxi file saved\n",
      "fhv file saved\n"
     ]
    }
   ],
   "source": [
    "df_taxi.reset_index().to_feather(\"../preprocessed_data/feather/yellow_tripdata_2019.feather\")\n",
    "print(\"taxi file saved\")\n",
    "df_fhv.reset_index().to_feather(\"../preprocessed_data/feather/fhv_tripdata_2019.feather\")\n",
    "print(\"fhv file saved\")"
   ]
  },
  {
   "cell_type": "code",
   "execution_count": 84,
   "metadata": {},
   "outputs": [
    {
     "name": "stdout",
     "output_type": "stream",
     "text": [
      "weather file saved\n"
     ]
    }
   ],
   "source": [
    "dfweather.reset_index().to_feather('../preprocessed_data/feather/dfweather.feather')\n",
    "print(\"weather file saved\")"
   ]
  }
 ],
 "metadata": {
  "kernelspec": {
   "display_name": "Python 3 (ipykernel)",
   "language": "python",
   "name": "python3"
  },
  "language_info": {
   "codemirror_mode": {
    "name": "ipython",
    "version": 3
   },
   "file_extension": ".py",
   "mimetype": "text/x-python",
   "name": "python",
   "nbconvert_exporter": "python",
   "pygments_lexer": "ipython3",
   "version": "3.7.4"
  }
 },
 "nbformat": 4,
 "nbformat_minor": 2
}
