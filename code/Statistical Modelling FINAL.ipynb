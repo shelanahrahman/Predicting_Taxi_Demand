{
 "cells": [
  {
   "cell_type": "code",
   "execution_count": 19,
   "id": "5ea6fb1d",
   "metadata": {},
   "outputs": [],
   "source": [
    "import pandas as pd\n",
    "import numpy as np\n",
    "import matplotlib.pyplot as plt\n",
    "from sklearn.dummy import DummyClassifier\n",
    "from sklearn.ensemble import RandomForestClassifier\n",
    "from sklearn.model_selection import RandomizedSearchCV\n",
    "from sklearn.feature_selection import mutual_info_classif\n",
    "from sklearn.metrics import plot_confusion_matrix, classification_report, accuracy_score\n",
    "# a nice way of filtering out deprecated warnings\n",
    "import warnings\n",
    "warnings.filterwarnings(\"ignore\")"
   ]
  },
  {
   "cell_type": "markdown",
   "id": "17c8a94b",
   "metadata": {},
   "source": [
    "## Open Data and Save it"
   ]
  },
  {
   "cell_type": "code",
   "execution_count": 20,
   "id": "baceed5f",
   "metadata": {},
   "outputs": [],
   "source": [
    "trainingdf= pd.read_csv('../preprocessed_data/revisedtrainingdf.csv')\n",
    "testingdf= pd.read_csv('../preprocessed_data/revisedtestingdf.csv')\n",
    "\n",
    "X_train=trainingdf.iloc[:, 1:]\n",
    "y_train=trainingdf.iloc[:,0]\n",
    "X_test=testingdf.iloc[:,1:]\n",
    "y_test=testingdf.iloc[:,0]"
   ]
  },
  {
   "cell_type": "code",
   "execution_count": 21,
   "id": "2a54f6ce",
   "metadata": {},
   "outputs": [
    {
     "data": {
      "text/plain": [
       "(Index(['time session', 'PULocationID', 'tip_amount', 'total_amount',\n",
       "        'avespeed_mileshr', 'day', 'DOLocationID', 'total_trip_duration',\n",
       "        'tempF', 'date_num'],\n",
       "       dtype='object'),\n",
       " Index(['time session', 'PULocationID', 'tip_amount', 'total_amount',\n",
       "        'avespeed_mileshr', 'day', 'DOLocationID', 'total_trip_duration',\n",
       "        'tempF', 'date_num'],\n",
       "       dtype='object'))"
      ]
     },
     "execution_count": 21,
     "metadata": {},
     "output_type": "execute_result"
    }
   ],
   "source": [
    "X_train.columns,  X_test.columns"
   ]
  },
  {
   "cell_type": "code",
   "execution_count": 22,
   "id": "c52b0631",
   "metadata": {},
   "outputs": [
    {
     "data": {
      "text/plain": [
       "(0         low\n",
       " 1         med\n",
       " 2        high\n",
       " 3         low\n",
       " 4        high\n",
       "          ... \n",
       " 23342     med\n",
       " 23343     low\n",
       " 23344     low\n",
       " 23345     low\n",
       " 23346     med\n",
       " Name: trip demand, Length: 23347, dtype: object,\n",
       " 0         med\n",
       " 1         med\n",
       " 2         low\n",
       " 3         low\n",
       " 4        high\n",
       "          ... \n",
       " 11725     med\n",
       " 11726     low\n",
       " 11727     low\n",
       " 11728     low\n",
       " 11729     med\n",
       " Name: trip demand, Length: 11730, dtype: object)"
      ]
     },
     "execution_count": 22,
     "metadata": {},
     "output_type": "execute_result"
    }
   ],
   "source": [
    "y_train, y_test"
   ]
  },
  {
   "cell_type": "markdown",
   "id": "f1ae4aff",
   "metadata": {},
   "source": [
    "## Baseline Model"
   ]
  },
  {
   "cell_type": "markdown",
   "id": "af0ae7f9",
   "metadata": {},
   "source": [
    "The base model is based on an individual randomly assigning whether a specific area has low, medium or high demand where there is a equal chance of picking each level of demand."
   ]
  },
  {
   "cell_type": "code",
   "execution_count": 23,
   "id": "78a5dce6",
   "metadata": {},
   "outputs": [
    {
     "name": "stdout",
     "output_type": "stream",
     "text": [
      "Training accuracy is:  0.3307919647063863\n",
      "Testing accuracy is:  0.33341858482523445\n"
     ]
    },
    {
     "data": {
      "text/plain": [
       "<sklearn.metrics._plot.confusion_matrix.ConfusionMatrixDisplay at 0x17395b450>"
      ]
     },
     "execution_count": 23,
     "metadata": {},
     "output_type": "execute_result"
    },
    {
     "data": {
      "image/png": "[encoded data removed]",
      "text/plain": [
       "<Figure size 432x288 with 2 Axes>"
      ]
     },
     "metadata": {
      "needs_background": "light"
     },
     "output_type": "display_data"
    }
   ],
   "source": [
    "dummy_clf = DummyClassifier(strategy=\"stratified\")\n",
    "dummy_clf.fit(X_train, y_train)\n",
    "y_pred_training= dummy_clf.predict(X_train)\n",
    "ac = accuracy_score(y_train,y_pred_training)\n",
    "print('Training accuracy is: ',ac)\n",
    "y_pred_base= dummy_clf.predict(X_test)\n",
    "ac = accuracy_score(y_test,y_pred_base)\n",
    "print('Testing accuracy is: ',ac)\n",
    "plot_confusion_matrix(dummy_clf, X_test, y_test,\n",
    "                                 display_labels= ['Low', \"mid\",\"high\"],\n",
    "                                 cmap=plt.cm.Blues,  normalize= 'true')"
   ]
  },
  {
   "cell_type": "markdown",
   "id": "c39b15ba",
   "metadata": {},
   "source": [
    "The model has a very low training accuracy and low testing accuracy, indicating that it didn't fit to the training data well. "
   ]
  },
  {
   "cell_type": "code",
   "execution_count": 24,
   "id": "7067e795",
   "metadata": {},
   "outputs": [
    {
     "name": "stdout",
     "output_type": "stream",
     "text": [
      "Baseline Model: \n",
      "              precision    recall  f1-score   support\n",
      "\n",
      "        high       0.32      0.34      0.33      3749\n",
      "         low       0.35      0.34      0.35      4100\n",
      "         med       0.32      0.32      0.32      3881\n",
      "\n",
      "    accuracy                           0.33     11730\n",
      "   macro avg       0.33      0.33      0.33     11730\n",
      "weighted avg       0.33      0.33      0.33     11730\n",
      "\n"
     ]
    }
   ],
   "source": [
    "print(\"Baseline Model: \")\n",
    "print(classification_report(y_test, y_pred_base))"
   ]
  },
  {
   "cell_type": "markdown",
   "id": "818c327a",
   "metadata": {},
   "source": [
    "The results of this is very intuitive. For every level demand,  the model was able to correctly assign  approximately 1/3 and approximately 1/3 of the predicted labels were correct."
   ]
  },
  {
   "cell_type": "markdown",
   "id": "abbee3c7",
   "metadata": {},
   "source": [
    "## Model 1: Random Forest Classifier"
   ]
  },
  {
   "cell_type": "code",
   "execution_count": 25,
   "id": "100aed93",
   "metadata": {},
   "outputs": [
    {
     "name": "stdout",
     "output_type": "stream",
     "text": [
      "Training accuracy is:  1.0\n",
      "Testing accuracy is:  0.8485080988917306\n"
     ]
    },
    {
     "data": {
      "text/plain": [
       "<sklearn.metrics._plot.confusion_matrix.ConfusionMatrixDisplay at 0x12e212dd0>"
      ]
     },
     "execution_count": 25,
     "metadata": {},
     "output_type": "execute_result"
    },
    {
     "data": {
      "image/png": "[encoded data removed]",
      "text/plain": [
       "<Figure size 432x288 with 2 Axes>"
      ]
     },
     "metadata": {
      "needs_background": "light"
     },
     "output_type": "display_data"
    }
   ],
   "source": [
    "clf_rf = RandomForestClassifier(random_state=43)      \n",
    "clr_rf = clf_rf.fit(X_train,y_train)\n",
    "y_pred_training= clf_rf.predict(X_train)\n",
    "ac = accuracy_score(y_train,y_pred_training)\n",
    "print('Training accuracy is: ',ac)\n",
    "y_pred_1= clf_rf.predict(X_test)\n",
    "ac = accuracy_score(y_test,y_pred_1)\n",
    "print('Testing accuracy is: ',ac)\n",
    "plot_confusion_matrix(clf_rf, X_test, y_test,\n",
    "                                 display_labels= ['Low', \"mid\",\"high\"],\n",
    "                                 cmap=plt.cm.Blues,\n",
    "                     normalize= 'true')"
   ]
  },
  {
   "cell_type": "markdown",
   "id": "13d1f8f9",
   "metadata": {},
   "source": [
    "This model is clearly better than the baseline model suggesting that the machine learning model is successful. While the training accuracy is extremely high in this case, the testing accuracy is also high. Since overfitting occurs only when training accuracy is high and testing accuracy is low. We can further examine this model."
   ]
  },
  {
   "cell_type": "code",
   "execution_count": 26,
   "id": "1848254f",
   "metadata": {},
   "outputs": [
    {
     "name": "stdout",
     "output_type": "stream",
     "text": [
      "Baseline Mode: \n",
      "              precision    recall  f1-score   support\n",
      "\n",
      "        high       0.32      0.34      0.33      3749\n",
      "         low       0.35      0.34      0.35      4100\n",
      "         med       0.32      0.32      0.32      3881\n",
      "\n",
      "    accuracy                           0.33     11730\n",
      "   macro avg       0.33      0.33      0.33     11730\n",
      "weighted avg       0.33      0.33      0.33     11730\n",
      "\n",
      "Model 1: \n",
      "              precision    recall  f1-score   support\n",
      "\n",
      "        high       0.89      0.90      0.90      3749\n",
      "         low       0.85      0.90      0.87      4100\n",
      "         med       0.80      0.75      0.78      3881\n",
      "\n",
      "    accuracy                           0.85     11730\n",
      "   macro avg       0.85      0.85      0.85     11730\n",
      "weighted avg       0.85      0.85      0.85     11730\n",
      "\n"
     ]
    }
   ],
   "source": [
    "print(\"Baseline Mode: \")\n",
    "print(classification_report(y_test, y_pred_base))\n",
    "print(\"Model 1: \")\n",
    "print(classification_report(y_test, y_pred_1))"
   ]
  },
  {
   "cell_type": "markdown",
   "id": "04089ed9",
   "metadata": {},
   "source": [
    "The f1 scores which takes in consideration of precision and recall seems to show very positive results and seems to indicate high precision and recall. This is an obvious improvement from the baseline model."
   ]
  },
  {
   "cell_type": "code",
   "execution_count": 27,
   "id": "805e3a94",
   "metadata": {},
   "outputs": [
    {
     "name": "stdout",
     "output_type": "stream",
     "text": [
      "Variable: PULocationID         Importance: 0.22\n",
      "Variable: total_amount         Importance: 0.15\n",
      "Variable: DOLocationID         Importance: 0.14\n",
      "Variable: avespeed_mileshr     Importance: 0.13\n",
      "Variable: tip_amount           Importance: 0.1\n",
      "Variable: total_trip_duration  Importance: 0.1\n",
      "Variable: tempF                Importance: 0.05\n",
      "Variable: time session         Importance: 0.04\n",
      "Variable: day                  Importance: 0.04\n",
      "Variable: date_num             Importance: 0.04\n"
     ]
    },
    {
     "data": {
      "text/plain": [
       "[None, None, None, None, None, None, None, None, None, None]"
      ]
     },
     "execution_count": 27,
     "metadata": {},
     "output_type": "execute_result"
    }
   ],
   "source": [
    "# Get numerical feature importances\n",
    "importances = list(clf_rf.feature_importances_)\n",
    "feature_list= list(X_train.columns)\n",
    "# List of tuples with variable and importance\n",
    "feature_importances = [(feature, round(importance, 2)) for feature, importance in zip(feature_list, importances)]\n",
    "# Sort the feature importances by most important first\n",
    "feature_importances = sorted(feature_importances, key = lambda x: x[1], reverse = True)\n",
    "# Print out the feature and importances \n",
    "[print('Variable: {:20} Importance: {}'.format(*pair)) for pair in feature_importances]"
   ]
  },
  {
   "cell_type": "markdown",
   "id": "ac56c55e",
   "metadata": {},
   "source": [
    "In examining the contribution of the feature to the model, it can be seen that improvement_surcharge doesn't contribute to the model. Hence, we can try a new model where the feature is removed and see the changes."
   ]
  },
  {
   "cell_type": "markdown",
   "id": "4c3167fc",
   "metadata": {},
   "source": [
    "## Model 3: Random Forest Classifier with Tuned Parameters "
   ]
  },
  {
   "cell_type": "code",
   "execution_count": 28,
   "id": "46de94bf",
   "metadata": {},
   "outputs": [
    {
     "name": "stdout",
     "output_type": "stream",
     "text": [
      "{'n_estimators': [200, 288, 377, 466, 555, 644, 733, 822, 911, 1000], 'max_features': ['auto'], 'max_depth': [15, 17, 20, None], 'min_samples_split': [5, 10, 15], 'min_samples_leaf': [1, 2, 5]}\n"
     ]
    }
   ],
   "source": [
    "# Number of trees in random forest\n",
    "n_estimators = [int(x) for x in np.linspace(start = 200, stop = 1000, num = 10)]\n",
    "# Number of features to consider at every split\n",
    "max_features = ['auto']\n",
    "# Maximum number of levels in tree\n",
    "max_depth = [15, 17, 20]\n",
    "max_depth.append(None)\n",
    "# Minimum number of samples required to split a node\n",
    "min_samples_split = [5, 10, 15]\n",
    "# Minimum number of samples required at each leaf node\n",
    "min_samples_leaf = [1, 2, 5]\n",
    "\n",
    "# Create the random grid\n",
    "random_grid = {'n_estimators': n_estimators,\n",
    "               'max_features': max_features,\n",
    "               'max_depth': max_depth,\n",
    "               'min_samples_split': min_samples_split,\n",
    "               'min_samples_leaf': min_samples_leaf}\n",
    "\n",
    "print(random_grid)"
   ]
  },
  {
   "cell_type": "code",
   "execution_count": 29,
   "id": "375cd057",
   "metadata": {},
   "outputs": [
    {
     "name": "stdout",
     "output_type": "stream",
     "text": [
      "fitting...\n",
      "Fitting 10 folds for each of 10 candidates, totalling 100 fits\n"
     ]
    }
   ],
   "source": [
    "rf_random = RandomizedSearchCV(estimator= RandomForestClassifier(random_state=43), param_distributions=random_grid,\n",
    "                              cv=10, verbose=2,  n_jobs=-1)\n",
    "\n",
    "# Fit the random search model\n",
    "print(\"fitting...\")\n",
    "rf_random.fit(X_train, y_train);"
   ]
  },
  {
   "cell_type": "code",
   "execution_count": 30,
   "id": "433c2fd3",
   "metadata": {},
   "outputs": [
    {
     "data": {
      "text/plain": [
       "{'n_estimators': 733,\n",
       " 'min_samples_split': 5,\n",
       " 'min_samples_leaf': 1,\n",
       " 'max_features': 'auto',\n",
       " 'max_depth': None}"
      ]
     },
     "execution_count": 30,
     "metadata": {},
     "output_type": "execute_result"
    }
   ],
   "source": [
    "rf_random.best_params_"
   ]
  },
  {
   "cell_type": "code",
   "execution_count": 31,
   "id": "adaf0c97",
   "metadata": {},
   "outputs": [
    {
     "data": {
      "text/plain": [
       "RandomForestClassifier(min_samples_split=5, n_estimators=733, random_state=43)"
      ]
     },
     "execution_count": 31,
     "metadata": {},
     "output_type": "execute_result"
    }
   ],
   "source": [
    "rf_random.best_estimator_"
   ]
  },
  {
   "cell_type": "code",
   "execution_count": 32,
   "id": "1414982f",
   "metadata": {},
   "outputs": [
    {
     "name": "stdout",
     "output_type": "stream",
     "text": [
      "Training accuracy is:  0.9892063220113934\n",
      "Testing accuracy is:  0.8485080988917306\n"
     ]
    },
    {
     "data": {
      "text/plain": [
       "<sklearn.metrics._plot.confusion_matrix.ConfusionMatrixDisplay at 0x12e50eed0>"
      ]
     },
     "execution_count": 32,
     "metadata": {},
     "output_type": "execute_result"
    },
    {
     "data": {
      "image/png": "[encoded data removed]",
      "text/plain": [
       "<Figure size 432x288 with 2 Axes>"
      ]
     },
     "metadata": {
      "needs_background": "light"
     },
     "output_type": "display_data"
    }
   ],
   "source": [
    "clf_rf_3 = RandomForestClassifier(min_samples_leaf=2, min_samples_split=5,\n",
    "                       n_estimators=733, random_state=43)  \n",
    "clr_rf_3 = clf_rf_3.fit(X_train, y_train)\n",
    "y_pred_3= clf_rf_3.predict(X_train)\n",
    "ac = accuracy_score(y_train,y_pred_3)\n",
    "print('Training accuracy is: ',ac)\n",
    "y_pred_3= clf_rf_3.predict(X_test)\n",
    "ac = accuracy_score(y_test, y_pred_3)\n",
    "print('Testing accuracy is: ', ac)\n",
    "\n",
    "plot_confusion_matrix(clf_rf_3, X_test, y_test,\n",
    "                                 display_labels= ['Low', \"mid\",\"high\"],\n",
    "                                 cmap=plt.cm.Blues,  normalize= 'true')"
   ]
  },
  {
   "cell_type": "markdown",
   "id": "d01504cd",
   "metadata": {},
   "source": [
    "The fitting accuracy decreased by 0.011% as well."
   ]
  },
  {
   "cell_type": "code",
   "execution_count": 35,
   "id": "5b34ce79",
   "metadata": {},
   "outputs": [
    {
     "name": "stdout",
     "output_type": "stream",
     "text": [
      "Model 1:\n",
      "               precision    recall  f1-score   support\n",
      "\n",
      "        high       0.89      0.90      0.90      3749\n",
      "         low       0.85      0.90      0.87      4100\n",
      "         med       0.80      0.75      0.78      3881\n",
      "\n",
      "    accuracy                           0.85     11730\n",
      "   macro avg       0.85      0.85      0.85     11730\n",
      "weighted avg       0.85      0.85      0.85     11730\n",
      "\n",
      "Model 2:\n",
      "               precision    recall  f1-score   support\n",
      "\n",
      "        high       0.89      0.90      0.90      3749\n",
      "         low       0.85      0.90      0.87      4100\n",
      "         med       0.81      0.74      0.77      3881\n",
      "\n",
      "    accuracy                           0.85     11730\n",
      "   macro avg       0.85      0.85      0.85     11730\n",
      "weighted avg       0.85      0.85      0.85     11730\n",
      "\n"
     ]
    }
   ],
   "source": [
    "print(\"Model 1:\\n\", classification_report(y_test, y_pred_1))\n",
    "print(\"Model 2:\\n\", classification_report(y_test, y_pred_3))"
   ]
  },
  {
   "cell_type": "markdown",
   "id": "05b8c2bf",
   "metadata": {},
   "source": [
    "The f1 scores is better by one percent in classing low demand."
   ]
  },
  {
   "cell_type": "code",
   "execution_count": 34,
   "id": "6b338dfa",
   "metadata": {},
   "outputs": [
    {
     "name": "stdout",
     "output_type": "stream",
     "text": [
      "Variable: PULocationID         Importance: 0.23\n",
      "Variable: total_amount         Importance: 0.16\n",
      "Variable: DOLocationID         Importance: 0.15\n",
      "Variable: avespeed_mileshr     Importance: 0.13\n",
      "Variable: tip_amount           Importance: 0.1\n",
      "Variable: total_trip_duration  Importance: 0.1\n",
      "Variable: time session         Importance: 0.04\n",
      "Variable: tempF                Importance: 0.04\n",
      "Variable: day                  Importance: 0.03\n",
      "Variable: date_num             Importance: 0.03\n"
     ]
    },
    {
     "data": {
      "text/plain": [
       "[None, None, None, None, None, None, None, None, None, None]"
      ]
     },
     "execution_count": 34,
     "metadata": {},
     "output_type": "execute_result"
    },
    {
     "name": "stdout",
     "output_type": "stream",
     "text": [
      "[CV] END max_depth=15, max_features=auto, min_samples_leaf=5, min_samples_split=5, n_estimators=377; total time=  34.7s\n",
      "[CV] END max_depth=15, max_features=auto, min_samples_leaf=5, min_samples_split=5, n_estimators=377; total time=  27.2s\n",
      "[CV] END max_depth=15, max_features=auto, min_samples_leaf=5, min_samples_split=5, n_estimators=377; total time=  31.7s\n",
      "[CV] END max_depth=None, max_features=auto, min_samples_leaf=5, min_samples_split=10, n_estimators=466; total time=  42.2s\n",
      "[CV] END max_depth=None, max_features=auto, min_samples_leaf=5, min_samples_split=10, n_estimators=466; total time=  40.6s\n",
      "[CV] END max_depth=None, max_features=auto, min_samples_leaf=1, min_samples_split=5, n_estimators=733; total time= 1.0min\n",
      "[CV] END max_depth=None, max_features=auto, min_samples_leaf=1, min_samples_split=5, n_estimators=733; total time= 1.1min\n",
      "[CV] END max_depth=None, max_features=auto, min_samples_leaf=1, min_samples_split=5, n_estimators=733; total time= 1.1min\n",
      "[CV] END max_depth=17, max_features=auto, min_samples_leaf=2, min_samples_split=5, n_estimators=644; total time=  56.6s\n",
      "[CV] END max_depth=17, max_features=auto, min_samples_leaf=2, min_samples_split=5, n_estimators=644; total time=  51.9s\n",
      "[CV] END max_depth=20, max_features=auto, min_samples_leaf=2, min_samples_split=15, n_estimators=733; total time=  56.2s\n",
      "[CV] END max_depth=20, max_features=auto, min_samples_leaf=2, min_samples_split=15, n_estimators=733; total time=  54.9s\n",
      "[CV] END max_depth=15, max_features=auto, min_samples_leaf=5, min_samples_split=5, n_estimators=555; total time=  45.7s\n",
      "[CV] END max_depth=15, max_features=auto, min_samples_leaf=5, min_samples_split=5, n_estimators=555; total time=  38.8s\n",
      "[CV] END max_depth=15, max_features=auto, min_samples_leaf=5, min_samples_split=5, n_estimators=555; total time=  38.1s\n",
      "[CV] END max_depth=None, max_features=auto, min_samples_leaf=5, min_samples_split=15, n_estimators=644; total time=  48.0s\n",
      "[CV] END max_depth=None, max_features=auto, min_samples_leaf=5, min_samples_split=15, n_estimators=644; total time=  47.1s\n",
      "[CV] END max_depth=None, max_features=auto, min_samples_leaf=5, min_samples_split=15, n_estimators=644; total time=  47.6s\n",
      "[CV] END max_depth=None, max_features=auto, min_samples_leaf=2, min_samples_split=15, n_estimators=911; total time= 1.2min\n",
      "[CV] END max_depth=None, max_features=auto, min_samples_leaf=2, min_samples_split=15, n_estimators=911; total time= 1.4min\n",
      "[CV] END max_depth=17, max_features=auto, min_samples_leaf=1, min_samples_split=15, n_estimators=555; total time=  40.8s\n",
      "[CV] END max_depth=17, max_features=auto, min_samples_leaf=1, min_samples_split=15, n_estimators=555; total time=  44.5s\n",
      "[CV] END max_depth=17, max_features=auto, min_samples_leaf=1, min_samples_split=15, n_estimators=555; total time=  40.7s\n",
      "[CV] END max_depth=15, max_features=auto, min_samples_leaf=5, min_samples_split=15, n_estimators=288; total time=  18.8s\n",
      "[CV] END max_depth=15, max_features=auto, min_samples_leaf=5, min_samples_split=15, n_estimators=288; total time=  19.2s\n",
      "[CV] END max_depth=15, max_features=auto, min_samples_leaf=5, min_samples_split=5, n_estimators=377; total time=  34.9s\n",
      "[CV] END max_depth=15, max_features=auto, min_samples_leaf=5, min_samples_split=5, n_estimators=377; total time=  27.3s\n",
      "[CV] END max_depth=15, max_features=auto, min_samples_leaf=5, min_samples_split=5, n_estimators=377; total time=  31.6s\n",
      "[CV] END max_depth=None, max_features=auto, min_samples_leaf=5, min_samples_split=10, n_estimators=466; total time=  42.0s\n",
      "[CV] END max_depth=None, max_features=auto, min_samples_leaf=5, min_samples_split=10, n_estimators=466; total time=  40.9s\n",
      "[CV] END max_depth=None, max_features=auto, min_samples_leaf=1, min_samples_split=5, n_estimators=733; total time= 1.0min\n",
      "[CV] END max_depth=None, max_features=auto, min_samples_leaf=1, min_samples_split=5, n_estimators=733; total time= 1.1min\n",
      "[CV] END max_depth=None, max_features=auto, min_samples_leaf=1, min_samples_split=5, n_estimators=733; total time= 1.1min\n",
      "[CV] END max_depth=17, max_features=auto, min_samples_leaf=2, min_samples_split=5, n_estimators=644; total time=  55.8s\n",
      "[CV] END max_depth=17, max_features=auto, min_samples_leaf=2, min_samples_split=5, n_estimators=644; total time=  51.7s\n",
      "[CV] END max_depth=20, max_features=auto, min_samples_leaf=2, min_samples_split=15, n_estimators=733; total time=  55.7s\n",
      "[CV] END max_depth=20, max_features=auto, min_samples_leaf=2, min_samples_split=15, n_estimators=733; total time=  55.1s\n",
      "[CV] END max_depth=15, max_features=auto, min_samples_leaf=5, min_samples_split=5, n_estimators=555; total time=  45.9s\n",
      "[CV] END max_depth=15, max_features=auto, min_samples_leaf=5, min_samples_split=5, n_estimators=555; total time=  38.4s\n",
      "[CV] END max_depth=15, max_features=auto, min_samples_leaf=5, min_samples_split=5, n_estimators=555; total time=  37.7s\n",
      "[CV] END max_depth=None, max_features=auto, min_samples_leaf=5, min_samples_split=15, n_estimators=644; total time=  48.1s\n",
      "[CV] END max_depth=None, max_features=auto, min_samples_leaf=5, min_samples_split=15, n_estimators=644; total time=  46.8s\n",
      "[CV] END max_depth=None, max_features=auto, min_samples_leaf=5, min_samples_split=15, n_estimators=644; total time=  47.6s\n",
      "[CV] END max_depth=None, max_features=auto, min_samples_leaf=2, min_samples_split=15, n_estimators=911; total time= 1.1min\n",
      "[CV] END max_depth=None, max_features=auto, min_samples_leaf=2, min_samples_split=15, n_estimators=911; total time= 1.4min\n",
      "[CV] END max_depth=17, max_features=auto, min_samples_leaf=1, min_samples_split=15, n_estimators=555; total time=  40.8s\n",
      "[CV] END max_depth=17, max_features=auto, min_samples_leaf=1, min_samples_split=15, n_estimators=555; total time=  44.1s\n",
      "[CV] END max_depth=17, max_features=auto, min_samples_leaf=1, min_samples_split=15, n_estimators=555; total time=  41.0s\n",
      "[CV] END max_depth=15, max_features=auto, min_samples_leaf=5, min_samples_split=15, n_estimators=288; total time=  19.3s\n",
      "[CV] END max_depth=15, max_features=auto, min_samples_leaf=5, min_samples_split=15, n_estimators=288; total time=  19.0s\n",
      "[CV] END max_depth=15, max_features=auto, min_samples_leaf=5, min_samples_split=5, n_estimators=377; total time=  34.7s\n",
      "[CV] END max_depth=15, max_features=auto, min_samples_leaf=5, min_samples_split=5, n_estimators=377; total time=  27.6s\n",
      "[CV] END max_depth=None, max_features=auto, min_samples_leaf=5, min_samples_split=10, n_estimators=466; total time=  41.9s\n",
      "[CV] END max_depth=None, max_features=auto, min_samples_leaf=5, min_samples_split=10, n_estimators=466; total time=  43.7s\n",
      "[CV] END max_depth=None, max_features=auto, min_samples_leaf=5, min_samples_split=10, n_estimators=466; total time=  37.7s\n",
      "[CV] END max_depth=None, max_features=auto, min_samples_leaf=1, min_samples_split=5, n_estimators=733; total time= 1.1min\n",
      "[CV] END max_depth=None, max_features=auto, min_samples_leaf=1, min_samples_split=5, n_estimators=733; total time= 1.1min\n",
      "[CV] END max_depth=17, max_features=auto, min_samples_leaf=2, min_samples_split=5, n_estimators=644; total time=  53.7s\n",
      "[CV] END max_depth=17, max_features=auto, min_samples_leaf=2, min_samples_split=5, n_estimators=644; total time=  57.0s\n",
      "[CV] END max_depth=17, max_features=auto, min_samples_leaf=2, min_samples_split=5, n_estimators=644; total time=  52.2s\n",
      "[CV] END max_depth=20, max_features=auto, min_samples_leaf=2, min_samples_split=15, n_estimators=733; total time=  55.7s\n",
      "[CV] END max_depth=20, max_features=auto, min_samples_leaf=2, min_samples_split=15, n_estimators=733; total time=  55.2s\n",
      "[CV] END max_depth=20, max_features=auto, min_samples_leaf=2, min_samples_split=15, n_estimators=733; total time= 1.1min\n",
      "[CV] END max_depth=15, max_features=auto, min_samples_leaf=5, min_samples_split=5, n_estimators=555; total time=  37.6s\n",
      "[CV] END max_depth=15, max_features=auto, min_samples_leaf=5, min_samples_split=5, n_estimators=555; total time=  38.5s\n",
      "[CV] END max_depth=None, max_features=auto, min_samples_leaf=5, min_samples_split=15, n_estimators=644; total time=  48.7s\n",
      "[CV] END max_depth=None, max_features=auto, min_samples_leaf=5, min_samples_split=15, n_estimators=644; total time=  46.2s\n",
      "[CV] END max_depth=None, max_features=auto, min_samples_leaf=2, min_samples_split=15, n_estimators=911; total time= 1.1min\n",
      "[CV] END max_depth=None, max_features=auto, min_samples_leaf=2, min_samples_split=15, n_estimators=911; total time= 1.4min\n",
      "[CV] END max_depth=None, max_features=auto, min_samples_leaf=2, min_samples_split=15, n_estimators=911; total time= 1.2min\n",
      "[CV] END max_depth=17, max_features=auto, min_samples_leaf=1, min_samples_split=15, n_estimators=555; total time=  43.3s\n",
      "[CV] END max_depth=17, max_features=auto, min_samples_leaf=1, min_samples_split=15, n_estimators=555; total time=  41.6s\n",
      "[CV] END max_depth=15, max_features=auto, min_samples_leaf=5, min_samples_split=15, n_estimators=288; total time=  19.0s\n",
      "[CV] END max_depth=15, max_features=auto, min_samples_leaf=5, min_samples_split=15, n_estimators=288; total time=  18.9s\n",
      "[CV] END max_depth=15, max_features=auto, min_samples_leaf=5, min_samples_split=15, n_estimators=288; total time=  14.4s\n"
     ]
    },
    {
     "name": "stdout",
     "output_type": "stream",
     "text": [
      "[CV] END max_depth=15, max_features=auto, min_samples_leaf=5, min_samples_split=5, n_estimators=377; total time=  35.0s\n",
      "[CV] END max_depth=15, max_features=auto, min_samples_leaf=5, min_samples_split=5, n_estimators=377; total time=  27.4s\n",
      "[CV] END max_depth=None, max_features=auto, min_samples_leaf=5, min_samples_split=10, n_estimators=466; total time=  42.1s\n",
      "[CV] END max_depth=None, max_features=auto, min_samples_leaf=5, min_samples_split=10, n_estimators=466; total time=  43.8s\n",
      "[CV] END max_depth=None, max_features=auto, min_samples_leaf=5, min_samples_split=10, n_estimators=466; total time=  38.0s\n",
      "[CV] END max_depth=None, max_features=auto, min_samples_leaf=1, min_samples_split=5, n_estimators=733; total time= 1.1min\n",
      "[CV] END max_depth=None, max_features=auto, min_samples_leaf=1, min_samples_split=5, n_estimators=733; total time= 1.1min\n",
      "[CV] END max_depth=17, max_features=auto, min_samples_leaf=2, min_samples_split=5, n_estimators=644; total time=  53.4s\n",
      "[CV] END max_depth=17, max_features=auto, min_samples_leaf=2, min_samples_split=5, n_estimators=644; total time=  57.2s\n",
      "[CV] END max_depth=17, max_features=auto, min_samples_leaf=2, min_samples_split=5, n_estimators=644; total time=  51.5s\n",
      "[CV] END max_depth=20, max_features=auto, min_samples_leaf=2, min_samples_split=15, n_estimators=733; total time=  56.1s\n",
      "[CV] END max_depth=20, max_features=auto, min_samples_leaf=2, min_samples_split=15, n_estimators=733; total time=  55.1s\n",
      "[CV] END max_depth=20, max_features=auto, min_samples_leaf=2, min_samples_split=15, n_estimators=733; total time= 1.0min\n",
      "[CV] END max_depth=15, max_features=auto, min_samples_leaf=5, min_samples_split=5, n_estimators=555; total time=  37.9s\n",
      "[CV] END max_depth=15, max_features=auto, min_samples_leaf=5, min_samples_split=5, n_estimators=555; total time=  38.0s\n",
      "[CV] END max_depth=None, max_features=auto, min_samples_leaf=5, min_samples_split=15, n_estimators=644; total time=  48.9s\n",
      "[CV] END max_depth=None, max_features=auto, min_samples_leaf=5, min_samples_split=15, n_estimators=644; total time=  46.0s\n",
      "[CV] END max_depth=None, max_features=auto, min_samples_leaf=2, min_samples_split=15, n_estimators=911; total time= 1.1min\n",
      "[CV] END max_depth=None, max_features=auto, min_samples_leaf=2, min_samples_split=15, n_estimators=911; total time= 1.4min\n",
      "[CV] END max_depth=None, max_features=auto, min_samples_leaf=2, min_samples_split=15, n_estimators=911; total time= 1.2min\n",
      "[CV] END max_depth=17, max_features=auto, min_samples_leaf=1, min_samples_split=15, n_estimators=555; total time=  43.3s\n",
      "[CV] END max_depth=17, max_features=auto, min_samples_leaf=1, min_samples_split=15, n_estimators=555; total time=  41.8s\n",
      "[CV] END max_depth=15, max_features=auto, min_samples_leaf=5, min_samples_split=15, n_estimators=288; total time=  19.1s\n",
      "[CV] END max_depth=15, max_features=auto, min_samples_leaf=5, min_samples_split=15, n_estimators=288; total time=  18.9s\n",
      "[CV] END max_depth=15, max_features=auto, min_samples_leaf=5, min_samples_split=15, n_estimators=288; total time=  14.4s\n"
     ]
    }
   ],
   "source": [
    "# Get numerical feature importances\n",
    "importances = list(clf_rf_3.feature_importances_)\n",
    "feature_list= list(X_train.columns)\n",
    "# List of tuples with variable and importance\n",
    "feature_importances = [(feature, round(importance, 2)) for feature, importance in zip(feature_list, importances)]\n",
    "# Sort the feature importances by most important first\n",
    "feature_importances = sorted(feature_importances, key = lambda x: x[1], reverse = True)\n",
    "# Print out the feature and importances \n",
    "[print('Variable: {:20} Importance: {}'.format(*pair)) for pair in feature_importances]"
   ]
  },
  {
   "cell_type": "markdown",
   "id": "7792cfb2",
   "metadata": {},
   "source": [
    "Since there is a slightest improvement in model 2 compared to model 1, this model will be considered the best model so far"
   ]
  },
  {
   "cell_type": "markdown",
   "id": "811683ae",
   "metadata": {},
   "source": [
    "## Final Model \n",
    "Through fitting, we accepted Model 2 as the final model with the following estimator:\n",
    "\n",
    "RandomForestClassifier(min_samples_split=5, n_estimators=911, random_state=43) \n",
    "\n",
    "Features: PULocationID, total_amount, DOLocationID,avespeed_mileshr, total_trip_duration, tip_amount, tempF, time session, day, date_num"
   ]
  }
 ],
 "metadata": {
  "kernelspec": {
   "display_name": "Python 3 (ipykernel)",
   "language": "python",
   "name": "python3"
  },
  "language_info": {
   "codemirror_mode": {
    "name": "ipython",
    "version": 3
   },
   "file_extension": ".py",
   "mimetype": "text/x-python",
   "name": "python",
   "nbconvert_exporter": "python",
   "pygments_lexer": "ipython3",
   "version": "3.7.4"
  }
 },
 "nbformat": 4,
 "nbformat_minor": 5
}
