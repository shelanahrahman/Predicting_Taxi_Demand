{
 "cells": [
  {
   "cell_type": "markdown",
   "metadata": {},
   "source": [
    "# Extracting Data"
   ]
  },
  {
   "cell_type": "code",
   "execution_count": 8,
   "metadata": {},
   "outputs": [],
   "source": [
    "from os.path import getsize\n",
    "from urllib.request import urlretrieve\n",
    "import zipfile\n",
    "import pandas as pd"
   ]
  },
  {
   "cell_type": "markdown",
   "metadata": {},
   "source": [
    "## Code to download 2016 MARCH, APRIL and MAY csv files from the TLC website"
   ]
  },
  {
   "cell_type": "code",
   "execution_count": 9,
   "metadata": {},
   "outputs": [
    {
     "name": "stdout",
     "output_type": "stream",
     "text": [
      "Done downloading yellow_tripdata_2019-03.csv to ../raw_data/large with size 0.68GB\n",
      "Done downloading yellow_tripdata_2019-04.csv to ../raw_data/large with size 0.64GB\n",
      "Done downloading yellow_tripdata_2019-05.csv to ../raw_data/large with size 0.65GB\n"
     ]
    }
   ],
   "source": [
    "output_dir = \"../raw_data/large\"\n",
    "fname_template = \"yellow_tripdata_2019\"\n",
    "\n",
    "for m in range(3, 6):\n",
    "    month = str(m).zfill(2)\n",
    "    out = f'{fname_template}-{month}.csv'\n",
    "    url = f\"https://s3.amazonaws.com/nyc-tlc/trip+data/{out}\"\n",
    "    urlretrieve(url, f\"{output_dir}/{out}\")\n",
    "\n",
    "    print(f\"Done downloading {out} to {output_dir} with size {getsize(f'{output_dir}/{out}') / 1073741824:.2f}GB\")"
   ]
  },
  {
   "cell_type": "code",
   "execution_count": 10,
   "metadata": {},
   "outputs": [],
   "source": [
    "df2019 = pd.read_csv(\"../raw_data/large/yellow_tripdata_2019-03.csv\")\n",
    "df20192 = pd.read_csv(\"../raw_data/large/yellow_tripdata_2019-04.csv\")\n",
    "df20193 = pd.read_csv(\"../raw_data/large/yellow_tripdata_2019-05.csv\")\n",
    "\n",
    "df2019.reset_index().to_feather('../raw_data/feather/df2019.feather')\n",
    "df20192.reset_index().to_feather('../raw_data/feather/df20192.feather')\n",
    "df20193.reset_index().to_feather('../raw_data/feather/df20193.feather')"
   ]
  },
  {
   "cell_type": "code",
   "execution_count": 11,
   "metadata": {
    "scrolled": true
   },
   "outputs": [
    {
     "name": "stdout",
     "output_type": "stream",
     "text": [
      "Done downloading fhvhv_tripdata_2019-03.csv to ../raw_data/large with size 1.41GB\n",
      "Done downloading fhvhv_tripdata_2019-04.csv to ../raw_data/large with size 1.28GB\n",
      "Done downloading fhvhv_tripdata_2019-05.csv to ../raw_data/large with size 1.32GB\n"
     ]
    }
   ],
   "source": [
    "output_dir = \"../raw_data/large\"\n",
    "fname_template = \"fhvhv_tripdata_2019\"\n",
    "\n",
    "for m in range(3, 6):\n",
    "    month = str(m).zfill(2)\n",
    "    out = f'{fname_template}-{month}.csv'\n",
    "    url = f\"https://s3.amazonaws.com/nyc-tlc/trip+data/{out}\"\n",
    "    urlretrieve(url, f\"{output_dir}/{out}\")\n",
    "\n",
    "    print(f\"Done downloading {out} to {output_dir} with size {getsize(f'{output_dir}/{out}') / 1073741824:.2f}GB\")"
   ]
  },
  {
   "cell_type": "code",
   "execution_count": 12,
   "metadata": {},
   "outputs": [],
   "source": [
    "dffhv2019 = pd.read_csv(\"../raw_data/large/fhvhv_tripdata_2019-03.csv\")\n",
    "dffhv20192 = pd.read_csv(\"../raw_data/large/fhvhv_tripdata_2019-04.csv\")\n",
    "dffhv20193 = pd.read_csv(\"../raw_data/large/fhvhv_tripdata_2019-05.csv\")\n",
    "\n",
    "dffhv2019.reset_index().to_feather(\"../raw_data/feather/fhvhv_tripdata_2019-03.feather\")\n",
    "dffhv20192.reset_index().to_feather(\"../raw_data/feather/fhvhv_tripdata_2019-04.feather\")\n",
    "dffhv20193.reset_index().to_feather(\"../raw_data/feather/fhvhv_tripdata_2019-05.feather\")"
   ]
  },
  {
   "cell_type": "markdown",
   "metadata": {},
   "source": [
    "## Code to download Taxi Zone information"
   ]
  },
  {
   "cell_type": "code",
   "execution_count": 14,
   "metadata": {},
   "outputs": [
    {
     "name": "stdout",
     "output_type": "stream",
     "text": [
      "Done downloading taxi+_zone_lookup.csv to ../raw_data/large/ with size 0.00GB\n"
     ]
    }
   ],
   "source": [
    "output_dir = \"../raw_data/large/\"\n",
    "out = f'taxi+_zone_lookup.csv'\n",
    "url = f\"https://s3.amazonaws.com/nyc-tlc/misc/{out}\"\n",
    "urlretrieve(url, f\"{output_dir}/{out}\")\n",
    "print(f\"Done downloading {out} to {output_dir} with size {getsize(f'{output_dir}/{out}') / 1073741824:.2f}GB\")"
   ]
  },
  {
   "cell_type": "code",
   "execution_count": 15,
   "metadata": {},
   "outputs": [
    {
     "name": "stdout",
     "output_type": "stream",
     "text": [
      "Done downloading taxi_zones.zip to ../raw_data/large with size 0.00GB\n"
     ]
    }
   ],
   "source": [
    "output_dir = \"../raw_data/large\"\n",
    "out = f'taxi_zones.zip'\n",
    "url = f\"https://s3.amazonaws.com/nyc-tlc/misc/taxi_zones.zip\"\n",
    "urlretrieve(url, f\"{output_dir}/{out}\")\n",
    "print(f\"Done downloading {out} to {output_dir} with size {getsize(f'{output_dir}/{out}') / 1073741824:.2f}GB\")"
   ]
  },
  {
   "cell_type": "markdown",
   "metadata": {},
   "source": [
    "## Code to download weather data"
   ]
  },
  {
   "cell_type": "code",
   "execution_count": 16,
   "metadata": {},
   "outputs": [
    {
     "name": "stdout",
     "output_type": "stream",
     "text": [
      "Done downloading weather_data_3-5_2019.csv to ../raw_data/large with size 0.00GB\n"
     ]
    }
   ],
   "source": [
    "output_dir = \"../raw_data/large\"\n",
    "out = f'weather_data_3-5_2019.csv'\n",
    "url = f\"http://mesonet.agron.iastate.edu/cgi-bin/request/asos.py?station=NYC&data=tmpf&data=tmpc&data=dwpf&data=dwpc&data=relh&data=feel&data=drct&data=sknt&data=sped&data=alti&data=mslp&data=p01m&year1=2019&month1=3&day1=1&year2=2019&month2=5&day2=31&tz=America%2FNew_York&format=onlycomma&latlon=yes&elev=no&missing=empty&trace=T&direct=no&report_type=1&report_type=2\"\n",
    "urlretrieve(url, f\"{output_dir}/{out}\")\n",
    "print(f\"Done downloading {out} to {output_dir} with size {getsize(f'{output_dir}/{out}') / 1073741824:.2f}GB\")"
   ]
  },
  {
   "cell_type": "markdown",
   "metadata": {},
   "source": [
    "## Download Libraries"
   ]
  },
  {
   "cell_type": "code",
   "execution_count": 17,
   "metadata": {},
   "outputs": [
    {
     "name": "stdout",
     "output_type": "stream",
     "text": [
      "Requirement already satisfied: seaborn in /Users/shelanahrahman/opt/anaconda3/lib/python3.7/site-packages (0.11.1)\n",
      "Requirement already satisfied: numpy>=1.15 in /Users/shelanahrahman/opt/anaconda3/lib/python3.7/site-packages (from seaborn) (1.20.3)\n",
      "Requirement already satisfied: matplotlib>=2.2 in /Users/shelanahrahman/opt/anaconda3/lib/python3.7/site-packages (from seaborn) (3.4.2)\n",
      "Requirement already satisfied: scipy>=1.0 in /Users/shelanahrahman/opt/anaconda3/lib/python3.7/site-packages (from seaborn) (1.7.0)\n",
      "Requirement already satisfied: pandas>=0.23 in /Users/shelanahrahman/opt/anaconda3/lib/python3.7/site-packages (from seaborn) (1.3.0)\n",
      "Requirement already satisfied: pyparsing>=2.2.1 in /Users/shelanahrahman/opt/anaconda3/lib/python3.7/site-packages (from matplotlib>=2.2->seaborn) (2.4.7)\n",
      "Requirement already satisfied: pillow>=6.2.0 in /Users/shelanahrahman/opt/anaconda3/lib/python3.7/site-packages (from matplotlib>=2.2->seaborn) (8.3.1)\n",
      "Requirement already satisfied: cycler>=0.10 in /Users/shelanahrahman/opt/anaconda3/lib/python3.7/site-packages (from matplotlib>=2.2->seaborn) (0.10.0)\n",
      "Requirement already satisfied: kiwisolver>=1.0.1 in /Users/shelanahrahman/opt/anaconda3/lib/python3.7/site-packages (from matplotlib>=2.2->seaborn) (1.3.1)\n",
      "Requirement already satisfied: python-dateutil>=2.7 in /Users/shelanahrahman/opt/anaconda3/lib/python3.7/site-packages (from matplotlib>=2.2->seaborn) (2.8.2)\n",
      "Requirement already satisfied: six in /Users/shelanahrahman/opt/anaconda3/lib/python3.7/site-packages (from cycler>=0.10->matplotlib>=2.2->seaborn) (1.16.0)\n",
      "Requirement already satisfied: pytz>=2017.3 in /Users/shelanahrahman/opt/anaconda3/lib/python3.7/site-packages (from pandas>=0.23->seaborn) (2021.1)\n",
      "Note: you may need to restart the kernel to use updated packages.\n"
     ]
    }
   ],
   "source": [
    "\n",
    "pip install seaborn"
   ]
  },
  {
   "cell_type": "code",
   "execution_count": 18,
   "metadata": {},
   "outputs": [
    {
     "name": "stdout",
     "output_type": "stream",
     "text": [
      "Requirement already satisfied: sklearn in /Users/shelanahrahman/opt/anaconda3/lib/python3.7/site-packages (0.0)\n",
      "Requirement already satisfied: scikit-learn in /Users/shelanahrahman/opt/anaconda3/lib/python3.7/site-packages (from sklearn) (0.24.2)\n",
      "Requirement already satisfied: numpy>=1.13.3 in /Users/shelanahrahman/opt/anaconda3/lib/python3.7/site-packages (from scikit-learn->sklearn) (1.20.3)\n",
      "Requirement already satisfied: threadpoolctl>=2.0.0 in /Users/shelanahrahman/opt/anaconda3/lib/python3.7/site-packages (from scikit-learn->sklearn) (2.2.0)\n",
      "Requirement already satisfied: joblib>=0.11 in /Users/shelanahrahman/opt/anaconda3/lib/python3.7/site-packages (from scikit-learn->sklearn) (1.0.1)\n",
      "Requirement already satisfied: scipy>=0.19.1 in /Users/shelanahrahman/opt/anaconda3/lib/python3.7/site-packages (from scikit-learn->sklearn) (1.7.0)\n",
      "Note: you may need to restart the kernel to use updated packages.\n"
     ]
    }
   ],
   "source": [
    "pip install sklearn\n"
   ]
  },
  {
   "cell_type": "code",
   "execution_count": 19,
   "metadata": {},
   "outputs": [
    {
     "name": "stdout",
     "output_type": "stream",
     "text": [
      "Requirement already satisfied: geopandas in /Users/shelanahrahman/opt/anaconda3/lib/python3.7/site-packages (0.9.0)\n",
      "Requirement already satisfied: shapely>=1.6 in /Users/shelanahrahman/opt/anaconda3/lib/python3.7/site-packages (from geopandas) (1.7.1)\n",
      "Requirement already satisfied: pyproj>=2.2.0 in /Users/shelanahrahman/opt/anaconda3/lib/python3.7/site-packages (from geopandas) (3.1.0)\n",
      "Requirement already satisfied: fiona>=1.8 in /Users/shelanahrahman/opt/anaconda3/lib/python3.7/site-packages (from geopandas) (1.8.20)\n",
      "Requirement already satisfied: pandas>=0.24.0 in /Users/shelanahrahman/opt/anaconda3/lib/python3.7/site-packages (from geopandas) (1.3.0)\n",
      "Requirement already satisfied: munch in /Users/shelanahrahman/opt/anaconda3/lib/python3.7/site-packages (from fiona>=1.8->geopandas) (2.5.0)\n",
      "Requirement already satisfied: certifi in /Users/shelanahrahman/opt/anaconda3/lib/python3.7/site-packages (from fiona>=1.8->geopandas) (2021.5.30)\n",
      "Requirement already satisfied: click-plugins>=1.0 in /Users/shelanahrahman/opt/anaconda3/lib/python3.7/site-packages (from fiona>=1.8->geopandas) (1.1.1)\n",
      "Requirement already satisfied: attrs>=17 in /Users/shelanahrahman/opt/anaconda3/lib/python3.7/site-packages (from fiona>=1.8->geopandas) (21.2.0)\n",
      "Requirement already satisfied: click>=4.0 in /Users/shelanahrahman/opt/anaconda3/lib/python3.7/site-packages (from fiona>=1.8->geopandas) (8.0.1)\n",
      "Requirement already satisfied: setuptools in /Users/shelanahrahman/opt/anaconda3/lib/python3.7/site-packages (from fiona>=1.8->geopandas) (52.0.0.post20210125)\n",
      "Requirement already satisfied: cligj>=0.5 in /Users/shelanahrahman/opt/anaconda3/lib/python3.7/site-packages (from fiona>=1.8->geopandas) (0.7.2)\n",
      "Requirement already satisfied: six>=1.7 in /Users/shelanahrahman/opt/anaconda3/lib/python3.7/site-packages (from fiona>=1.8->geopandas) (1.16.0)\n",
      "Requirement already satisfied: importlib-metadata in /Users/shelanahrahman/opt/anaconda3/lib/python3.7/site-packages (from click>=4.0->fiona>=1.8->geopandas) (3.10.0)\n",
      "Requirement already satisfied: numpy>=1.17.3 in /Users/shelanahrahman/opt/anaconda3/lib/python3.7/site-packages (from pandas>=0.24.0->geopandas) (1.20.3)\n",
      "Requirement already satisfied: python-dateutil>=2.7.3 in /Users/shelanahrahman/opt/anaconda3/lib/python3.7/site-packages (from pandas>=0.24.0->geopandas) (2.8.2)\n",
      "Requirement already satisfied: pytz>=2017.3 in /Users/shelanahrahman/opt/anaconda3/lib/python3.7/site-packages (from pandas>=0.24.0->geopandas) (2021.1)\n",
      "Requirement already satisfied: zipp>=0.5 in /Users/shelanahrahman/opt/anaconda3/lib/python3.7/site-packages (from importlib-metadata->click>=4.0->fiona>=1.8->geopandas) (3.5.0)\n",
      "Requirement already satisfied: typing-extensions>=3.6.4 in /Users/shelanahrahman/opt/anaconda3/lib/python3.7/site-packages (from importlib-metadata->click>=4.0->fiona>=1.8->geopandas) (3.10.0.0)\n",
      "Note: you may need to restart the kernel to use updated packages.\n"
     ]
    }
   ],
   "source": [
    "pip install geopandas"
   ]
  },
  {
   "cell_type": "code",
   "execution_count": null,
   "metadata": {},
   "outputs": [],
   "source": []
  }
 ],
 "metadata": {
  "kernelspec": {
   "display_name": "Python 3 (ipykernel)",
   "language": "python",
   "name": "python3"
  },
  "language_info": {
   "codemirror_mode": {
    "name": "ipython",
    "version": 3
   },
   "file_extension": ".py",
   "mimetype": "text/x-python",
   "name": "python",
   "nbconvert_exporter": "python",
   "pygments_lexer": "ipython3",
   "version": "3.7.4"
  }
 },
 "nbformat": 4,
 "nbformat_minor": 2
}
