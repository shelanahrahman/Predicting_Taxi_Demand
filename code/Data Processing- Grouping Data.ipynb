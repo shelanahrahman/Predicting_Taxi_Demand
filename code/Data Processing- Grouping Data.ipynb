{
 "cells": [
  {
   "cell_type": "markdown",
   "metadata": {},
   "source": [
    "# Data Preprocessing- Grouping Data"
   ]
  },
  {
   "cell_type": "code",
   "execution_count": 1,
   "metadata": {},
   "outputs": [],
   "source": [
    "# Import Libraries\n",
    "import pandas as pd\n",
    "import numpy as np\n",
    "import seaborn as sns\n",
    "import scipy.stats as stats\n",
    "from datetime import datetime\n",
    "# a nice way of filtering out deprecated warnings\n",
    "import warnings\n",
    "warnings.filterwarnings(\"ignore\")"
   ]
  },
  {
   "cell_type": "markdown",
   "metadata": {},
   "source": [
    "## Open and read Taxi, FHV and weather data"
   ]
  },
  {
   "cell_type": "code",
   "execution_count": 2,
   "metadata": {},
   "outputs": [
    {
     "name": "stdout",
     "output_type": "stream",
     "text": [
      "df_taxi read\n",
      "df_fhv read\n"
     ]
    }
   ],
   "source": [
    "df_taxi= pd.read_feather(\"../preprocessed_data/feather/yellow_tripdata_2019.feather\")\n",
    "print(\"df_taxi read\")\n",
    "df_fhv= pd.read_feather(\"../preprocessed_data/feather/fhv_tripdata_2019.feather\")\n",
    "print(\"df_fhv read\")"
   ]
  },
  {
   "cell_type": "code",
   "execution_count": 3,
   "metadata": {},
   "outputs": [],
   "source": [
    "dfweather= pd.read_feather('../preprocessed_data/feather/dfweather.feather')"
   ]
  },
  {
   "cell_type": "markdown",
   "metadata": {},
   "source": [
    "Since feather file doesn't support datetime datatype, convert it again into datetime"
   ]
  },
  {
   "cell_type": "code",
   "execution_count": 4,
   "metadata": {},
   "outputs": [
    {
     "name": "stdout",
     "output_type": "stream",
     "text": [
      "converted taxi pickup to  <class 'pandas._libs.tslibs.timestamps.Timestamp'>\n",
      "converted fhv pickup to  <class 'pandas._libs.tslibs.timestamps.Timestamp'>\n"
     ]
    }
   ],
   "source": [
    "df_taxi['pickup_datetime']= pd.to_datetime(df_taxi['pickup_datetime'])\n",
    "print(\"converted taxi pickup to \", type(df_taxi['pickup_datetime'][0]))\n",
    "df_fhv['pickup_datetime']= pd.to_datetime(df_fhv['pickup_datetime'])\n",
    "print(\"converted fhv pickup to \", type(df_taxi['dropoff_datetime'][0]))"
   ]
  },
  {
   "cell_type": "code",
   "execution_count": 5,
   "metadata": {},
   "outputs": [
    {
     "name": "stdout",
     "output_type": "stream",
     "text": [
      "train_taxi made\n",
      "train_fhv made\n",
      "test_taxi made\n",
      "test_fhv made\n"
     ]
    }
   ],
   "source": [
    "train_taxi= df_taxi.loc[df_taxi['pickup_datetime']< pd.Timestamp(datetime(2019, 5, 1))]\n",
    "print(\"train_taxi made\")\n",
    "train_fhv= df_fhv.loc[df_fhv['pickup_datetime']< pd.Timestamp(datetime(2019, 5, 1))]\n",
    "print(\"train_fhv made\")\n",
    "test_taxi= df_taxi.loc[df_taxi['pickup_datetime']> pd.Timestamp(datetime(2019, 4, 30))]\n",
    "print(\"test_taxi made\")\n",
    "test_fhv= df_fhv.loc[df_fhv['pickup_datetime']> pd.Timestamp(datetime(2019, 4, 30))]\n",
    "print(\"test_fhv made\")"
   ]
  },
  {
   "cell_type": "code",
   "execution_count": 6,
   "metadata": {},
   "outputs": [
    {
     "name": "stdout",
     "output_type": "stream",
     "text": [
      "train_df made\n",
      "test_df made\n"
     ]
    }
   ],
   "source": [
    "train_df = train_taxi.append(train_fhv, ignore_index = True)\n",
    "print(\"train_df made\")\n",
    "test_df = test_taxi.append(test_fhv, ignore_index = True)\n",
    "print(\"test_df made\")"
   ]
  },
  {
   "cell_type": "code",
   "execution_count": 7,
   "metadata": {},
   "outputs": [
    {
     "name": "stdout",
     "output_type": "stream",
     "text": [
      "<class 'pandas.core.frame.DataFrame'>\n",
      "RangeIndex: 2774 entries, 0 to 2773\n",
      "Data columns (total 6 columns):\n",
      " #   Column         Non-Null Count  Dtype   \n",
      "---  ------         --------------  -----   \n",
      " 0   index          2774 non-null   int64   \n",
      " 1   tempF          2774 non-null   float64 \n",
      " 2   relhumidity    2774 non-null   float64 \n",
      " 3   precipitation  2774 non-null   float64 \n",
      " 4   time session   2774 non-null   category\n",
      " 5   date           2774 non-null   object  \n",
      "dtypes: category(1), float64(3), int64(1), object(1)\n",
      "memory usage: 111.4+ KB\n"
     ]
    }
   ],
   "source": [
    "dfweather.info()"
   ]
  },
  {
   "cell_type": "markdown",
   "metadata": {},
   "source": [
    "## Group and split data "
   ]
  },
  {
   "cell_type": "code",
   "execution_count": 8,
   "metadata": {},
   "outputs": [
    {
     "name": "stdout",
     "output_type": "stream",
     "text": [
      "Null values in training df:\n",
      "index                           0\n",
      "pickup_datetime                 0\n",
      "dropoff_datetime                0\n",
      "passenger_count                 0\n",
      "trip_distance            45411866\n",
      "PULocationID                    0\n",
      "DOLocationID                    0\n",
      "fare_amount              45411866\n",
      "extra                    45411866\n",
      "mta_tax                  45411866\n",
      "tip_amount               45411866\n",
      "tolls_amount             45411866\n",
      "improvement_surcharge    45411866\n",
      "total_amount             45411866\n",
      "congestion_surcharge     45411866\n",
      "total_trip_duration             0\n",
      "avespeed_mileshr         45411866\n",
      "time session                    0\n",
      "date                            0\n",
      "hour                            0\n",
      "day                             0\n",
      "dtype: int64\n",
      "Null values in testing df:\n",
      "index                           0\n",
      "pickup_datetime                 0\n",
      "dropoff_datetime                0\n",
      "passenger_count                 0\n",
      "trip_distance            22122416\n",
      "PULocationID                    0\n",
      "DOLocationID                    0\n",
      "fare_amount              22122416\n",
      "extra                    22122416\n",
      "mta_tax                  22122416\n",
      "tip_amount               22122416\n",
      "tolls_amount             22122416\n",
      "improvement_surcharge    22122416\n",
      "total_amount             22122416\n",
      "congestion_surcharge     22122416\n",
      "total_trip_duration             0\n",
      "avespeed_mileshr         22122416\n",
      "time session                    0\n",
      "date                            0\n",
      "hour                            0\n",
      "day                             0\n",
      "dtype: int64\n"
     ]
    }
   ],
   "source": [
    "print(\"Null values in training df:\")\n",
    "print(train_df.isnull().sum())\n",
    "print(\"Null values in testing df:\")\n",
    "print(test_df.isnull().sum())"
   ]
  },
  {
   "cell_type": "code",
   "execution_count": 9,
   "metadata": {},
   "outputs": [],
   "source": [
    "del train_df[\"index\"]\n",
    "del test_df[\"index\"]"
   ]
  },
  {
   "cell_type": "code",
   "execution_count": 10,
   "metadata": {},
   "outputs": [
    {
     "data": {
      "text/plain": [
       "(Index(['pickup_datetime', 'dropoff_datetime', 'passenger_count',\n",
       "        'trip_distance', 'PULocationID', 'DOLocationID', 'fare_amount', 'extra',\n",
       "        'mta_tax', 'tip_amount', 'tolls_amount', 'improvement_surcharge',\n",
       "        'total_amount', 'congestion_surcharge', 'total_trip_duration',\n",
       "        'avespeed_mileshr', 'time session', 'date', 'hour', 'day'],\n",
       "       dtype='object'),\n",
       " Index(['pickup_datetime', 'dropoff_datetime', 'passenger_count',\n",
       "        'trip_distance', 'PULocationID', 'DOLocationID', 'fare_amount', 'extra',\n",
       "        'mta_tax', 'tip_amount', 'tolls_amount', 'improvement_surcharge',\n",
       "        'total_amount', 'congestion_surcharge', 'total_trip_duration',\n",
       "        'avespeed_mileshr', 'time session', 'date', 'hour', 'day'],\n",
       "       dtype='object'))"
      ]
     },
     "execution_count": 10,
     "metadata": {},
     "output_type": "execute_result"
    }
   ],
   "source": [
    "train_df.columns, test_df.columns"
   ]
  },
  {
   "cell_type": "code",
   "execution_count": 11,
   "metadata": {},
   "outputs": [
    {
     "data": {
      "text/plain": [
       "Index(['index', 'pickup_datetime', 'dropoff_datetime', 'passenger_count',\n",
       "       'trip_distance', 'PULocationID', 'DOLocationID', 'fare_amount', 'extra',\n",
       "       'mta_tax', 'tip_amount', 'tolls_amount', 'improvement_surcharge',\n",
       "       'total_amount', 'congestion_surcharge', 'total_trip_duration',\n",
       "       'avespeed_mileshr', 'time session', 'date', 'hour', 'day'],\n",
       "      dtype='object')"
      ]
     },
     "execution_count": 11,
     "metadata": {},
     "output_type": "execute_result"
    }
   ],
   "source": [
    "train_taxi.columns"
   ]
  },
  {
   "cell_type": "code",
   "execution_count": 12,
   "metadata": {},
   "outputs": [
    {
     "data": {
      "text/plain": [
       "(23347, 19)"
      ]
     },
     "execution_count": 12,
     "metadata": {},
     "output_type": "execute_result"
    }
   ],
   "source": [
    "#Since payment is only taken from the train_taxi data, \n",
    "# we find and save the median of the payments\n",
    "X_train= train_taxi.groupby(['date', 'time session','PULocationID'], as_index= False).median().dropna(subset= [\"DOLocationID\"])\n",
    "X_train= X_train.drop(columns= [\"DOLocationID\", \"total_trip_duration\", \"hour\"]) \n",
    "#this includes the part that is a combination of taxi and fhv trips\n",
    "# with removing parts where DOLocationID is null since that means\n",
    "# neither fhv data or taxi data are present\n",
    "X_train_2= train_df.groupby(['date', 'time session','PULocationID'], as_index= False).median().dropna()\n",
    "X_train_2= X_train_2[['date', 'time session','PULocationID', \"DOLocationID\",\"total_trip_duration\", \"hour\"]] \n",
    "X_train= pd.merge(X_train, X_train_2, on=['date', 'time session', 'PULocationID'] )\n",
    "X_train.shape"
   ]
  },
  {
   "cell_type": "code",
   "execution_count": 13,
   "metadata": {},
   "outputs": [],
   "source": [
    "del train_taxi\n",
    "del train_fhv"
   ]
  },
  {
   "cell_type": "code",
   "execution_count": 14,
   "metadata": {},
   "outputs": [
    {
     "data": {
      "text/html": [
       "<div>\n",
       "<style scoped>\n",
       "    .dataframe tbody tr th:only-of-type {\n",
       "        vertical-align: middle;\n",
       "    }\n",
       "\n",
       "    .dataframe tbody tr th {\n",
       "        vertical-align: top;\n",
       "    }\n",
       "\n",
       "    .dataframe thead th {\n",
       "        text-align: right;\n",
       "    }\n",
       "</style>\n",
       "<table border=\"1\" class=\"dataframe\">\n",
       "  <thead>\n",
       "    <tr style=\"text-align: right;\">\n",
       "      <th></th>\n",
       "      <th>PULocationID</th>\n",
       "      <th>index</th>\n",
       "      <th>passenger_count</th>\n",
       "      <th>trip_distance</th>\n",
       "      <th>fare_amount</th>\n",
       "      <th>extra</th>\n",
       "      <th>mta_tax</th>\n",
       "      <th>tip_amount</th>\n",
       "      <th>tolls_amount</th>\n",
       "      <th>improvement_surcharge</th>\n",
       "      <th>total_amount</th>\n",
       "      <th>congestion_surcharge</th>\n",
       "      <th>avespeed_mileshr</th>\n",
       "      <th>day</th>\n",
       "      <th>DOLocationID</th>\n",
       "      <th>total_trip_duration</th>\n",
       "      <th>hour</th>\n",
       "    </tr>\n",
       "  </thead>\n",
       "  <tbody>\n",
       "    <tr>\n",
       "      <th>count</th>\n",
       "      <td>23347.0</td>\n",
       "      <td>23347.0</td>\n",
       "      <td>23347.0</td>\n",
       "      <td>23347.0</td>\n",
       "      <td>23347.0</td>\n",
       "      <td>23347.0</td>\n",
       "      <td>23347.0</td>\n",
       "      <td>23347.0</td>\n",
       "      <td>23347.0</td>\n",
       "      <td>23347.0</td>\n",
       "      <td>23347.0</td>\n",
       "      <td>23347.0</td>\n",
       "      <td>23347.0</td>\n",
       "      <td>23347.0</td>\n",
       "      <td>23347.0</td>\n",
       "      <td>23347.0</td>\n",
       "      <td>23347.0</td>\n",
       "    </tr>\n",
       "    <tr>\n",
       "      <th>mean</th>\n",
       "      <td>141.0</td>\n",
       "      <td>7825810.0</td>\n",
       "      <td>1.0</td>\n",
       "      <td>4.0</td>\n",
       "      <td>15.0</td>\n",
       "      <td>1.0</td>\n",
       "      <td>0.0</td>\n",
       "      <td>3.0</td>\n",
       "      <td>0.0</td>\n",
       "      <td>0.0</td>\n",
       "      <td>23.0</td>\n",
       "      <td>3.0</td>\n",
       "      <td>13.0</td>\n",
       "      <td>16.0</td>\n",
       "      <td>143.0</td>\n",
       "      <td>16.0</td>\n",
       "      <td>14.0</td>\n",
       "    </tr>\n",
       "    <tr>\n",
       "      <th>std</th>\n",
       "      <td>77.0</td>\n",
       "      <td>4417033.0</td>\n",
       "      <td>1.0</td>\n",
       "      <td>4.0</td>\n",
       "      <td>10.0</td>\n",
       "      <td>1.0</td>\n",
       "      <td>0.0</td>\n",
       "      <td>2.0</td>\n",
       "      <td>2.0</td>\n",
       "      <td>0.0</td>\n",
       "      <td>13.0</td>\n",
       "      <td>0.0</td>\n",
       "      <td>5.0</td>\n",
       "      <td>9.0</td>\n",
       "      <td>23.0</td>\n",
       "      <td>4.0</td>\n",
       "      <td>6.0</td>\n",
       "    </tr>\n",
       "    <tr>\n",
       "      <th>min</th>\n",
       "      <td>1.0</td>\n",
       "      <td>1021.0</td>\n",
       "      <td>1.0</td>\n",
       "      <td>0.0</td>\n",
       "      <td>3.0</td>\n",
       "      <td>-2.0</td>\n",
       "      <td>0.0</td>\n",
       "      <td>0.0</td>\n",
       "      <td>0.0</td>\n",
       "      <td>0.0</td>\n",
       "      <td>7.0</td>\n",
       "      <td>2.0</td>\n",
       "      <td>1.0</td>\n",
       "      <td>1.0</td>\n",
       "      <td>12.0</td>\n",
       "      <td>3.0</td>\n",
       "      <td>0.0</td>\n",
       "    </tr>\n",
       "    <tr>\n",
       "      <th>25%</th>\n",
       "      <td>75.0</td>\n",
       "      <td>4064190.0</td>\n",
       "      <td>1.0</td>\n",
       "      <td>2.0</td>\n",
       "      <td>9.0</td>\n",
       "      <td>0.0</td>\n",
       "      <td>0.0</td>\n",
       "      <td>2.0</td>\n",
       "      <td>0.0</td>\n",
       "      <td>0.0</td>\n",
       "      <td>15.0</td>\n",
       "      <td>2.0</td>\n",
       "      <td>10.0</td>\n",
       "      <td>8.0</td>\n",
       "      <td>138.0</td>\n",
       "      <td>13.0</td>\n",
       "      <td>9.0</td>\n",
       "    </tr>\n",
       "    <tr>\n",
       "      <th>50%</th>\n",
       "      <td>143.0</td>\n",
       "      <td>7860542.0</td>\n",
       "      <td>1.0</td>\n",
       "      <td>3.0</td>\n",
       "      <td>12.0</td>\n",
       "      <td>0.0</td>\n",
       "      <td>0.0</td>\n",
       "      <td>3.0</td>\n",
       "      <td>0.0</td>\n",
       "      <td>0.0</td>\n",
       "      <td>18.0</td>\n",
       "      <td>2.0</td>\n",
       "      <td>12.0</td>\n",
       "      <td>16.0</td>\n",
       "      <td>148.0</td>\n",
       "      <td>15.0</td>\n",
       "      <td>15.0</td>\n",
       "    </tr>\n",
       "    <tr>\n",
       "      <th>75%</th>\n",
       "      <td>217.0</td>\n",
       "      <td>11721806.0</td>\n",
       "      <td>1.0</td>\n",
       "      <td>5.0</td>\n",
       "      <td>18.0</td>\n",
       "      <td>1.0</td>\n",
       "      <td>0.0</td>\n",
       "      <td>4.0</td>\n",
       "      <td>0.0</td>\n",
       "      <td>0.0</td>\n",
       "      <td>26.0</td>\n",
       "      <td>2.0</td>\n",
       "      <td>15.0</td>\n",
       "      <td>23.0</td>\n",
       "      <td>161.0</td>\n",
       "      <td>17.0</td>\n",
       "      <td>19.0</td>\n",
       "    </tr>\n",
       "    <tr>\n",
       "      <th>max</th>\n",
       "      <td>263.0</td>\n",
       "      <td>15260883.0</td>\n",
       "      <td>6.0</td>\n",
       "      <td>37.0</td>\n",
       "      <td>102.0</td>\n",
       "      <td>7.0</td>\n",
       "      <td>0.0</td>\n",
       "      <td>78.0</td>\n",
       "      <td>30.0</td>\n",
       "      <td>0.0</td>\n",
       "      <td>179.0</td>\n",
       "      <td>3.0</td>\n",
       "      <td>47.0</td>\n",
       "      <td>31.0</td>\n",
       "      <td>262.0</td>\n",
       "      <td>76.0</td>\n",
       "      <td>23.0</td>\n",
       "    </tr>\n",
       "  </tbody>\n",
       "</table>\n",
       "</div>"
      ],
      "text/plain": [
       "       PULocationID       index  passenger_count  trip_distance  fare_amount  \\\n",
       "count       23347.0     23347.0          23347.0        23347.0      23347.0   \n",
       "mean          141.0   7825810.0              1.0            4.0         15.0   \n",
       "std            77.0   4417033.0              1.0            4.0         10.0   \n",
       "min             1.0      1021.0              1.0            0.0          3.0   \n",
       "25%            75.0   4064190.0              1.0            2.0          9.0   \n",
       "50%           143.0   7860542.0              1.0            3.0         12.0   \n",
       "75%           217.0  11721806.0              1.0            5.0         18.0   \n",
       "max           263.0  15260883.0              6.0           37.0        102.0   \n",
       "\n",
       "         extra  mta_tax  tip_amount  tolls_amount  improvement_surcharge  \\\n",
       "count  23347.0  23347.0     23347.0       23347.0                23347.0   \n",
       "mean       1.0      0.0         3.0           0.0                    0.0   \n",
       "std        1.0      0.0         2.0           2.0                    0.0   \n",
       "min       -2.0      0.0         0.0           0.0                    0.0   \n",
       "25%        0.0      0.0         2.0           0.0                    0.0   \n",
       "50%        0.0      0.0         3.0           0.0                    0.0   \n",
       "75%        1.0      0.0         4.0           0.0                    0.0   \n",
       "max        7.0      0.0        78.0          30.0                    0.0   \n",
       "\n",
       "       total_amount  congestion_surcharge  avespeed_mileshr      day  \\\n",
       "count       23347.0               23347.0           23347.0  23347.0   \n",
       "mean           23.0                   3.0              13.0     16.0   \n",
       "std            13.0                   0.0               5.0      9.0   \n",
       "min             7.0                   2.0               1.0      1.0   \n",
       "25%            15.0                   2.0              10.0      8.0   \n",
       "50%            18.0                   2.0              12.0     16.0   \n",
       "75%            26.0                   2.0              15.0     23.0   \n",
       "max           179.0                   3.0              47.0     31.0   \n",
       "\n",
       "       DOLocationID  total_trip_duration     hour  \n",
       "count       23347.0              23347.0  23347.0  \n",
       "mean          143.0                 16.0     14.0  \n",
       "std            23.0                  4.0      6.0  \n",
       "min            12.0                  3.0      0.0  \n",
       "25%           138.0                 13.0      9.0  \n",
       "50%           148.0                 15.0     15.0  \n",
       "75%           161.0                 17.0     19.0  \n",
       "max           262.0                 76.0     23.0  "
      ]
     },
     "execution_count": 14,
     "metadata": {},
     "output_type": "execute_result"
    }
   ],
   "source": [
    "X_train.describe().round()"
   ]
  },
  {
   "cell_type": "code",
   "execution_count": 15,
   "metadata": {},
   "outputs": [],
   "source": [
    "#merge weather data\n",
    "X_train['date']= pd.to_datetime(X_train['date'])\n",
    "dfweather['date']= pd.to_datetime(dfweather['date'])"
   ]
  },
  {
   "cell_type": "code",
   "execution_count": 16,
   "metadata": {},
   "outputs": [],
   "source": [
    "dfweather= dfweather.groupby(['date', 'time session'], as_index= False).mean()"
   ]
  },
  {
   "cell_type": "code",
   "execution_count": 17,
   "metadata": {},
   "outputs": [
    {
     "data": {
      "text/plain": [
       "(Index(['date', 'time session', 'PULocationID', 'index_x', 'passenger_count',\n",
       "        'trip_distance', 'fare_amount', 'extra', 'mta_tax', 'tip_amount',\n",
       "        'tolls_amount', 'improvement_surcharge', 'total_amount',\n",
       "        'congestion_surcharge', 'avespeed_mileshr', 'day', 'DOLocationID',\n",
       "        'total_trip_duration', 'hour', 'index_y', 'tempF', 'relhumidity',\n",
       "        'precipitation'],\n",
       "       dtype='object'),\n",
       " (23347, 23))"
      ]
     },
     "execution_count": 17,
     "metadata": {},
     "output_type": "execute_result"
    }
   ],
   "source": [
    "X_train= pd.merge(X_train, dfweather, on= [\"date\", \"time session\"])\n",
    "X_train.columns, X_train.shape"
   ]
  },
  {
   "cell_type": "code",
   "execution_count": 18,
   "metadata": {},
   "outputs": [],
   "source": [
    "del X_train[\"index_x\"]\n",
    "del X_train[\"index_y\"]"
   ]
  },
  {
   "cell_type": "code",
   "execution_count": 19,
   "metadata": {},
   "outputs": [],
   "source": [
    "# Find Trip Demand Values\n",
    "y_train_val= train_df.groupby(['date', 'time session','PULocationID'], as_index= False)[\"passenger_count\"].sum()\n",
    "y_train_val['date']= pd.to_datetime(y_train_val['date'])\n",
    "y_train_val= pd.merge(X_train, y_train_val, on=['date', 'time session', 'PULocationID'])"
   ]
  },
  {
   "cell_type": "code",
   "execution_count": 20,
   "metadata": {},
   "outputs": [
    {
     "data": {
      "text/plain": [
       "Index(['date', 'time session', 'PULocationID', 'passenger_count_x',\n",
       "       'trip_distance', 'fare_amount', 'extra', 'mta_tax', 'tip_amount',\n",
       "       'tolls_amount', 'improvement_surcharge', 'total_amount',\n",
       "       'congestion_surcharge', 'avespeed_mileshr', 'day', 'DOLocationID',\n",
       "       'total_trip_duration', 'hour', 'tempF', 'relhumidity', 'precipitation',\n",
       "       'passenger_count_y'],\n",
       "      dtype='object')"
      ]
     },
     "execution_count": 20,
     "metadata": {},
     "output_type": "execute_result"
    }
   ],
   "source": [
    "y_train_val.columns"
   ]
  },
  {
   "cell_type": "code",
   "execution_count": 21,
   "metadata": {
    "scrolled": false
   },
   "outputs": [
    {
     "data": {
      "text/plain": [
       "0         585\n",
       "1        1528\n",
       "2        2229\n",
       "3          36\n",
       "4        2564\n",
       "         ... \n",
       "23342    1109\n",
       "23343     456\n",
       "23344     644\n",
       "23345     437\n",
       "23346    1124\n",
       "Name: trip demand, Length: 23347, dtype: int64"
      ]
     },
     "execution_count": 21,
     "metadata": {},
     "output_type": "execute_result"
    }
   ],
   "source": [
    "y_train_val=y_train_val.rename(columns={\"passenger_count_y\": \"trip demand\"}, errors=\"raise\")\n",
    "y_train_val= y_train_val['trip demand']\n",
    "y_train_val"
   ]
  },
  {
   "cell_type": "code",
   "execution_count": 22,
   "metadata": {},
   "outputs": [],
   "source": [
    "#Label trips demands according to low, medium and high class\n",
    "# Save bins to get y_test according to the same bins as train data since test data is assumingly not seen\n",
    "y_train,bins= pd.qcut(y_train_val, 3,labels=[\"low\",\"med\",\"high\"], retbins=True)"
   ]
  },
  {
   "cell_type": "code",
   "execution_count": 23,
   "metadata": {},
   "outputs": [],
   "source": [
    "#Do the same for X_test and y_test\n",
    "X_test= test_taxi.groupby(['date', 'time session','PULocationID'], as_index= False).median().dropna(subset= [\"DOLocationID\"])\n",
    "X_test= X_test.drop(columns= [\"DOLocationID\", \"total_trip_duration\", \"hour\"]) \n",
    "\n",
    "X_test_2= test_df.groupby(['date', 'time session','PULocationID'], as_index= False).median().dropna()\n",
    "X_test_2= X_test_2[['date', 'time session','PULocationID', \"DOLocationID\",\"total_trip_duration\", \"hour\"]] \n",
    "X_test= pd.merge(X_test, X_test_2, on=['date', 'time session', 'PULocationID'] )\n",
    "X_test['date']= pd.to_datetime(X_test['date'])\n",
    "X_test= pd.merge(X_test, dfweather, on= [\"date\", \"time session\"])\n",
    "y_test_val= test_df.groupby(['date', 'time session','PULocationID'], as_index= False)[\"passenger_count\"].sum()\n",
    "y_test_val['date']= pd.to_datetime(y_test_val['date'])\n",
    "y_test_val= pd.merge(X_test, y_test_val, on=['date', 'time session', 'PULocationID'])\n",
    "y_test_val=y_test_val.rename(columns={\"passenger_count_y\": \"trip demand\"}, errors=\"raise\")\n",
    "y_test_val= y_test_val['trip demand']\n",
    "y_test= pd.cut(y_test_val, bins, labels=[\"low\",\"med\",\"high\"], include_lowest=True)"
   ]
  },
  {
   "cell_type": "markdown",
   "metadata": {},
   "source": [
    "### Create Date Num Column"
   ]
  },
  {
   "cell_type": "code",
   "execution_count": 24,
   "metadata": {},
   "outputs": [],
   "source": [
    "X_train['date_num']=pd.to_datetime(X_train[\"date\"]).dt.strftime(\"%Y%m%d\")\n",
    "X_test['date_num']=pd.to_datetime(X_test[\"date\"]).dt.strftime(\"%Y%m%d\")"
   ]
  },
  {
   "cell_type": "markdown",
   "metadata": {},
   "source": [
    "### Save Data"
   ]
  },
  {
   "cell_type": "code",
   "execution_count": 25,
   "metadata": {},
   "outputs": [],
   "source": [
    "train_df= pd.concat([y_train, X_train],axis=1)\n",
    "test_df= pd.concat([y_test, X_test],axis=1)\n",
    "train_df.to_csv('../preprocessed_data/trainingdf.csv', index=False)\n",
    "test_df.to_csv('../preprocessed_data/testingdf.csv', index=False)"
   ]
  }
 ],
 "metadata": {
  "kernelspec": {
   "display_name": "Python 3 (ipykernel)",
   "language": "python",
   "name": "python3"
  },
  "language_info": {
   "codemirror_mode": {
    "name": "ipython",
    "version": 3
   },
   "file_extension": ".py",
   "mimetype": "text/x-python",
   "name": "python",
   "nbconvert_exporter": "python",
   "pygments_lexer": "ipython3",
   "version": "3.7.4"
  }
 },
 "nbformat": 4,
 "nbformat_minor": 2
}
