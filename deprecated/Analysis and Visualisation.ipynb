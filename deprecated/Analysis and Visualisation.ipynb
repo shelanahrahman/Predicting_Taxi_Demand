{
 "cells": [
  {
   "cell_type": "markdown",
   "metadata": {},
   "source": [
    "# Exploring Dataset and Feature Engineering"
   ]
  },
  {
   "cell_type": "code",
   "execution_count": null,
   "metadata": {},
   "outputs": [],
   "source": [
    "def latitude_to_mercator(coords):\n",
    "    \"\"\"\n",
    "    Function which converts an array of latitude coordinates \n",
    "    into its mercator coordinate representation\n",
    "    \"\"\"\n",
    "    k = 6378137\n",
    "    converted = list()\n",
    "    for lat in coords:\n",
    "        converted.append(np.log(np.tan((90 + lat) * np.pi/360.0)) * k)\n",
    "    return converted\n",
    "\n",
    "def longitude_to_mercator(coords):\n",
    "    \"\"\"\n",
    "    Function which converts an array of longitude coordinates \n",
    "    into its mercator coordinate representation\n",
    "    \"\"\"\n",
    "    k = 6378137\n",
    "    converted = list()\n",
    "    for lon in coords:\n",
    "        converted.append(lon * (k * np.pi/180.0))\n",
    "    return converted"
   ]
  },
  {
   "cell_type": "code",
   "execution_count": null,
   "metadata": {},
   "outputs": [],
   "source": [
    "# mcoords = the middle coordinates for the map\n",
    "pickup_geo_data= ['pickup_latitude', 'pickup_longitude']\n",
    "mcoords = df_tot[pickup_geo_data].describe().loc[[\"50%\"]].values[0]\n",
    "\n",
    "# axis ranges\n",
    "xRange = [df_tot['pickup_longitude'].min(), df_tot['pickup_longitude'].max()]\n",
    "yRange = [df_tot['pickup_latitude'].min(), df_tot['pickup_latitude'].max()]\n",
    "\n"
   ]
  },
  {
   "cell_type": "code",
   "execution_count": null,
   "metadata": {},
   "outputs": [],
   "source": [
    "from bokeh.plotting import figure, show\n",
    "from bokeh.tile_providers import get_provider, Vendors\n",
    "\n",
    "# to display bokeh plots inside jupyter, we need to use output_notebook\n",
    "from bokeh.io import reset_output, output_notebook\n",
    "\n",
    "reset_output()\n",
    "output_notebook()\n",
    "# note below that it says \"BokehJS 1.4.0 successfully loaded.\""
   ]
  },
  {
   "cell_type": "code",
   "execution_count": null,
   "metadata": {},
   "outputs": [],
   "source": [
    "TILE = get_provider(\"STAMEN_TERRAIN_RETINA\")\n",
    "\n",
    "pickup_m = figure(x_range=longitude_to_mercator(xRange), y_range=latitude_to_mercator(yRange),\n",
    "       x_axis_type=\"mercator\", y_axis_type=\"mercator\")\n",
    "pickup_m.add_tile(TILE)\n",
    "pickup_m.title.text = \"Pickups in NYC\""
   ]
  },
  {
   "cell_type": "code",
   "execution_count": null,
   "metadata": {},
   "outputs": [],
   "source": [
    "#convert to merccer\n",
    "df_tot['pickupX'] = df_tot['pickup_longitude'].apply(lambda x: longitude_to_mercator([x])[0])\n",
    "df_tot['pickupY'] = df_tot['pickup_latitude'].apply(lambda x: latitude_to_mercator([x])[0])\n",
    "df_tot[['pickupX','pickupY']]"
   ]
  },
  {
   "cell_type": "code",
   "execution_count": null,
   "metadata": {},
   "outputs": [],
   "source": [
    "# for every source value, draw a small circle denoting a pickup\n",
    "pickup_m.circle(x='pickupX', y='pickupY', \n",
    "         size=5, fill_color=\"blue\", fill_alpha=0.5, \n",
    "         source=df_tot[['pickupX','pickupY']])\n",
    "show(pickup_m)"
   ]
  },
  {
   "cell_type": "code",
   "execution_count": null,
   "metadata": {},
   "outputs": [],
   "source": [
    "#for drop offs\n",
    "# create map\n",
    "dropoff = figure(x_range=longitude_to_mercator(xRange), y_range=latitude_to_mercator(yRange),\n",
    "       x_axis_type=\"mercator\", y_axis_type=\"mercator\")\n",
    "dropoff.add_tile(TILE)\n",
    "dropoff.title.text = \"Dropoff in NYC\"\n",
    "\n",
    "# convert to mercer\n",
    "df_tot['dropoffX'] = df_tot['dropoff_longitude'].apply(lambda x: longitude_to_mercator([x])[0])\n",
    "df_tot['dropoffY'] = df_tot['dropoff_latitude'].apply(lambda x: latitude_to_mercator([x])[0])\n",
    "\n",
    "# plot circles (source = data source)\n",
    "dropoff.circle(x='dropoffX', y='dropoffY', \n",
    "         size=5, color=\"pink\", fill_color=\"red\", fill_alpha=0.5, \n",
    "         source=df_tot[['dropoffX','dropoffY']])\n",
    "\n",
    "show(dropoff)"
   ]
  },
  {
   "cell_type": "code",
   "execution_count": null,
   "metadata": {},
   "outputs": [],
   "source": [
    "show(dropoff)"
   ]
  },
  {
   "cell_type": "code",
   "execution_count": null,
   "metadata": {},
   "outputs": [],
   "source": [
    "df_tot['tpep_trip_totaltime']= df_tot['tpep_dropoff_datetime'] - df_tot['tpep_pickup_datetime']"
   ]
  },
  {
   "cell_type": "code",
   "execution_count": null,
   "metadata": {
    "scrolled": true
   },
   "outputs": [],
   "source": [
    "df_tot.describe().round()"
   ]
  },
  {
   "cell_type": "code",
   "execution_count": null,
   "metadata": {},
   "outputs": [],
   "source": [
    "num_clusters = 20\n",
    "km = KMeans(n_clusters=num_clusters)\n",
    "km.fit(data)\n",
    "\n",
    "centers = km.cluster_centers_\n",
    "\n",
    "km_loc_pickup= figure(x_range=longitude_to_mercator(xRange), y_range=latitude_to_mercator(yRange),\n",
    "       x_axis_type=\"mercator\", y_axis_type=\"mercator\")\n",
    "km_loc_pickup.add_tile(TILE)\n",
    "km_loc_pickup.title.text = \"Pickups in NYC\"\n",
    "\n",
    "# plot centroid / cluster center / group mean for each group\n",
    "clus_xs = []\n",
    "clus_ys = []\n",
    "\n",
    "#we get the  cluster x / y values from the k-means algorithm\n",
    "for entry in centers:\n",
    "    clus_xs.append(entry[0])\n",
    "    clus_ys.append(entry[1])\n",
    "\n",
    "# the cluster center is marked by a circle, with a cross in it\n",
    "km_loc_pickup.circle_cross(x=clus_xs, y=clus_ys, size=40, fill_alpha=0, line_width=2, color= \"red\")\n",
    "\n",
    "\n",
    "# plot circles (source = data source)\n",
    "km_loc_pickup.circle(x='pickupX', y='pickupY', \n",
    "         size=5, color=\"pink\", fill_color=\"red\", fill_alpha=0.5, \n",
    "         source=df_tot[['pickupX','pickupY']])\n",
    "\n",
    "show(km_loc_pickup.circle)"
   ]
  },
  {
   "cell_type": "code",
   "execution_count": null,
   "metadata": {},
   "outputs": [],
   "source": []
  }
 ],
 "metadata": {
  "kernelspec": {
   "display_name": "Python 3",
   "language": "python",
   "name": "python3"
  },
  "language_info": {
   "codemirror_mode": {
    "name": "ipython",
    "version": 3
   },
   "file_extension": ".py",
   "mimetype": "text/x-python",
   "name": "python",
   "nbconvert_exporter": "python",
   "pygments_lexer": "ipython3",
   "version": "3.7.4"
  }
 },
 "nbformat": 4,
 "nbformat_minor": 2
}
