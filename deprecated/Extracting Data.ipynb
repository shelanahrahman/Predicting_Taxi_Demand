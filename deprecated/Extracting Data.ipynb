{
 "cells": [
  {
   "cell_type": "markdown",
   "metadata": {},
   "source": [
    "Code to download 2016 MARCH, APRIL and MAY csv files from the TLC website"
   ]
  },
  {
   "cell_type": "code",
   "execution_count": 2,
   "metadata": {},
   "outputs": [],
   "source": [
    "from os.path import getsize\n",
    "from urllib.request import urlretrieve\n",
    "import zipfile\n",
    "import pandas as pd"
   ]
  },
  {
   "cell_type": "code",
   "execution_count": 2,
   "metadata": {},
   "outputs": [
    {
     "name": "stdout",
     "output_type": "stream",
     "text": [
      "Done downloading yellow_tripdata_2016-03.csv to ../data/large with size 1.78GB\n",
      "Done downloading yellow_tripdata_2016-04.csv to ../data/large with size 1.74GB\n",
      "Done downloading yellow_tripdata_2016-05.csv to ../data/large with size 1.73GB\n"
     ]
    }
   ],
   "source": [
    "output_dir = \"../data/large\"\n",
    "fname_template = \"yellow_tripdata_2016\"\n",
    "\n",
    "for m in range(3, 6):\n",
    "    month = str(m).zfill(2)\n",
    "    out = f'{fname_template}-{month}.csv'\n",
    "    url = f\"https://s3.amazonaws.com/nyc-tlc/trip+data/{out}\"\n",
    "    urlretrieve(url, f\"{output_dir}/{out}\")\n",
    "\n",
    "    print(f\"Done downloading {out} to {output_dir} with size {getsize(f'{output_dir}/{out}') / 1073741824:.2f}GB\")"
   ]
  },
  {
   "cell_type": "code",
   "execution_count": 8,
   "metadata": {},
   "outputs": [
    {
     "name": "stdout",
     "output_type": "stream",
     "text": [
      "Done downloading yellow_tripdata_2019-03.csv to ../data/large with size 0.68GB\n",
      "Done downloading yellow_tripdata_2019-04.csv to ../data/large with size 0.64GB\n",
      "Done downloading yellow_tripdata_2019-05.csv to ../data/large with size 0.65GB\n"
     ]
    }
   ],
   "source": [
    "output_dir = \"../data/large\"\n",
    "fname_template = \"yellow_tripdata_2019\"\n",
    "\n",
    "for m in range(3, 6):\n",
    "    month = str(m).zfill(2)\n",
    "    out = f'{fname_template}-{month}.csv'\n",
    "    url = f\"https://s3.amazonaws.com/nyc-tlc/trip+data/{out}\"\n",
    "    urlretrieve(url, f\"{output_dir}/{out}\")\n",
    "\n",
    "    print(f\"Done downloading {out} to {output_dir} with size {getsize(f'{output_dir}/{out}') / 1073741824:.2f}GB\")"
   ]
  },
  {
   "cell_type": "code",
   "execution_count": 9,
   "metadata": {},
   "outputs": [
    {
     "name": "stdout",
     "output_type": "stream",
     "text": [
      "Done downloading fhv_tripdata_2019-03.csv to ../data/large with size 0.07GB\n",
      "Done downloading fhv_tripdata_2019-04.csv to ../data/large with size 0.10GB\n",
      "Done downloading fhv_tripdata_2019-05.csv to ../data/large with size 0.11GB\n"
     ]
    }
   ],
   "source": [
    "output_dir = \"../data/large\"\n",
    "fname_template = \"fhv_tripdata_2019\"\n",
    "\n",
    "for m in range(3, 6):\n",
    "    month = str(m).zfill(2)\n",
    "    out = f'{fname_template}-{month}.csv'\n",
    "    url = f\"https://s3.amazonaws.com/nyc-tlc/trip+data/{out}\"\n",
    "    urlretrieve(url, f\"{output_dir}/{out}\")\n",
    "\n",
    "    print(f\"Done downloading {out} to {output_dir} with size {getsize(f'{output_dir}/{out}') / 1073741824:.2f}GB\")"
   ]
  },
  {
   "cell_type": "code",
   "execution_count": 14,
   "metadata": {},
   "outputs": [
    {
     "name": "stdout",
     "output_type": "stream",
     "text": [
      "Done downloading taxi+_zone_lookup.csv to ../data/large with size 0.00GB\n"
     ]
    }
   ],
   "source": [
    "output_dir = \"../raw_data/large/taxi+_zone_lookup.csv\"\n",
    "out = f'taxi+_zone_lookup.csv'\n",
    "url = f\"https://s3.amazonaws.com/nyc-tlc/misc/{out}\"\n",
    "urlretrieve(url, f\"{output_dir}/{out}\")\n",
    "print(f\"Done downloading {out} to {output_dir} with size {getsize(f'{output_dir}/{out}') / 1073741824:.2f}GB\")"
   ]
  },
  {
   "cell_type": "code",
   "execution_count": 18,
   "metadata": {},
   "outputs": [
    {
     "name": "stdout",
     "output_type": "stream",
     "text": [
      "Done downloading weather_data_3-5_2019.csv to ../data/large with size 0.00GB\n"
     ]
    }
   ],
   "source": [
    "output_dir = \"../data/large\"\n",
    "out = f'weather_data_3-5_2019.csv'\n",
    "url = f\"http://mesonet.agron.iastate.edu/cgi-bin/request/asos.py?station=NYC&data=tmpf&data=tmpc&data=dwpf&data=dwpc&data=relh&data=feel&data=drct&data=sknt&data=sped&data=alti&data=mslp&data=p01m&year1=2019&month1=3&day1=1&year2=2019&month2=5&day2=31&tz=America%2FNew_York&format=onlycomma&latlon=yes&elev=no&missing=empty&trace=T&direct=no&report_type=1&report_type=2\"\n",
    "urlretrieve(url, f\"{output_dir}/{out}\")\n",
    "print(f\"Done downloading {out} to {output_dir} with size {getsize(f'{output_dir}/{out}') / 1073741824:.2f}GB\")"
   ]
  },
  {
   "cell_type": "code",
   "execution_count": 36,
   "metadata": {},
   "outputs": [
    {
     "name": "stdout",
     "output_type": "stream",
     "text": [
      "Done downloading taxi_zones.zip to ../data/large with size 0.00GB\n"
     ]
    }
   ],
   "source": [
    "output_dir = \"../data/large\"\n",
    "out = f'taxi_zones.zip'\n",
    "url = f\"https://s3.amazonaws.com/nyc-tlc/misc/taxi_zones.zip\"\n",
    "urlretrieve(url, f\"{output_dir}/{out}\")\n",
    "print(f\"Done downloading {out} to {output_dir} with size {getsize(f'{output_dir}/{out}') / 1073741824:.2f}GB\")"
   ]
  },
  {
   "cell_type": "code",
   "execution_count": 39,
   "metadata": {},
   "outputs": [
    {
     "name": "stdout",
     "output_type": "stream",
     "text": [
      "Collecting pyshp\n",
      "  Downloading pyshp-2.1.3.tar.gz (219 kB)\n",
      "\u001b[K     |████████████████████████████████| 219 kB 3.4 MB/s eta 0:00:01\n",
      "\u001b[?25hBuilding wheels for collected packages: pyshp\n",
      "  Building wheel for pyshp (setup.py) ... \u001b[?25ldone\n",
      "\u001b[?25h  Created wheel for pyshp: filename=pyshp-2.1.3-py3-none-any.whl size=37263 sha256=5a8c56589d203c3fd4baacccb99dee872b264d2566f974c1c9ac3b35b910bbd3\n",
      "  Stored in directory: /Users/shelanahrahman/Library/Caches/pip/wheels/43/f8/87/53c8cd41545ba20e536ea29a8fcb5431b5f477ca50d5dffbbe\n",
      "Successfully built pyshp\n",
      "Installing collected packages: pyshp\n",
      "Successfully installed pyshp-2.1.3\n",
      "Note: you may need to restart the kernel to use updated packages.\n"
     ]
    }
   ],
   "source": [
    "pip install pyshp"
   ]
  },
  {
   "cell_type": "code",
   "execution_count": 1,
   "metadata": {},
   "outputs": [
    {
     "name": "stdout",
     "output_type": "stream",
     "text": [
      "Requirement already satisfied: notebook in /Users/shelanahrahman/opt/anaconda3/lib/python3.7/site-packages (6.4.0)\n",
      "Requirement already satisfied: prometheus-client in /Users/shelanahrahman/opt/anaconda3/lib/python3.7/site-packages (from notebook) (0.11.0)\n",
      "Requirement already satisfied: pyzmq>=17 in /Users/shelanahrahman/opt/anaconda3/lib/python3.7/site-packages (from notebook) (20.0.0)\n",
      "Requirement already satisfied: Send2Trash>=1.5.0 in /Users/shelanahrahman/opt/anaconda3/lib/python3.7/site-packages (from notebook) (1.5.0)\n",
      "Requirement already satisfied: tornado>=6.1 in /Users/shelanahrahman/opt/anaconda3/lib/python3.7/site-packages (from notebook) (6.1)\n",
      "Requirement already satisfied: terminado>=0.8.3 in /Users/shelanahrahman/opt/anaconda3/lib/python3.7/site-packages (from notebook) (0.9.4)\n",
      "Requirement already satisfied: ipython-genutils in /Users/shelanahrahman/opt/anaconda3/lib/python3.7/site-packages (from notebook) (0.2.0)\n",
      "Requirement already satisfied: jupyter-core>=4.6.1 in /Users/shelanahrahman/opt/anaconda3/lib/python3.7/site-packages (from notebook) (4.7.1)\n",
      "Requirement already satisfied: jupyter-client>=5.3.4 in /Users/shelanahrahman/opt/anaconda3/lib/python3.7/site-packages (from notebook) (6.1.12)\n",
      "Requirement already satisfied: nbconvert in /Users/shelanahrahman/opt/anaconda3/lib/python3.7/site-packages (from notebook) (6.1.0)\n",
      "Requirement already satisfied: traitlets>=4.2.1 in /Users/shelanahrahman/opt/anaconda3/lib/python3.7/site-packages (from notebook) (5.0.5)\n",
      "Requirement already satisfied: nbformat in /Users/shelanahrahman/opt/anaconda3/lib/python3.7/site-packages (from notebook) (5.1.3)\n",
      "Requirement already satisfied: argon2-cffi in /Users/shelanahrahman/opt/anaconda3/lib/python3.7/site-packages (from notebook) (20.1.0)\n",
      "Requirement already satisfied: jinja2 in /Users/shelanahrahman/opt/anaconda3/lib/python3.7/site-packages (from notebook) (2.11.3)\n",
      "Requirement already satisfied: ipykernel in /Users/shelanahrahman/opt/anaconda3/lib/python3.7/site-packages (from notebook) (5.3.4)\n",
      "Requirement already satisfied: python-dateutil>=2.1 in /Users/shelanahrahman/opt/anaconda3/lib/python3.7/site-packages (from jupyter-client>=5.3.4->notebook) (2.8.2)\n",
      "Requirement already satisfied: six>=1.5 in /Users/shelanahrahman/opt/anaconda3/lib/python3.7/site-packages (from python-dateutil>=2.1->jupyter-client>=5.3.4->notebook) (1.16.0)\n",
      "Requirement already satisfied: ptyprocess in /Users/shelanahrahman/opt/anaconda3/lib/python3.7/site-packages (from terminado>=0.8.3->notebook) (0.7.0)\n",
      "Requirement already satisfied: cffi>=1.0.0 in /Users/shelanahrahman/opt/anaconda3/lib/python3.7/site-packages (from argon2-cffi->notebook) (1.14.0)\n",
      "Requirement already satisfied: pycparser in /Users/shelanahrahman/opt/anaconda3/lib/python3.7/site-packages (from cffi>=1.0.0->argon2-cffi->notebook) (2.20)\n",
      "Requirement already satisfied: appnope in /Users/shelanahrahman/opt/anaconda3/lib/python3.7/site-packages (from ipykernel->notebook) (0.1.2)\n",
      "Requirement already satisfied: ipython>=5.0.0 in /Users/shelanahrahman/opt/anaconda3/lib/python3.7/site-packages (from ipykernel->notebook) (7.22.0)\n",
      "Requirement already satisfied: pickleshare in /Users/shelanahrahman/opt/anaconda3/lib/python3.7/site-packages (from ipython>=5.0.0->ipykernel->notebook) (0.7.5)\n",
      "Requirement already satisfied: backcall in /Users/shelanahrahman/opt/anaconda3/lib/python3.7/site-packages (from ipython>=5.0.0->ipykernel->notebook) (0.2.0)\n",
      "Requirement already satisfied: pygments in /Users/shelanahrahman/opt/anaconda3/lib/python3.7/site-packages (from ipython>=5.0.0->ipykernel->notebook) (2.9.0)\n",
      "Requirement already satisfied: jedi>=0.16 in /Users/shelanahrahman/opt/anaconda3/lib/python3.7/site-packages (from ipython>=5.0.0->ipykernel->notebook) (0.17.0)\n",
      "Requirement already satisfied: prompt-toolkit!=3.0.0,!=3.0.1,<3.1.0,>=2.0.0 in /Users/shelanahrahman/opt/anaconda3/lib/python3.7/site-packages (from ipython>=5.0.0->ipykernel->notebook) (3.0.17)\n",
      "Requirement already satisfied: setuptools>=18.5 in /Users/shelanahrahman/opt/anaconda3/lib/python3.7/site-packages (from ipython>=5.0.0->ipykernel->notebook) (52.0.0.post20210125)\n",
      "Requirement already satisfied: decorator in /Users/shelanahrahman/opt/anaconda3/lib/python3.7/site-packages (from ipython>=5.0.0->ipykernel->notebook) (5.0.9)\n",
      "Requirement already satisfied: pexpect>4.3 in /Users/shelanahrahman/opt/anaconda3/lib/python3.7/site-packages (from ipython>=5.0.0->ipykernel->notebook) (4.8.0)\n",
      "Requirement already satisfied: parso>=0.7.0 in /Users/shelanahrahman/opt/anaconda3/lib/python3.7/site-packages (from jedi>=0.16->ipython>=5.0.0->ipykernel->notebook) (0.8.2)\n",
      "Requirement already satisfied: wcwidth in /Users/shelanahrahman/opt/anaconda3/lib/python3.7/site-packages (from prompt-toolkit!=3.0.0,!=3.0.1,<3.1.0,>=2.0.0->ipython>=5.0.0->ipykernel->notebook) (0.2.5)\n",
      "Requirement already satisfied: MarkupSafe>=0.23 in /Users/shelanahrahman/opt/anaconda3/lib/python3.7/site-packages (from jinja2->notebook) (2.0.1)\n",
      "Requirement already satisfied: pandocfilters>=1.4.1 in /Users/shelanahrahman/opt/anaconda3/lib/python3.7/site-packages (from nbconvert->notebook) (1.4.3)\n",
      "Requirement already satisfied: testpath in /Users/shelanahrahman/opt/anaconda3/lib/python3.7/site-packages (from nbconvert->notebook) (0.5.0)\n",
      "Requirement already satisfied: defusedxml in /Users/shelanahrahman/opt/anaconda3/lib/python3.7/site-packages (from nbconvert->notebook) (0.7.1)\n",
      "Requirement already satisfied: entrypoints>=0.2.2 in /Users/shelanahrahman/opt/anaconda3/lib/python3.7/site-packages (from nbconvert->notebook) (0.3)\n",
      "Requirement already satisfied: mistune<2,>=0.8.1 in /Users/shelanahrahman/opt/anaconda3/lib/python3.7/site-packages (from nbconvert->notebook) (0.8.4)\n",
      "Requirement already satisfied: bleach in /Users/shelanahrahman/opt/anaconda3/lib/python3.7/site-packages (from nbconvert->notebook) (3.3.1)\n",
      "Requirement already satisfied: jupyterlab-pygments in /Users/shelanahrahman/opt/anaconda3/lib/python3.7/site-packages (from nbconvert->notebook) (0.1.2)\n",
      "Requirement already satisfied: nbclient<0.6.0,>=0.5.0 in /Users/shelanahrahman/opt/anaconda3/lib/python3.7/site-packages (from nbconvert->notebook) (0.5.3)\n",
      "Requirement already satisfied: nest-asyncio in /Users/shelanahrahman/opt/anaconda3/lib/python3.7/site-packages (from nbclient<0.6.0,>=0.5.0->nbconvert->notebook) (1.5.1)\n",
      "Requirement already satisfied: async-generator in /Users/shelanahrahman/opt/anaconda3/lib/python3.7/site-packages (from nbclient<0.6.0,>=0.5.0->nbconvert->notebook) (1.10)\n",
      "Requirement already satisfied: jsonschema!=2.5.0,>=2.4 in /Users/shelanahrahman/opt/anaconda3/lib/python3.7/site-packages (from nbformat->notebook) (3.2.0)\n",
      "Requirement already satisfied: importlib-metadata in /Users/shelanahrahman/opt/anaconda3/lib/python3.7/site-packages (from jsonschema!=2.5.0,>=2.4->nbformat->notebook) (3.10.0)\n",
      "Requirement already satisfied: attrs>=17.4.0 in /Users/shelanahrahman/opt/anaconda3/lib/python3.7/site-packages (from jsonschema!=2.5.0,>=2.4->nbformat->notebook) (21.2.0)\n",
      "Requirement already satisfied: pyrsistent>=0.14.0 in /Users/shelanahrahman/opt/anaconda3/lib/python3.7/site-packages (from jsonschema!=2.5.0,>=2.4->nbformat->notebook) (0.17.3)\n",
      "Requirement already satisfied: packaging in /Users/shelanahrahman/opt/anaconda3/lib/python3.7/site-packages (from bleach->nbconvert->notebook) (21.0)\n",
      "Requirement already satisfied: webencodings in /Users/shelanahrahman/opt/anaconda3/lib/python3.7/site-packages (from bleach->nbconvert->notebook) (0.5.1)\n",
      "Requirement already satisfied: typing-extensions>=3.6.4 in /Users/shelanahrahman/opt/anaconda3/lib/python3.7/site-packages (from importlib-metadata->jsonschema!=2.5.0,>=2.4->nbformat->notebook) (3.10.0.0)\n",
      "Requirement already satisfied: zipp>=0.5 in /Users/shelanahrahman/opt/anaconda3/lib/python3.7/site-packages (from importlib-metadata->jsonschema!=2.5.0,>=2.4->nbformat->notebook) (3.5.0)\n",
      "Requirement already satisfied: pyparsing>=2.0.2 in /Users/shelanahrahman/opt/anaconda3/lib/python3.7/site-packages (from packaging->bleach->nbconvert->notebook) (2.4.7)\n",
      "Note: you may need to restart the kernel to use updated packages.\n"
     ]
    }
   ],
   "source": [
    "pip install notebook --upgrade"
   ]
  },
  {
   "cell_type": "code",
   "execution_count": 3,
   "metadata": {},
   "outputs": [
    {
     "name": "stdout",
     "output_type": "stream",
     "text": [
      "\u001b[31mERROR: Could not find a version that satisfies the requirement shapefile (from versions: none)\u001b[0m\n",
      "\u001b[31mERROR: No matching distribution found for shapefile\u001b[0m\n",
      "Note: you may need to restart the kernel to use updated packages.\n"
     ]
    }
   ],
   "source": [
    "pip install shapefile"
   ]
  },
  {
   "cell_type": "code",
   "execution_count": null,
   "metadata": {},
   "outputs": [],
   "source": [
    "\n",
    "pip install seaborn"
   ]
  },
  {
   "cell_type": "code",
   "execution_count": 3,
   "metadata": {},
   "outputs": [
    {
     "name": "stdout",
     "output_type": "stream",
     "text": [
      "Collecting bokeh\n",
      "  Downloading bokeh-2.3.3.tar.gz (10.7 MB)\n",
      "\u001b[K     |████████████████████████████████| 10.7 MB 6.0 MB/s eta 0:00:01    |██████████████████▉             | 6.3 MB 6.1 MB/s eta 0:00:01\n",
      "\u001b[?25hRequirement already satisfied: PyYAML>=3.10 in /Users/shelanahrahman/opt/anaconda3/lib/python3.7/site-packages (from bokeh) (5.4.1)\n",
      "Requirement already satisfied: python-dateutil>=2.1 in /Users/shelanahrahman/opt/anaconda3/lib/python3.7/site-packages (from bokeh) (2.8.2)\n",
      "Requirement already satisfied: Jinja2>=2.9 in /Users/shelanahrahman/opt/anaconda3/lib/python3.7/site-packages (from bokeh) (2.11.3)\n",
      "Requirement already satisfied: numpy>=1.11.3 in /Users/shelanahrahman/opt/anaconda3/lib/python3.7/site-packages (from bokeh) (1.20.3)\n",
      "Requirement already satisfied: pillow>=7.1.0 in /Users/shelanahrahman/opt/anaconda3/lib/python3.7/site-packages (from bokeh) (8.3.1)\n",
      "Requirement already satisfied: packaging>=16.8 in /Users/shelanahrahman/opt/anaconda3/lib/python3.7/site-packages (from bokeh) (21.0)\n",
      "Requirement already satisfied: tornado>=5.1 in /Users/shelanahrahman/opt/anaconda3/lib/python3.7/site-packages (from bokeh) (6.1)\n",
      "Requirement already satisfied: typing_extensions>=3.7.4 in /Users/shelanahrahman/opt/anaconda3/lib/python3.7/site-packages (from bokeh) (3.10.0.0)\n",
      "Requirement already satisfied: MarkupSafe>=0.23 in /Users/shelanahrahman/opt/anaconda3/lib/python3.7/site-packages (from Jinja2>=2.9->bokeh) (2.0.1)\n",
      "Requirement already satisfied: pyparsing>=2.0.2 in /Users/shelanahrahman/opt/anaconda3/lib/python3.7/site-packages (from packaging>=16.8->bokeh) (2.4.7)\n",
      "Requirement already satisfied: six>=1.5 in /Users/shelanahrahman/opt/anaconda3/lib/python3.7/site-packages (from python-dateutil>=2.1->bokeh) (1.16.0)\n",
      "Building wheels for collected packages: bokeh\n",
      "  Building wheel for bokeh (setup.py) ... \u001b[?25ldone\n",
      "\u001b[?25h  Created wheel for bokeh: filename=bokeh-2.3.3-py3-none-any.whl size=11342778 sha256=871802f5c158206c5e0461f954fb1c8beea34749a7081e9b4b063d7424caed95\n",
      "  Stored in directory: /Users/shelanahrahman/Library/Caches/pip/wheels/57/e3/79/051e58e8a3d9076de99bdd7d68d463289e28c18329933984ff\n",
      "Successfully built bokeh\n",
      "Installing collected packages: bokeh\n",
      "Successfully installed bokeh-2.3.3\n",
      "Note: you may need to restart the kernel to use updated packages.\n"
     ]
    }
   ],
   "source": [
    "pip install bokeh"
   ]
  },
  {
   "cell_type": "code",
   "execution_count": 2,
   "metadata": {},
   "outputs": [
    {
     "name": "stdout",
     "output_type": "stream",
     "text": [
      "\n",
      "Please wait a moment while I gather a list of all available modules...\n",
      "\n"
     ]
    },
    {
     "name": "stderr",
     "output_type": "stream",
     "text": [
      "/Users/shelanahrahman/opt/anaconda3/lib/python3.7/site-packages/IPython/kernel/__init__.py:13: ShimWarning: The `IPython.kernel` package has been deprecated since IPython 4.0.You should import from ipykernel or jupyter_client instead.\n",
      "  \"You should import from ipykernel or jupyter_client instead.\", ShimWarning)\n",
      "Failed to extract font properties from /System/Library/Fonts/Supplemental/NISC18030.ttf: In FT2Font: Could not set the fontsize (error code 0x17)\n",
      "Failed to extract font properties from /opt/X11/share/system_fonts/LastResort.otf: tuple indices must be integers or slices, not str\n",
      "Failed to extract font properties from /opt/X11/share/system_fonts/Apple Color Emoji.ttc: In FT2Font: Could not set the fontsize (error code 0x17)\n",
      "Failed to extract font properties from /opt/X11/share/system_fonts/Supplemental/NISC18030.ttf: In FT2Font: Could not set the fontsize (error code 0x17)\n",
      "Failed to extract font properties from /System/Library/Fonts/LastResort.otf: tuple indices must be integers or slices, not str\n",
      "Failed to extract font properties from /System/Library/Fonts/Apple Color Emoji.ttc: In FT2Font: Could not set the fontsize (error code 0x17)\n",
      "generated new fontManager\n",
      "/Users/shelanahrahman/opt/anaconda3/lib/python3.7/pkgutil.py:92: MatplotlibDeprecationWarning: \n",
      "The matplotlib.compat module was deprecated in Matplotlib 3.3 and will be removed two minor releases later.\n",
      "  __import__(info.name)\n"
     ]
    },
    {
     "name": "stdout",
     "output_type": "stream",
     "text": [
      "IPython             autoreload          itertools           reprlib\n",
      "OpenSSL             babel               jedi                requests\n",
      "PIL                 backcall            jinja2              resource\n",
      "PyQt5               backports           json                rlcompleter\n",
      "__future__          base64              json5               rmagic\n",
      "_abc                bdb                 jsonschema          ruamel_yaml\n",
      "_ast                binascii            jupyter             runpy\n",
      "_asyncio            binhex              jupyter_client      sched\n",
      "_bisect             binstar_client      jupyter_core        scipy\n",
      "_blake2             bisect              jupyter_packaging   scripts\n",
      "_bootlocale         bleach              jupyter_server      seaborn\n",
      "_bz2                bottleneck          jupyterlab          secrets\n",
      "_cffi_backend       branca              jupyterlab_pygments select\n",
      "_codecs             brotli              jupyterlab_server   selectors\n",
      "_codecs_cn          bs4                 jupyterlab_widgets  send2trash\n",
      "_codecs_hk          builtins            keyword             setuptools\n",
      "_codecs_iso2022     bz2                 kiwisolver          shelve\n",
      "_codecs_jp          cProfile            lib2to3             shlex\n",
      "_codecs_kr          calendar            libarchive          shutil\n",
      "_codecs_tw          certifi             libfuturize         signal\n",
      "_collections        cffi                libpasteurize       sip\n",
      "_collections_abc    cgi                 lief                sipconfig\n",
      "_compat_pickle      cgitb               linecache           sipdistutils\n",
      "_compression        chardet             locale              site\n",
      "_contextvars        chunk               logging             six\n",
      "_crypt              click               lzma                smtpd\n",
      "_csv                clyent              macpath             smtplib\n",
      "_ctypes             cmath               mailbox             sndhdr\n",
      "_ctypes_test        cmd                 mailcap             sniffio\n",
      "_curses             code                markupsafe          socket\n",
      "_curses_panel       codecs              marshal             socketserver\n",
      "_datetime           codeop              math                socks\n",
      "_dbm                collections         matplotlib          sockshandler\n",
      "_decimal            colorsys            mimetypes           soupsieve\n",
      "_distutils_hack     compileall          mistune             sqlite3\n",
      "_dummy_thread       concurrent          mkl                 sre_compile\n",
      "_elementtree        conda               mkl_fft             sre_constants\n",
      "_functools          conda_build         mkl_random          sre_parse\n",
      "_hashlib            conda_content_trust mmap                ssl\n",
      "_heapq              conda_env           modulefinder        stat\n",
      "_imp                conda_package_handling multiprocessing     statistics\n",
      "_io                 conda_token         navigator_updater   storemagic\n",
      "_json               conda_verify        nbclassic           string\n",
      "_locale             configparser        nbclient            stringprep\n",
      "_lsprof             contextlib          nbconvert           struct\n",
      "_lzma               contextvars         nbformat            subprocess\n",
      "_markupbase         copy                nest_asyncio        sunau\n",
      "_md5                copyreg             netrc               symbol\n",
      "_multibytecodec     crypt               nis                 sympyprinting\n",
      "_multiprocessing    cryptography        nntplib             symtable\n",
      "_opcode             csv                 notebook            sys\n",
      "_operator           ctypes              ntpath              sysconfig\n",
      "_osx_support        curses              nturl2path          syslog\n",
      "_pickle             cycler              numbers             tabnanny\n",
      "_posixsubprocess    cythonmagic         numexpr             tarfile\n",
      "_py_abc             dataclasses         numpy               telnetlib\n",
      "_pydecimal          datetime            olefile             tempfile\n",
      "_pyio               dateutil            opcode              terminado\n",
      "_pyrsistent_version dbm                 operator            termios\n",
      "_queue              decimal             optparse            test\n",
      "_random             decorator           os                  test_data\n",
      "_scproxy            defusedxml          packaging           test_pycosat\n",
      "_sha1               difflib             pandas              testpath\n",
      "_sha256             dis                 pandocfilters       tests\n",
      "_sha3               distutils           parser              textwrap\n",
      "_sha512             doctest             parso               this\n",
      "_signal             dummy_threading     past                threading\n",
      "_sitebuiltins       email               pathlib             time\n",
      "_socket             encodings           pdb                 timeit\n",
      "_sqlite3            ensurepip           pexpect             tkinter\n",
      "_sre                entrypoints         pickle              token\n",
      "_ssl                enum                pickleshare         tokenize\n",
      "_stat               errno               pickletools         tornado\n",
      "_string             faulthandler        pip                 tqdm\n",
      "_strptime           fcntl               pipes               trace\n",
      "_struct             filecmp             pkg_resources       traceback\n",
      "_symtable           fileinput           pkginfo             tracemalloc\n",
      "_sysconfigdata_i686_conda_cos6_linux_gnu filelock            pkgutil             traitlets\n",
      "_sysconfigdata_m_darwin_darwin fnmatch             platform            tty\n",
      "_sysconfigdata_powerpc64le_conda_cos7_linux_gnu folium              plistlib            turtle\n",
      "_sysconfigdata_x86_64_apple_darwin13_4_0 formatter           poplib              turtledemo\n",
      "_sysconfigdata_x86_64_conda_cos6_linux_gnu fractions           posix               types\n",
      "_testbuffer         ftplib              posixpath           typing\n",
      "_testcapi           functools           pprint              typing_extensions\n",
      "_testimportmultiple future              profile             unicodedata\n",
      "_testmultiphase     gc                  prometheus_client   unittest\n",
      "_thread             genericpath         prompt_toolkit      urllib\n",
      "_threading_local    getopt              pstats              urllib3\n",
      "_tkinter            getpass             psutil              uu\n",
      "_tracemalloc        gettext             pty                 uuid\n",
      "_uuid               glob                ptyprocess          venv\n",
      "_warnings           glob2               pvectorc            warnings\n",
      "_weakref            grp                 pwd                 wave\n",
      "_weakrefset         gzip                py_compile          wcwidth\n",
      "_xxtestfuzz         hashlib             pyarrow             weakref\n",
      "_yaml               heapq               pyclbr              webbrowser\n",
      "abc                 hmac                pycosat             webencodings\n",
      "aifc                html                pycparser           wheel\n",
      "anaconda_navigator  http                pydoc               widgetsnbextension\n",
      "antigravity         idlelib             pydoc_data          wsgiref\n",
      "anyio               idna                pyexpat             xdrlib\n",
      "appnope             imaplib             pygments            xml\n",
      "argon2              imghdr              pylab               xmlrpc\n",
      "argparse            imp                 pyparsing           xmltodict\n",
      "array               importlib           pyrsistent          xxlimited\n",
      "ast                 importlib_metadata  pytz                xxsubtype\n",
      "async_generator     inspect             qtpy                yaml\n",
      "asynchat            io                  queue               zipapp\n",
      "asyncio             ipaddress           quopri              zipfile\n",
      "asyncore            ipykernel           random              zipimport\n",
      "atexit              ipykernel_launcher  re                  zipp\n",
      "attr                ipython_genutils    readline            zlib\n",
      "audioop             ipywidgets          repo_cli            zmq\n",
      "\n",
      "Enter any module name to get more help.  Or, type \"modules spam\" to search\n",
      "for modules whose name or summary contain the string \"spam\".\n",
      "\n"
     ]
    },
    {
     "name": "stderr",
     "output_type": "stream",
     "text": [
      "/Users/shelanahrahman/opt/anaconda3/lib/python3.7/pkgutil.py:107: VisibleDeprecationWarning: zmq.eventloop.minitornado is deprecated in pyzmq 14.0 and will be removed.\n",
      "    Install tornado itself to use zmq with the tornado IOLoop.\n",
      "    \n",
      "  yield from walk_packages(path, info.name+'.', onerror)\n"
     ]
    }
   ],
   "source": [
    "help(\"modules\")"
   ]
  },
  {
   "cell_type": "code",
   "execution_count": 1,
   "metadata": {},
   "outputs": [
    {
     "name": "stdout",
     "output_type": "stream",
     "text": [
      "Collecting sklearn\n",
      "  Downloading sklearn-0.0.tar.gz (1.1 kB)\n",
      "Collecting scikit-learn\n",
      "  Downloading scikit_learn-0.24.2-cp37-cp37m-macosx_10_13_x86_64.whl (7.2 MB)\n",
      "\u001b[K     |████████████████████████████████| 7.2 MB 126 kB/s eta 0:00:01    |▍                               | 81 kB 111 kB/s eta 0:01:04     |███████████████████████▋        | 5.3 MB 199 kB/s eta 0:00:10\n",
      "\u001b[?25hCollecting threadpoolctl>=2.0.0\n",
      "  Downloading threadpoolctl-2.2.0-py3-none-any.whl (12 kB)\n",
      "Collecting joblib>=0.11\n",
      "  Downloading joblib-1.0.1-py3-none-any.whl (303 kB)\n",
      "\u001b[K     |████████████████████████████████| 303 kB 120 kB/s eta 0:00:01    |████▎                           | 40 kB 552 kB/s eta 0:00:01\n",
      "\u001b[?25hRequirement already satisfied: scipy>=0.19.1 in /Users/shelanahrahman/opt/anaconda3/lib/python3.7/site-packages (from scikit-learn->sklearn) (1.7.0)\n",
      "Requirement already satisfied: numpy>=1.13.3 in /Users/shelanahrahman/opt/anaconda3/lib/python3.7/site-packages (from scikit-learn->sklearn) (1.20.3)\n",
      "Building wheels for collected packages: sklearn\n",
      "  Building wheel for sklearn (setup.py) ... \u001b[?25ldone\n",
      "\u001b[?25h  Created wheel for sklearn: filename=sklearn-0.0-py2.py3-none-any.whl size=1316 sha256=51c0d6c627399188387a8a9e0c7088227cbfa1764dfcd0a1ca9efc5fc94b5f59\n",
      "  Stored in directory: /Users/shelanahrahman/Library/Caches/pip/wheels/46/ef/c3/157e41f5ee1372d1be90b09f74f82b10e391eaacca8f22d33e\n",
      "Successfully built sklearn\n",
      "Installing collected packages: threadpoolctl, joblib, scikit-learn, sklearn\n",
      "Successfully installed joblib-1.0.1 scikit-learn-0.24.2 sklearn-0.0 threadpoolctl-2.2.0\n",
      "Note: you may need to restart the kernel to use updated packages.\n"
     ]
    }
   ],
   "source": [
    "pip install sklearn\n"
   ]
  },
  {
   "cell_type": "code",
   "execution_count": 15,
   "metadata": {},
   "outputs": [
    {
     "name": "stdout",
     "output_type": "stream",
     "text": [
      "Collecting sridentify\n",
      "  Downloading sridentify-0.8.0.tar.gz (385 kB)\n",
      "\u001b[K     |████████████████████████████████| 385 kB 2.2 MB/s eta 0:00:01\n",
      "\u001b[?25hBuilding wheels for collected packages: sridentify\n",
      "  Building wheel for sridentify (setup.py) ... \u001b[?25ldone\n",
      "\u001b[?25h  Created wheel for sridentify: filename=sridentify-0.8.0-py2.py3-none-any.whl size=397586 sha256=17cabf596fdd11a5973ba87b184c73585e6281a5ad10881bc969414beb463c33\n",
      "  Stored in directory: /Users/shelanahrahman/Library/Caches/pip/wheels/23/df/17/b4b1fc920217a9103f3f2eed55281074f53f689682323cdcbe\n",
      "Successfully built sridentify\n",
      "Installing collected packages: sridentify\n",
      "Successfully installed sridentify-0.8.0\n",
      "Note: you may need to restart the kernel to use updated packages.\n"
     ]
    }
   ],
   "source": [
    "pip install sridentify"
   ]
  },
  {
   "cell_type": "code",
   "execution_count": 13,
   "metadata": {},
   "outputs": [
    {
     "ename": "ModuleNotFoundError",
     "evalue": "No module named 'osgeo'",
     "output_type": "error",
     "traceback": [
      "\u001b[0;31m---------------------------------------------------------------------------\u001b[0m",
      "\u001b[0;31mModuleNotFoundError\u001b[0m                       Traceback (most recent call last)",
      "\u001b[0;32m<ipython-input-13-c0af0089cc50>\u001b[0m in \u001b[0;36m<module>\u001b[0;34m\u001b[0m\n\u001b[1;32m      1\u001b[0m \u001b[0;32mimport\u001b[0m \u001b[0msys\u001b[0m\u001b[0;34m\u001b[0m\u001b[0;34m\u001b[0m\u001b[0m\n\u001b[0;32m----> 2\u001b[0;31m \u001b[0;32mfrom\u001b[0m \u001b[0mosgeo\u001b[0m \u001b[0;32mimport\u001b[0m \u001b[0mosr\u001b[0m\u001b[0;34m\u001b[0m\u001b[0;34m\u001b[0m\u001b[0m\n\u001b[0m\u001b[1;32m      3\u001b[0m \u001b[0;34m\u001b[0m\u001b[0m\n\u001b[1;32m      4\u001b[0m \u001b[0;32mdef\u001b[0m \u001b[0mesriprj2standards\u001b[0m\u001b[0;34m(\u001b[0m\u001b[0mshapeprj_path\u001b[0m\u001b[0;34m)\u001b[0m\u001b[0;34m:\u001b[0m\u001b[0;34m\u001b[0m\u001b[0;34m\u001b[0m\u001b[0m\n\u001b[1;32m      5\u001b[0m     \u001b[0;32mwith\u001b[0m \u001b[0mopen\u001b[0m\u001b[0;34m(\u001b[0m\u001b[0mshapeprj_path\u001b[0m\u001b[0;34m,\u001b[0m \u001b[0;34m'r'\u001b[0m\u001b[0;34m)\u001b[0m \u001b[0;32mas\u001b[0m \u001b[0mf\u001b[0m\u001b[0;34m:\u001b[0m\u001b[0;34m\u001b[0m\u001b[0;34m\u001b[0m\u001b[0m\n",
      "\u001b[0;31mModuleNotFoundError\u001b[0m: No module named 'osgeo'"
     ]
    }
   ],
   "source": [
    "\n",
    "import sys\n",
    "from osgeo import osr\n",
    "\n",
    "def esriprj2standards(shapeprj_path):\n",
    "    with open(shapeprj_path, 'r') as f:\n",
    "        prj_txt = f.read()\n",
    "    srs = osr.SpatialReference()\n",
    "    srs.ImportFromESRI([prj_txt])\n",
    "    print('Shape prj is: ' + prj_txt)\n",
    "    print('WKT is: ' + str(srs.ExportToWkt()))\n",
    "    print('Proj4 is : ' + str(srs.ExportToProj4()))\n",
    "    srs.AutoIdentifyEPSG()\n",
    "    print('EPSG is: ' + str(srs.GetAuthorityCode(None)))\n",
    "\n",
    "esriprj2standards(sys.argv[1])"
   ]
  },
  {
   "cell_type": "code",
   "execution_count": 16,
   "metadata": {},
   "outputs": [
    {
     "name": "stdout",
     "output_type": "stream",
     "text": [
      "Requirement already satisfied: geopandas in /Users/shelanahrahman/opt/anaconda3/lib/python3.7/site-packages (0.9.0)\n",
      "Requirement already satisfied: shapely>=1.6 in /Users/shelanahrahman/opt/anaconda3/lib/python3.7/site-packages (from geopandas) (1.7.1)\n",
      "Requirement already satisfied: pyproj>=2.2.0 in /Users/shelanahrahman/opt/anaconda3/lib/python3.7/site-packages (from geopandas) (3.1.0)\n",
      "Requirement already satisfied: pandas>=0.24.0 in /Users/shelanahrahman/opt/anaconda3/lib/python3.7/site-packages (from geopandas) (1.3.0)\n",
      "Requirement already satisfied: fiona>=1.8 in /Users/shelanahrahman/opt/anaconda3/lib/python3.7/site-packages (from geopandas) (1.8.20)\n",
      "Requirement already satisfied: setuptools in /Users/shelanahrahman/opt/anaconda3/lib/python3.7/site-packages (from fiona>=1.8->geopandas) (52.0.0.post20210125)\n",
      "Requirement already satisfied: munch in /Users/shelanahrahman/opt/anaconda3/lib/python3.7/site-packages (from fiona>=1.8->geopandas) (2.5.0)\n",
      "Requirement already satisfied: click>=4.0 in /Users/shelanahrahman/opt/anaconda3/lib/python3.7/site-packages (from fiona>=1.8->geopandas) (8.0.1)\n",
      "Requirement already satisfied: cligj>=0.5 in /Users/shelanahrahman/opt/anaconda3/lib/python3.7/site-packages (from fiona>=1.8->geopandas) (0.7.2)\n",
      "Requirement already satisfied: click-plugins>=1.0 in /Users/shelanahrahman/opt/anaconda3/lib/python3.7/site-packages (from fiona>=1.8->geopandas) (1.1.1)\n",
      "Requirement already satisfied: attrs>=17 in /Users/shelanahrahman/opt/anaconda3/lib/python3.7/site-packages (from fiona>=1.8->geopandas) (21.2.0)\n",
      "Requirement already satisfied: certifi in /Users/shelanahrahman/opt/anaconda3/lib/python3.7/site-packages (from fiona>=1.8->geopandas) (2021.5.30)\n",
      "Requirement already satisfied: six>=1.7 in /Users/shelanahrahman/opt/anaconda3/lib/python3.7/site-packages (from fiona>=1.8->geopandas) (1.16.0)\n",
      "Requirement already satisfied: importlib-metadata in /Users/shelanahrahman/opt/anaconda3/lib/python3.7/site-packages (from click>=4.0->fiona>=1.8->geopandas) (3.10.0)\n",
      "Requirement already satisfied: numpy>=1.17.3 in /Users/shelanahrahman/opt/anaconda3/lib/python3.7/site-packages (from pandas>=0.24.0->geopandas) (1.20.3)\n",
      "Requirement already satisfied: python-dateutil>=2.7.3 in /Users/shelanahrahman/opt/anaconda3/lib/python3.7/site-packages (from pandas>=0.24.0->geopandas) (2.8.2)\n",
      "Requirement already satisfied: pytz>=2017.3 in /Users/shelanahrahman/opt/anaconda3/lib/python3.7/site-packages (from pandas>=0.24.0->geopandas) (2021.1)\n",
      "Requirement already satisfied: typing-extensions>=3.6.4 in /Users/shelanahrahman/opt/anaconda3/lib/python3.7/site-packages (from importlib-metadata->click>=4.0->fiona>=1.8->geopandas) (3.10.0.0)\n",
      "Requirement already satisfied: zipp>=0.5 in /Users/shelanahrahman/opt/anaconda3/lib/python3.7/site-packages (from importlib-metadata->click>=4.0->fiona>=1.8->geopandas) (3.5.0)\n",
      "Note: you may need to restart the kernel to use updated packages.\n"
     ]
    }
   ],
   "source": [
    "pip install geopandas"
   ]
  },
  {
   "cell_type": "code",
   "execution_count": null,
   "metadata": {},
   "outputs": [],
   "source": []
  }
 ],
 "metadata": {
  "kernelspec": {
   "display_name": "Python 3",
   "language": "python",
   "name": "python3"
  },
  "language_info": {
   "codemirror_mode": {
    "name": "ipython",
    "version": 3
   },
   "file_extension": ".py",
   "mimetype": "text/x-python",
   "name": "python",
   "nbconvert_exporter": "python",
   "pygments_lexer": "ipython3",
   "version": "3.7.4"
  }
 },
 "nbformat": 4,
 "nbformat_minor": 2
}
