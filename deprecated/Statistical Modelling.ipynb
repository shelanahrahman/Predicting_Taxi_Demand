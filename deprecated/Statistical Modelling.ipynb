{
 "cells": [
  {
   "cell_type": "code",
   "execution_count": 1,
   "id": "5ea6fb1d",
   "metadata": {},
   "outputs": [],
   "source": [
    "import pandas as pd\n",
    "import numpy as np\n",
    "import seaborn as sns\n",
    "import scipy.stats as stats\n",
    "import matplotlib.pyplot as plt\n",
    "from datetime import datetime\n",
    "from sklearn.cluster import KMeans\n",
    "from sklearn.model_selection import RandomizedSearchCV, validation_curve\n",
    "from sklearn.feature_selection import SelectKBest, chi2, f_regression, mutual_info_classif,  f_classif\n",
    "from sklearn.metrics import plot_confusion_matrix, classification_report\n",
    "import zipfile\n",
    "from pyproj import Proj, transform\n",
    "import geopandas as gpd\n",
    "import shapefile\n",
    "# a nice way of filtering out deprecated warnings\n",
    "import warnings\n",
    "import geopandas as gpd\n",
    "warnings.filterwarnings(\"ignore\")\n",
    "from sklearn.ensemble import RandomForestClassifier\n",
    "from sklearn.metrics import f1_score,confusion_matrix\n",
    "from sklearn.metrics import accuracy_score"
   ]
  },
  {
   "cell_type": "code",
   "execution_count": 2,
   "id": "baceed5f",
   "metadata": {},
   "outputs": [],
   "source": [
    "trainingdf= pd.read_csv('../preprocessed_data/revisedtrainingdf.csv')\n",
    "testingdf= pd.read_csv('../preprocessed_data/revisedtestingdf.csv')\n",
    "\n",
    "X_train=trainingdf.iloc[:, 1:]\n",
    "y_train=trainingdf.iloc[:,0]\n",
    "X_test=testingdf.iloc[:,1:]\n",
    "y_test=testingdf.iloc[:,0]"
   ]
  },
  {
   "cell_type": "code",
   "execution_count": 3,
   "id": "2a54f6ce",
   "metadata": {},
   "outputs": [
    {
     "data": {
      "text/plain": [
       "(Index(['time session', 'PULocationID', 'tip_amount', 'improvement_surcharge',\n",
       "        'total_amount', 'avespeed_mileshr', 'day', 'DOLocationID',\n",
       "        'total_trip_duration', 'tempF'],\n",
       "       dtype='object'),\n",
       " Index(['time session', 'PULocationID', 'tip_amount', 'improvement_surcharge',\n",
       "        'total_amount', 'avespeed_mileshr', 'day', 'DOLocationID',\n",
       "        'total_trip_duration', 'tempF'],\n",
       "       dtype='object'))"
      ]
     },
     "execution_count": 3,
     "metadata": {},
     "output_type": "execute_result"
    }
   ],
   "source": [
    "X_train.columns,  X_test.columns"
   ]
  },
  {
   "cell_type": "code",
   "execution_count": 4,
   "id": "c52b0631",
   "metadata": {},
   "outputs": [
    {
     "data": {
      "text/plain": [
       "(0         low\n",
       " 1         med\n",
       " 2        high\n",
       " 3         low\n",
       " 4        high\n",
       "          ... \n",
       " 23342     med\n",
       " 23343     low\n",
       " 23344     low\n",
       " 23345     low\n",
       " 23346     med\n",
       " Name: trip demand, Length: 23347, dtype: object,\n",
       " 0         med\n",
       " 1         med\n",
       " 2         low\n",
       " 3         low\n",
       " 4        high\n",
       "          ... \n",
       " 11725     med\n",
       " 11726     low\n",
       " 11727     low\n",
       " 11728     low\n",
       " 11729     med\n",
       " Name: trip demand, Length: 11730, dtype: object)"
      ]
     },
     "execution_count": 4,
     "metadata": {},
     "output_type": "execute_result"
    }
   ],
   "source": [
    "y_train, y_test"
   ]
  },
  {
   "cell_type": "code",
   "execution_count": 29,
   "id": "100aed93",
   "metadata": {},
   "outputs": [
    {
     "name": "stdout",
     "output_type": "stream",
     "text": [
      "Training accuracy is:  1.0\n",
      "Testing accuracy is:  0.8530264279624894\n"
     ]
    },
    {
     "data": {
      "text/plain": [
       "<sklearn.metrics._plot.confusion_matrix.ConfusionMatrixDisplay at 0x13142aa50>"
      ]
     },
     "execution_count": 29,
     "metadata": {},
     "output_type": "execute_result"
    },
    {
     "data": {
      "image/png": "[encoded data removed]",
      "text/plain": [
       "<Figure size 432x288 with 2 Axes>"
      ]
     },
     "metadata": {
      "needs_background": "light"
     },
     "output_type": "display_data"
    }
   ],
   "source": [
    "clf_rf = RandomForestClassifier(random_state=43)      \n",
    "clr_rf = clf_rf.fit(X_train,y_train)\n",
    "y_pred_training= clf_rf.predict(X_train)\n",
    "ac = accuracy_score(y_train,y_pred_training)\n",
    "print('Training accuracy is: ',ac)\n",
    "y_pred_base= clf_rf.predict(X_test)\n",
    "ac = accuracy_score(y_test,y_pred_base)\n",
    "print('Testing accuracy is: ',ac)\n",
    "\n",
    "plot_confusion_matrix(clf_rf, X_test, y_test,\n",
    "                                 display_labels= ['Low', \"mid\",\"high\"],\n",
    "                                 cmap=plt.cm.Blues)"
   ]
  },
  {
   "cell_type": "markdown",
   "id": "c0cd33e8",
   "metadata": {},
   "source": [
    "Training accuracy is 100% where as training accuracy is 85%. This suggests that the data could be overfitting."
   ]
  },
  {
   "cell_type": "code",
   "execution_count": 30,
   "id": "1848254f",
   "metadata": {},
   "outputs": [
    {
     "name": "stdout",
     "output_type": "stream",
     "text": [
      "Model 1: \n",
      "              precision    recall  f1-score   support\n",
      "\n",
      "        high       0.88      0.91      0.90      3749\n",
      "         low       0.87      0.88      0.88      4100\n",
      "         med       0.80      0.77      0.78      3881\n",
      "\n",
      "    accuracy                           0.85     11730\n",
      "   macro avg       0.85      0.85      0.85     11730\n",
      "weighted avg       0.85      0.85      0.85     11730\n",
      "\n"
     ]
    }
   ],
   "source": [
    "print(\"Model 1: \")\n",
    "print(classification_report(y_test, y_pred_base))"
   ]
  },
  {
   "cell_type": "code",
   "execution_count": 7,
   "id": "805e3a94",
   "metadata": {},
   "outputs": [
    {
     "name": "stdout",
     "output_type": "stream",
     "text": [
      "Variable: PULocationID         Importance: 0.22\n",
      "Variable: total_amount         Importance: 0.15\n",
      "Variable: DOLocationID         Importance: 0.14\n",
      "Variable: avespeed_mileshr     Importance: 0.13\n",
      "Variable: total_trip_duration  Importance: 0.11\n",
      "Variable: tip_amount           Importance: 0.1\n",
      "Variable: tempF                Importance: 0.05\n",
      "Variable: time session         Importance: 0.04\n",
      "Variable: day                  Importance: 0.04\n",
      "Variable: improvement_surcharge Importance: 0.0\n"
     ]
    },
    {
     "data": {
      "text/plain": [
       "[None, None, None, None, None, None, None, None, None, None]"
      ]
     },
     "execution_count": 7,
     "metadata": {},
     "output_type": "execute_result"
    }
   ],
   "source": [
    "# Get numerical feature importances\n",
    "importances = list(clf_rf.feature_importances_)\n",
    "feature_list= list(X_train.columns)\n",
    "# List of tuples with variable and importance\n",
    "feature_importances = [(feature, round(importance, 2)) for feature, importance in zip(feature_list, importances)]\n",
    "# Sort the feature importances by most important first\n",
    "feature_importances = sorted(feature_importances, key = lambda x: x[1], reverse = True)\n",
    "# Print out the feature and importances \n",
    "[print('Variable: {:20} Importance: {}'.format(*pair)) for pair in feature_importances]"
   ]
  },
  {
   "cell_type": "code",
   "execution_count": 8,
   "id": "82b30f06",
   "metadata": {},
   "outputs": [],
   "source": [
    "X_train_2= X_train.drop(columns= \"improvement_surcharge\")\n",
    "X_test_2= X_test.drop(columns= \"improvement_surcharge\")"
   ]
  },
  {
   "cell_type": "code",
   "execution_count": 53,
   "id": "6e22b52d",
   "metadata": {},
   "outputs": [
    {
     "name": "stdout",
     "output_type": "stream",
     "text": [
      "Training accuracy is:  1.0\n",
      "Testing accuracy is:  0.8521739130434782\n"
     ]
    },
    {
     "data": {
      "text/plain": [
       "<sklearn.metrics._plot.confusion_matrix.ConfusionMatrixDisplay at 0x131e44310>"
      ]
     },
     "execution_count": 53,
     "metadata": {},
     "output_type": "execute_result"
    },
    {
     "data": {
      "image/png": "[encoded data removed]",
      "text/plain": [
       "<Figure size 432x288 with 2 Axes>"
      ]
     },
     "metadata": {
      "needs_background": "light"
     },
     "output_type": "display_data"
    }
   ],
   "source": [
    "clf_rf_2 = RandomForestClassifier(random_state=43,)      \n",
    "clr_rf_2 = clf_rf_2.fit(X_train_2,y_train)\n",
    "y_pred= clf_rf_2.predict(X_train_2)\n",
    "ac = accuracy_score(y_train,y_pred)\n",
    "print('Training accuracy is: ',ac)\n",
    "y_pred_2= clf_rf_2.predict(X_test_2)\n",
    "ac = accuracy_score(y_test, y_pred_2)\n",
    "print('Testing accuracy is: ', ac)\n",
    "\n",
    "plot_confusion_matrix(clf_rf_2, X_test_2, y_test,\n",
    "                                 display_labels= ['Low', \"mid\",\"high\"],\n",
    "                                 cmap=plt.cm.Blues)"
   ]
  },
  {
   "cell_type": "code",
   "execution_count": 32,
   "id": "926d8286",
   "metadata": {},
   "outputs": [
    {
     "name": "stdout",
     "output_type": "stream",
     "text": [
      "Base Model:\n",
      "               precision    recall  f1-score   support\n",
      "\n",
      "        high       0.88      0.91      0.90      3749\n",
      "         low       0.87      0.88      0.88      4100\n",
      "         med       0.80      0.77      0.78      3881\n",
      "\n",
      "    accuracy                           0.85     11730\n",
      "   macro avg       0.85      0.85      0.85     11730\n",
      "weighted avg       0.85      0.85      0.85     11730\n",
      "\n",
      "Model 2:\n",
      "               precision    recall  f1-score   support\n",
      "\n",
      "        high       0.87      0.91      0.89      3749\n",
      "         low       0.88      0.88      0.88      4100\n",
      "         med       0.80      0.76      0.78      3881\n",
      "\n",
      "    accuracy                           0.85     11730\n",
      "   macro avg       0.85      0.85      0.85     11730\n",
      "weighted avg       0.85      0.85      0.85     11730\n",
      "\n"
     ]
    }
   ],
   "source": [
    "print(\"Base Model:\\n\", classification_report(y_test, y_pred_base))\n",
    "print(\"Model 2:\\n\", classification_report(y_test, y_pred_2))"
   ]
  },
  {
   "cell_type": "code",
   "execution_count": 33,
   "id": "46de94bf",
   "metadata": {},
   "outputs": [
    {
     "name": "stdout",
     "output_type": "stream",
     "text": [
      "{'n_estimators': [200, 288, 377, 466, 555, 644, 733, 822, 911, 1000], 'max_features': ['auto'], 'max_depth': [15, 17, 20, None], 'min_samples_split': [2, 5, 10], 'min_samples_leaf': [1, 2, 5]}\n"
     ]
    }
   ],
   "source": [
    "from sklearn.model_selection import RandomizedSearchCV\n",
    "\n",
    "# Number of trees in random forest\n",
    "n_estimators = [int(x) for x in np.linspace(start = 200, stop = 1000, num = 10)]\n",
    "# Number of features to consider at every split\n",
    "max_features = ['auto']\n",
    "# Maximum number of levels in tree\n",
    "max_depth = [15, 17, 20]\n",
    "max_depth.append(None)\n",
    "# Minimum number of samples required to split a node\n",
    "min_samples_split = [2, 5, 10]\n",
    "# Minimum number of samples required at each leaf node\n",
    "min_samples_leaf = [1, 2, 5]\n",
    "\n",
    "# Create the random grid\n",
    "random_grid = {'n_estimators': n_estimators,\n",
    "               'max_features': max_features,\n",
    "               'max_depth': max_depth,\n",
    "               'min_samples_split': min_samples_split,\n",
    "               'min_samples_leaf': min_samples_leaf}\n",
    "\n",
    "print(random_grid)"
   ]
  },
  {
   "cell_type": "code",
   "execution_count": 34,
   "id": "375cd057",
   "metadata": {},
   "outputs": [
    {
     "name": "stdout",
     "output_type": "stream",
     "text": [
      "fitting...\n",
      "Fitting 10 folds for each of 10 candidates, totalling 100 fits\n"
     ]
    }
   ],
   "source": [
    "%timeit\n",
    "rf_random = RandomizedSearchCV(estimator= RandomForestClassifier(random_state=43), param_distributions=random_grid,\n",
    "                              cv=10, verbose=2,  n_jobs=-1)\n",
    "\n",
    "# Fit the random search model\n",
    "print(\"fitting...\")\n",
    "rf_random.fit(X_train, y_train);"
   ]
  },
  {
   "cell_type": "code",
   "execution_count": 36,
   "id": "433c2fd3",
   "metadata": {},
   "outputs": [
    {
     "data": {
      "text/plain": [
       "{'n_estimators': 466,\n",
       " 'min_samples_split': 2,\n",
       " 'min_samples_leaf': 1,\n",
       " 'max_features': 'auto',\n",
       " 'max_depth': 20}"
      ]
     },
     "execution_count": 36,
     "metadata": {},
     "output_type": "execute_result"
    }
   ],
   "source": [
    "rf_random.best_params_"
   ]
  },
  {
   "cell_type": "code",
   "execution_count": 43,
   "id": "d05c106e",
   "metadata": {},
   "outputs": [
    {
     "data": {
      "text/plain": [
       "RandomForestClassifier(max_depth=20, n_estimators=466, random_state=43)"
      ]
     },
     "execution_count": 43,
     "metadata": {},
     "output_type": "execute_result"
    }
   ],
   "source": [
    "rf_random.best_estimator_"
   ]
  },
  {
   "cell_type": "code",
   "execution_count": 63,
   "id": "1414982f",
   "metadata": {},
   "outputs": [
    {
     "name": "stdout",
     "output_type": "stream",
     "text": [
      "Training accuracy is:  0.9988435345012208\n",
      "Testing accuracy is:  0.8531969309462916\n"
     ]
    },
    {
     "data": {
      "text/plain": [
       "<sklearn.metrics._plot.confusion_matrix.ConfusionMatrixDisplay at 0x134f1ee10>"
      ]
     },
     "execution_count": 63,
     "metadata": {},
     "output_type": "execute_result"
    },
    {
     "data": {
      "image/png": "[encoded data removed]",
      "text/plain": [
       "<Figure size 432x288 with 2 Axes>"
      ]
     },
     "metadata": {
      "needs_background": "light"
     },
     "output_type": "display_data"
    }
   ],
   "source": [
    "clf_rf_3 = RandomForestClassifier(max_depth=20, n_estimators=466, random_state=43)   \n",
    "clr_rf_3 = clf_rf_3.fit(X_train, y_train)\n",
    "y_pred_3= clf_rf_3.predict(X_train)\n",
    "ac = accuracy_score(y_train,y_pred_3)\n",
    "print('Training accuracy is: ',ac)\n",
    "y_pred_3= clf_rf_3.predict(X_test)\n",
    "ac = accuracy_score(y_test, y_pred_3)\n",
    "print('Testing accuracy is: ', ac)\n",
    "\n",
    "plot_confusion_matrix(clf_rf_3, X_test, y_test,\n",
    "                                 display_labels= ['Low', \"mid\",\"high\"],\n",
    "                                 cmap=plt.cm.Blues)"
   ]
  },
  {
   "cell_type": "code",
   "execution_count": 64,
   "id": "44714c5d",
   "metadata": {},
   "outputs": [
    {
     "name": "stdout",
     "output_type": "stream",
     "text": [
      "Base Model:\n",
      "               precision    recall  f1-score   support\n",
      "\n",
      "        high       0.88      0.91      0.90      3749\n",
      "         low       0.87      0.88      0.88      4100\n",
      "         med       0.80      0.77      0.78      3881\n",
      "\n",
      "    accuracy                           0.85     11730\n",
      "   macro avg       0.85      0.85      0.85     11730\n",
      "weighted avg       0.85      0.85      0.85     11730\n",
      "\n",
      "Model 3:\n",
      "               precision    recall  f1-score   support\n",
      "\n",
      "        high       0.88      0.91      0.90      3749\n",
      "         low       0.87      0.88      0.88      4100\n",
      "         med       0.80      0.76      0.78      3881\n",
      "\n",
      "    accuracy                           0.85     11730\n",
      "   macro avg       0.85      0.85      0.85     11730\n",
      "weighted avg       0.85      0.85      0.85     11730\n",
      "\n"
     ]
    }
   ],
   "source": [
    "print(\"Base Model:\\n\", classification_report(y_test, y_pred_base))\n",
    "print(\"Model 3:\\n\", classification_report(y_test, y_pred_3))"
   ]
  },
  {
   "cell_type": "code",
   "execution_count": 57,
   "id": "6b338dfa",
   "metadata": {},
   "outputs": [
    {
     "name": "stdout",
     "output_type": "stream",
     "text": [
      "Variable: PULocationID         Importance: 0.22\n",
      "Variable: total_amount         Importance: 0.15\n",
      "Variable: DOLocationID         Importance: 0.15\n",
      "Variable: avespeed_mileshr     Importance: 0.14\n",
      "Variable: tip_amount           Importance: 0.11\n",
      "Variable: total_trip_duration  Importance: 0.11\n",
      "Variable: tempF                Importance: 0.05\n",
      "Variable: time session         Importance: 0.04\n",
      "Variable: day                  Importance: 0.04\n",
      "Variable: improvement_surcharge Importance: 0.0\n"
     ]
    },
    {
     "data": {
      "text/plain": [
       "[None, None, None, None, None, None, None, None, None, None]"
      ]
     },
     "execution_count": 57,
     "metadata": {},
     "output_type": "execute_result"
    }
   ],
   "source": [
    "# Get numerical feature importances\n",
    "importances = list(clf_rf_3.feature_importances_)\n",
    "feature_list= list(X_train.columns)\n",
    "# List of tuples with variable and importance\n",
    "feature_importances = [(feature, round(importance, 2)) for feature, importance in zip(feature_list, importances)]\n",
    "# Sort the feature importances by most important first\n",
    "feature_importances = sorted(feature_importances, key = lambda x: x[1], reverse = True)\n",
    "# Print out the feature and importances \n",
    "[print('Variable: {:20} Importance: {}'.format(*pair)) for pair in feature_importances]"
   ]
  },
  {
   "cell_type": "code",
   "execution_count": 59,
   "id": "99aab2df",
   "metadata": {},
   "outputs": [
    {
     "name": "stdout",
     "output_type": "stream",
     "text": [
      "Training accuracy is:  0.9988435345012208\n",
      "Testing accuracy is:  0.8569479965899404\n"
     ]
    },
    {
     "data": {
      "text/plain": [
       "<sklearn.metrics._plot.confusion_matrix.ConfusionMatrixDisplay at 0x1489a7050>"
      ]
     },
     "execution_count": 59,
     "metadata": {},
     "output_type": "execute_result"
    },
    {
     "data": {
      "image/png": "[encoded data removed]",
      "text/plain": [
       "<Figure size 432x288 with 2 Axes>"
      ]
     },
     "metadata": {
      "needs_background": "light"
     },
     "output_type": "display_data"
    }
   ],
   "source": [
    "clf_rf_3 = RandomForestClassifier(max_depth=20, n_estimators=466, random_state=43)   \n",
    "clr_rf_3 = clf_rf_3.fit(X_train_2, y_train)\n",
    "y_pred_4= clf_rf_3.predict(X_train_2)\n",
    "ac = accuracy_score(y_train,y_pred_4)\n",
    "print('Training accuracy is: ',ac)\n",
    "y_pred_4= clf_rf_3.predict(X_test_2)\n",
    "ac = accuracy_score(y_test, y_pred_4)\n",
    "print('Testing accuracy is: ', ac)\n",
    "\n",
    "plot_confusion_matrix(clf_rf_3, X_test_2, y_test,\n",
    "                                 display_labels= ['Low', \"mid\",\"high\"],\n",
    "                                 cmap=plt.cm.Blues)"
   ]
  },
  {
   "cell_type": "code",
   "execution_count": 66,
   "id": "b20e41bc",
   "metadata": {},
   "outputs": [
    {
     "name": "stdout",
     "output_type": "stream",
     "text": [
      "Base Model:\n",
      "               precision    recall  f1-score   support\n",
      "\n",
      "        high       0.88      0.91      0.90      3749\n",
      "         low       0.87      0.88      0.88      4100\n",
      "         med       0.80      0.77      0.78      3881\n",
      "\n",
      "    accuracy                           0.85     11730\n",
      "   macro avg       0.85      0.85      0.85     11730\n",
      "weighted avg       0.85      0.85      0.85     11730\n",
      "\n",
      "Model 4:\n",
      "               precision    recall  f1-score   support\n",
      "\n",
      "        high       0.89      0.91      0.90      3749\n",
      "         low       0.88      0.89      0.88      4100\n",
      "         med       0.81      0.77      0.79      3881\n",
      "\n",
      "    accuracy                           0.86     11730\n",
      "   macro avg       0.86      0.86      0.86     11730\n",
      "weighted avg       0.86      0.86      0.86     11730\n",
      "\n"
     ]
    }
   ],
   "source": [
    "print(\"Base Model:\\n\", classification_report(y_test, y_pred_base))\n",
    "print(\"Model 4:\\n\", classification_report(y_test, y_pred_4))"
   ]
  },
  {
   "cell_type": "code",
   "execution_count": null,
   "id": "b935cf62",
   "metadata": {},
   "outputs": [],
   "source": []
  }
 ],
 "metadata": {
  "kernelspec": {
   "display_name": "Python 3 (ipykernel)",
   "language": "python",
   "name": "python3"
  },
  "language_info": {
   "codemirror_mode": {
    "name": "ipython",
    "version": 3
   },
   "file_extension": ".py",
   "mimetype": "text/x-python",
   "name": "python",
   "nbconvert_exporter": "python",
   "pygments_lexer": "ipython3",
   "version": "3.7.4"
  }
 },
 "nbformat": 4,
 "nbformat_minor": 5
}
